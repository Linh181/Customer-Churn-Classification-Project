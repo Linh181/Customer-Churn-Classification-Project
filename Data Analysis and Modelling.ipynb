{
 "cells": [
  {
   "cell_type": "markdown",
   "metadata": {},
   "source": [
    "## A Classification Project\n",
    "*By Linh Nguyen*\n",
    "\n",
    "The report will follow the following sections: \n",
    "1. Problem Framing \n",
    "2. Data Exploration\n",
    "3. Data Preprocessing and Model Tuning\n",
    "4. Results\n",
    "5. Application to the test dataset"
   ]
  },
  {
   "cell_type": "markdown",
   "metadata": {},
   "source": [
    "### 1. Problem Framing\n",
    "\n",
    "In marketing, the churn rate (or customer churn, or customer attrition) describes the proportion of customers, users, players, or subscribers that quit their business/subscription or, more in general, end the relationship with a\n",
    "company. \n",
    "\n",
    "The task is to predict whether or not a customer will churn given a large dataset of a telephone company. The churn dataset is collected in the file \"churn_train.csv\", which relates the characteristics of telephony account (clients) features, their usage and whether or not the customer churned. In particular, the training dataset consists of 4000 observations, and 20 features. The target is a binary variable, denoting whether the customer\n",
    "left the company (class 1), or not (class 0). For the phone company, the characteristics of the accounts that churned are of particular interest, in order to prevent more clients from churning in the future. Therefore, for this problem Class 1 is the positive class. \n",
    "\n",
    "Thus, this is a **supervised** learning problem, and in particular, it is a **classification** problem where the output is categorical (churn and not churn). We will try to find a way to predict the classes, such that the **AUC score** is maximized. \n",
    "AUC - ROC curve is a performance measurement for classification problem at various thresholds settings. The receiver operating characteristic (ROC) is a probability curve and the area under ROC (AUC) represents degree or measure of separability. It tells how much model is capable of distinguishing between classes. The higher the AUC, the better the model is at predicting the right positive and negative class. By analogy, the higher the AUC, the better the model is at distinguishing between customers that churn and not churn.\n"
   ]
  },
  {
   "cell_type": "markdown",
   "metadata": {},
   "source": [
    "### 2. Data Exploration"
   ]
  },
  {
   "cell_type": "code",
   "execution_count": 1,
   "metadata": {},
   "outputs": [],
   "source": [
    "import pandas as pd \n",
    "import numpy as np\n",
    "%matplotlib inline\n",
    "import matplotlib.pyplot as plt "
   ]
  },
  {
   "cell_type": "markdown",
   "metadata": {
    "colab": {},
    "colab_type": "code",
    "id": "YWCDWY5F_ZCa"
   },
   "source": [
    "First, we will load the training dataset into the dataframe `df_churn` and take a look at the first 5 observations."
   ]
  },
  {
   "cell_type": "code",
   "execution_count": 2,
   "metadata": {
    "colab": {
     "base_uri": "https://localhost:8080/",
     "height": 215
    },
    "colab_type": "code",
    "id": "4m3Z9vZfK9ow",
    "outputId": "bce28674-e71b-4032-f152-29f9f99e51b5"
   },
   "outputs": [
    {
     "data": {
      "text/html": [
       "<div>\n",
       "<style scoped>\n",
       "    .dataframe tbody tr th:only-of-type {\n",
       "        vertical-align: middle;\n",
       "    }\n",
       "\n",
       "    .dataframe tbody tr th {\n",
       "        vertical-align: top;\n",
       "    }\n",
       "\n",
       "    .dataframe thead th {\n",
       "        text-align: right;\n",
       "    }\n",
       "</style>\n",
       "<table border=\"1\" class=\"dataframe\">\n",
       "  <thead>\n",
       "    <tr style=\"text-align: right;\">\n",
       "      <th></th>\n",
       "      <th>state</th>\n",
       "      <th>account_length</th>\n",
       "      <th>area_code</th>\n",
       "      <th>phone_number</th>\n",
       "      <th>international_plan</th>\n",
       "      <th>voice_mail_plan</th>\n",
       "      <th>number_vmail_messages</th>\n",
       "      <th>total_day_minutes</th>\n",
       "      <th>total_day_calls</th>\n",
       "      <th>total_day_charge</th>\n",
       "      <th>...</th>\n",
       "      <th>total_eve_calls</th>\n",
       "      <th>total_eve_charge</th>\n",
       "      <th>total_night_minutes</th>\n",
       "      <th>total_night_calls</th>\n",
       "      <th>total_night_charge</th>\n",
       "      <th>total_intl_minutes</th>\n",
       "      <th>total_intl_calls</th>\n",
       "      <th>total_intl_charge</th>\n",
       "      <th>number_customer_service_calls</th>\n",
       "      <th>churn</th>\n",
       "    </tr>\n",
       "  </thead>\n",
       "  <tbody>\n",
       "    <tr>\n",
       "      <th>0</th>\n",
       "      <td>45.0</td>\n",
       "      <td>106</td>\n",
       "      <td>1.0</td>\n",
       "      <td>1395</td>\n",
       "      <td>0.0</td>\n",
       "      <td>0.0</td>\n",
       "      <td>0</td>\n",
       "      <td>235.2</td>\n",
       "      <td>121</td>\n",
       "      <td>39.98</td>\n",
       "      <td>...</td>\n",
       "      <td>87</td>\n",
       "      <td>18.75</td>\n",
       "      <td>236.3</td>\n",
       "      <td>91</td>\n",
       "      <td>10.63</td>\n",
       "      <td>11.8</td>\n",
       "      <td>4.0</td>\n",
       "      <td>3.19</td>\n",
       "      <td>1.0</td>\n",
       "      <td>0</td>\n",
       "    </tr>\n",
       "    <tr>\n",
       "      <th>1</th>\n",
       "      <td>44.0</td>\n",
       "      <td>51</td>\n",
       "      <td>0.0</td>\n",
       "      <td>4191</td>\n",
       "      <td>0.0</td>\n",
       "      <td>1.0</td>\n",
       "      <td>0</td>\n",
       "      <td>212.9</td>\n",
       "      <td>80</td>\n",
       "      <td>36.19</td>\n",
       "      <td>...</td>\n",
       "      <td>57</td>\n",
       "      <td>20.07</td>\n",
       "      <td>187.6</td>\n",
       "      <td>99</td>\n",
       "      <td>8.44</td>\n",
       "      <td>8.8</td>\n",
       "      <td>4.0</td>\n",
       "      <td>2.38</td>\n",
       "      <td>2.0</td>\n",
       "      <td>0</td>\n",
       "    </tr>\n",
       "    <tr>\n",
       "      <th>2</th>\n",
       "      <td>10.0</td>\n",
       "      <td>64</td>\n",
       "      <td>2.0</td>\n",
       "      <td>4508</td>\n",
       "      <td>0.0</td>\n",
       "      <td>0.0</td>\n",
       "      <td>0</td>\n",
       "      <td>216.9</td>\n",
       "      <td>78</td>\n",
       "      <td>36.87</td>\n",
       "      <td>...</td>\n",
       "      <td>115</td>\n",
       "      <td>17.94</td>\n",
       "      <td>179.8</td>\n",
       "      <td>116</td>\n",
       "      <td>8.09</td>\n",
       "      <td>11.4</td>\n",
       "      <td>5.0</td>\n",
       "      <td>3.08</td>\n",
       "      <td>3.0</td>\n",
       "      <td>0</td>\n",
       "    </tr>\n",
       "    <tr>\n",
       "      <th>3</th>\n",
       "      <td>31.0</td>\n",
       "      <td>59</td>\n",
       "      <td>2.0</td>\n",
       "      <td>1041</td>\n",
       "      <td>1.0</td>\n",
       "      <td>1.0</td>\n",
       "      <td>31</td>\n",
       "      <td>225.0</td>\n",
       "      <td>78</td>\n",
       "      <td>38.25</td>\n",
       "      <td>...</td>\n",
       "      <td>79</td>\n",
       "      <td>16.26</td>\n",
       "      <td>226.7</td>\n",
       "      <td>79</td>\n",
       "      <td>10.20</td>\n",
       "      <td>9.1</td>\n",
       "      <td>3.0</td>\n",
       "      <td>2.46</td>\n",
       "      <td>NaN</td>\n",
       "      <td>0</td>\n",
       "    </tr>\n",
       "    <tr>\n",
       "      <th>4</th>\n",
       "      <td>8.0</td>\n",
       "      <td>136</td>\n",
       "      <td>1.0</td>\n",
       "      <td>1349</td>\n",
       "      <td>0.0</td>\n",
       "      <td>0.0</td>\n",
       "      <td>0</td>\n",
       "      <td>101.7</td>\n",
       "      <td>105</td>\n",
       "      <td>17.29</td>\n",
       "      <td>...</td>\n",
       "      <td>99</td>\n",
       "      <td>17.24</td>\n",
       "      <td>136.2</td>\n",
       "      <td>119</td>\n",
       "      <td>6.13</td>\n",
       "      <td>9.4</td>\n",
       "      <td>6.0</td>\n",
       "      <td>2.54</td>\n",
       "      <td>3.0</td>\n",
       "      <td>0</td>\n",
       "    </tr>\n",
       "  </tbody>\n",
       "</table>\n",
       "<p>5 rows × 21 columns</p>\n",
       "</div>"
      ],
      "text/plain": [
       "   state  account_length  area_code  phone_number  international_plan  \\\n",
       "0   45.0             106        1.0          1395                 0.0   \n",
       "1   44.0              51        0.0          4191                 0.0   \n",
       "2   10.0              64        2.0          4508                 0.0   \n",
       "3   31.0              59        2.0          1041                 1.0   \n",
       "4    8.0             136        1.0          1349                 0.0   \n",
       "\n",
       "   voice_mail_plan  number_vmail_messages  total_day_minutes  total_day_calls  \\\n",
       "0              0.0                      0              235.2              121   \n",
       "1              1.0                      0              212.9               80   \n",
       "2              0.0                      0              216.9               78   \n",
       "3              1.0                     31              225.0               78   \n",
       "4              0.0                      0              101.7              105   \n",
       "\n",
       "   total_day_charge  ...  total_eve_calls  total_eve_charge  \\\n",
       "0             39.98  ...               87             18.75   \n",
       "1             36.19  ...               57             20.07   \n",
       "2             36.87  ...              115             17.94   \n",
       "3             38.25  ...               79             16.26   \n",
       "4             17.29  ...               99             17.24   \n",
       "\n",
       "   total_night_minutes  total_night_calls  total_night_charge  \\\n",
       "0                236.3                 91               10.63   \n",
       "1                187.6                 99                8.44   \n",
       "2                179.8                116                8.09   \n",
       "3                226.7                 79               10.20   \n",
       "4                136.2                119                6.13   \n",
       "\n",
       "   total_intl_minutes  total_intl_calls  total_intl_charge  \\\n",
       "0                11.8               4.0               3.19   \n",
       "1                 8.8               4.0               2.38   \n",
       "2                11.4               5.0               3.08   \n",
       "3                 9.1               3.0               2.46   \n",
       "4                 9.4               6.0               2.54   \n",
       "\n",
       "   number_customer_service_calls  churn  \n",
       "0                            1.0      0  \n",
       "1                            2.0      0  \n",
       "2                            3.0      0  \n",
       "3                            NaN      0  \n",
       "4                            3.0      0  \n",
       "\n",
       "[5 rows x 21 columns]"
      ]
     },
     "execution_count": 2,
     "metadata": {},
     "output_type": "execute_result"
    }
   ],
   "source": [
    "df_churn = pd.read_csv('churn_train.csv')\n",
    "df_churn.head()"
   ]
  },
  {
   "cell_type": "markdown",
   "metadata": {},
   "source": [
    "Next, we will explore the **data type** of each features."
   ]
  },
  {
   "cell_type": "code",
   "execution_count": 3,
   "metadata": {
    "colab": {
     "base_uri": "https://localhost:8080/",
     "height": 487
    },
    "colab_type": "code",
    "id": "oI4h0DsAeoq6",
    "outputId": "a0b2abe6-a196-4e0b-9c41-d2733cd7f5a4"
   },
   "outputs": [
    {
     "name": "stdout",
     "output_type": "stream",
     "text": [
      "<class 'pandas.core.frame.DataFrame'>\n",
      "RangeIndex: 4000 entries, 0 to 3999\n",
      "Data columns (total 21 columns):\n",
      "state                            4000 non-null float64\n",
      "account_length                   4000 non-null int64\n",
      "area_code                        3811 non-null float64\n",
      "phone_number                     4000 non-null int64\n",
      "international_plan               4000 non-null float64\n",
      "voice_mail_plan                  4000 non-null float64\n",
      "number_vmail_messages            4000 non-null int64\n",
      "total_day_minutes                4000 non-null float64\n",
      "total_day_calls                  4000 non-null int64\n",
      "total_day_charge                 4000 non-null float64\n",
      "total_eve_minutes                4000 non-null float64\n",
      "total_eve_calls                  4000 non-null int64\n",
      "total_eve_charge                 4000 non-null float64\n",
      "total_night_minutes              4000 non-null float64\n",
      "total_night_calls                4000 non-null int64\n",
      "total_night_charge               4000 non-null float64\n",
      "total_intl_minutes               4000 non-null float64\n",
      "total_intl_calls                 2924 non-null float64\n",
      "total_intl_charge                4000 non-null float64\n",
      "number_customer_service_calls    3661 non-null float64\n",
      "churn                            4000 non-null int64\n",
      "dtypes: float64(14), int64(7)\n",
      "memory usage: 656.3 KB\n"
     ]
    }
   ],
   "source": [
    "df_churn.info()"
   ]
  },
  {
   "cell_type": "markdown",
   "metadata": {
    "colab_type": "text",
    "id": "qSGApxXkF2KU"
   },
   "source": [
    "Here we can see that `churn` is a **dichotomous** variable, just like the `international_plan` and `voice_mail_plan`. The `area_code` and `state` are **nominal** variables. Others are **continuous** varivables."
   ]
  },
  {
   "cell_type": "code",
   "execution_count": 4,
   "metadata": {
    "colab": {
     "base_uri": "https://localhost:8080/",
     "height": 304
    },
    "colab_type": "code",
    "id": "F9eBJ9w0cjKJ",
    "outputId": "1beb697d-4692-4e6e-c177-ecead8edbe04"
   },
   "outputs": [
    {
     "data": {
      "text/html": [
       "<div>\n",
       "<style scoped>\n",
       "    .dataframe tbody tr th:only-of-type {\n",
       "        vertical-align: middle;\n",
       "    }\n",
       "\n",
       "    .dataframe tbody tr th {\n",
       "        vertical-align: top;\n",
       "    }\n",
       "\n",
       "    .dataframe thead th {\n",
       "        text-align: right;\n",
       "    }\n",
       "</style>\n",
       "<table border=\"1\" class=\"dataframe\">\n",
       "  <thead>\n",
       "    <tr style=\"text-align: right;\">\n",
       "      <th></th>\n",
       "      <th>state</th>\n",
       "      <th>account_length</th>\n",
       "      <th>area_code</th>\n",
       "      <th>phone_number</th>\n",
       "      <th>international_plan</th>\n",
       "      <th>voice_mail_plan</th>\n",
       "      <th>number_vmail_messages</th>\n",
       "      <th>total_day_minutes</th>\n",
       "      <th>total_day_calls</th>\n",
       "      <th>total_day_charge</th>\n",
       "      <th>...</th>\n",
       "      <th>total_eve_calls</th>\n",
       "      <th>total_eve_charge</th>\n",
       "      <th>total_night_minutes</th>\n",
       "      <th>total_night_calls</th>\n",
       "      <th>total_night_charge</th>\n",
       "      <th>total_intl_minutes</th>\n",
       "      <th>total_intl_calls</th>\n",
       "      <th>total_intl_charge</th>\n",
       "      <th>number_customer_service_calls</th>\n",
       "      <th>churn</th>\n",
       "    </tr>\n",
       "  </thead>\n",
       "  <tbody>\n",
       "    <tr>\n",
       "      <th>count</th>\n",
       "      <td>4000.000000</td>\n",
       "      <td>4000.000000</td>\n",
       "      <td>3811.000000</td>\n",
       "      <td>4000.000000</td>\n",
       "      <td>4000.000000</td>\n",
       "      <td>4000.000000</td>\n",
       "      <td>4000.000000</td>\n",
       "      <td>4000.000000</td>\n",
       "      <td>4000.000000</td>\n",
       "      <td>4000.000000</td>\n",
       "      <td>...</td>\n",
       "      <td>4000.000000</td>\n",
       "      <td>4000.000000</td>\n",
       "      <td>4000.000000</td>\n",
       "      <td>4000.000000</td>\n",
       "      <td>4000.000000</td>\n",
       "      <td>4000.000000</td>\n",
       "      <td>2924.000000</td>\n",
       "      <td>4000.000000</td>\n",
       "      <td>3661.000000</td>\n",
       "      <td>4000.00000</td>\n",
       "    </tr>\n",
       "    <tr>\n",
       "      <th>mean</th>\n",
       "      <td>25.959250</td>\n",
       "      <td>99.809000</td>\n",
       "      <td>0.998163</td>\n",
       "      <td>2506.523000</td>\n",
       "      <td>0.092250</td>\n",
       "      <td>0.264000</td>\n",
       "      <td>7.764250</td>\n",
       "      <td>181.076275</td>\n",
       "      <td>100.070500</td>\n",
       "      <td>30.783495</td>\n",
       "      <td>...</td>\n",
       "      <td>100.151500</td>\n",
       "      <td>17.084080</td>\n",
       "      <td>200.800350</td>\n",
       "      <td>99.987750</td>\n",
       "      <td>9.036140</td>\n",
       "      <td>10.277175</td>\n",
       "      <td>4.448358</td>\n",
       "      <td>2.775382</td>\n",
       "      <td>1.563234</td>\n",
       "      <td>0.14150</td>\n",
       "    </tr>\n",
       "    <tr>\n",
       "      <th>std</th>\n",
       "      <td>14.887276</td>\n",
       "      <td>39.897869</td>\n",
       "      <td>0.711913</td>\n",
       "      <td>1440.020472</td>\n",
       "      <td>0.289415</td>\n",
       "      <td>0.440854</td>\n",
       "      <td>13.569164</td>\n",
       "      <td>53.912842</td>\n",
       "      <td>19.684357</td>\n",
       "      <td>9.165125</td>\n",
       "      <td>...</td>\n",
       "      <td>19.770768</td>\n",
       "      <td>4.322081</td>\n",
       "      <td>50.884632</td>\n",
       "      <td>19.818181</td>\n",
       "      <td>2.289808</td>\n",
       "      <td>2.763613</td>\n",
       "      <td>2.438936</td>\n",
       "      <td>0.746127</td>\n",
       "      <td>1.295285</td>\n",
       "      <td>0.34858</td>\n",
       "    </tr>\n",
       "    <tr>\n",
       "      <th>min</th>\n",
       "      <td>0.000000</td>\n",
       "      <td>1.000000</td>\n",
       "      <td>0.000000</td>\n",
       "      <td>0.000000</td>\n",
       "      <td>0.000000</td>\n",
       "      <td>0.000000</td>\n",
       "      <td>0.000000</td>\n",
       "      <td>6.600000</td>\n",
       "      <td>30.000000</td>\n",
       "      <td>1.120000</td>\n",
       "      <td>...</td>\n",
       "      <td>12.000000</td>\n",
       "      <td>2.650000</td>\n",
       "      <td>0.000000</td>\n",
       "      <td>0.000000</td>\n",
       "      <td>0.000000</td>\n",
       "      <td>0.000000</td>\n",
       "      <td>0.000000</td>\n",
       "      <td>0.000000</td>\n",
       "      <td>0.000000</td>\n",
       "      <td>0.00000</td>\n",
       "    </tr>\n",
       "    <tr>\n",
       "      <th>25%</th>\n",
       "      <td>13.000000</td>\n",
       "      <td>73.000000</td>\n",
       "      <td>0.000000</td>\n",
       "      <td>1269.750000</td>\n",
       "      <td>0.000000</td>\n",
       "      <td>0.000000</td>\n",
       "      <td>0.000000</td>\n",
       "      <td>144.100000</td>\n",
       "      <td>87.000000</td>\n",
       "      <td>24.500000</td>\n",
       "      <td>...</td>\n",
       "      <td>87.000000</td>\n",
       "      <td>14.107500</td>\n",
       "      <td>167.300000</td>\n",
       "      <td>87.000000</td>\n",
       "      <td>7.530000</td>\n",
       "      <td>8.500000</td>\n",
       "      <td>3.000000</td>\n",
       "      <td>2.300000</td>\n",
       "      <td>1.000000</td>\n",
       "      <td>0.00000</td>\n",
       "    </tr>\n",
       "    <tr>\n",
       "      <th>50%</th>\n",
       "      <td>26.000000</td>\n",
       "      <td>99.000000</td>\n",
       "      <td>1.000000</td>\n",
       "      <td>2516.000000</td>\n",
       "      <td>0.000000</td>\n",
       "      <td>0.000000</td>\n",
       "      <td>0.000000</td>\n",
       "      <td>180.650000</td>\n",
       "      <td>100.000000</td>\n",
       "      <td>30.710000</td>\n",
       "      <td>...</td>\n",
       "      <td>100.000000</td>\n",
       "      <td>17.125000</td>\n",
       "      <td>201.400000</td>\n",
       "      <td>100.000000</td>\n",
       "      <td>9.060000</td>\n",
       "      <td>10.300000</td>\n",
       "      <td>4.000000</td>\n",
       "      <td>2.780000</td>\n",
       "      <td>1.000000</td>\n",
       "      <td>0.00000</td>\n",
       "    </tr>\n",
       "    <tr>\n",
       "      <th>75%</th>\n",
       "      <td>39.000000</td>\n",
       "      <td>127.000000</td>\n",
       "      <td>2.000000</td>\n",
       "      <td>3734.250000</td>\n",
       "      <td>0.000000</td>\n",
       "      <td>1.000000</td>\n",
       "      <td>17.000000</td>\n",
       "      <td>217.500000</td>\n",
       "      <td>113.000000</td>\n",
       "      <td>36.980000</td>\n",
       "      <td>...</td>\n",
       "      <td>113.250000</td>\n",
       "      <td>19.960000</td>\n",
       "      <td>235.325000</td>\n",
       "      <td>113.000000</td>\n",
       "      <td>10.590000</td>\n",
       "      <td>12.000000</td>\n",
       "      <td>6.000000</td>\n",
       "      <td>3.240000</td>\n",
       "      <td>2.000000</td>\n",
       "      <td>0.00000</td>\n",
       "    </tr>\n",
       "    <tr>\n",
       "      <th>max</th>\n",
       "      <td>50.000000</td>\n",
       "      <td>243.000000</td>\n",
       "      <td>2.000000</td>\n",
       "      <td>4999.000000</td>\n",
       "      <td>1.000000</td>\n",
       "      <td>1.000000</td>\n",
       "      <td>52.000000</td>\n",
       "      <td>351.500000</td>\n",
       "      <td>165.000000</td>\n",
       "      <td>59.760000</td>\n",
       "      <td>...</td>\n",
       "      <td>168.000000</td>\n",
       "      <td>30.910000</td>\n",
       "      <td>381.600000</td>\n",
       "      <td>175.000000</td>\n",
       "      <td>17.170000</td>\n",
       "      <td>20.000000</td>\n",
       "      <td>19.000000</td>\n",
       "      <td>5.400000</td>\n",
       "      <td>9.000000</td>\n",
       "      <td>1.00000</td>\n",
       "    </tr>\n",
       "  </tbody>\n",
       "</table>\n",
       "<p>8 rows × 21 columns</p>\n",
       "</div>"
      ],
      "text/plain": [
       "             state  account_length    area_code  phone_number  \\\n",
       "count  4000.000000     4000.000000  3811.000000   4000.000000   \n",
       "mean     25.959250       99.809000     0.998163   2506.523000   \n",
       "std      14.887276       39.897869     0.711913   1440.020472   \n",
       "min       0.000000        1.000000     0.000000      0.000000   \n",
       "25%      13.000000       73.000000     0.000000   1269.750000   \n",
       "50%      26.000000       99.000000     1.000000   2516.000000   \n",
       "75%      39.000000      127.000000     2.000000   3734.250000   \n",
       "max      50.000000      243.000000     2.000000   4999.000000   \n",
       "\n",
       "       international_plan  voice_mail_plan  number_vmail_messages  \\\n",
       "count         4000.000000      4000.000000            4000.000000   \n",
       "mean             0.092250         0.264000               7.764250   \n",
       "std              0.289415         0.440854              13.569164   \n",
       "min              0.000000         0.000000               0.000000   \n",
       "25%              0.000000         0.000000               0.000000   \n",
       "50%              0.000000         0.000000               0.000000   \n",
       "75%              0.000000         1.000000              17.000000   \n",
       "max              1.000000         1.000000              52.000000   \n",
       "\n",
       "       total_day_minutes  total_day_calls  total_day_charge  ...  \\\n",
       "count        4000.000000      4000.000000       4000.000000  ...   \n",
       "mean          181.076275       100.070500         30.783495  ...   \n",
       "std            53.912842        19.684357          9.165125  ...   \n",
       "min             6.600000        30.000000          1.120000  ...   \n",
       "25%           144.100000        87.000000         24.500000  ...   \n",
       "50%           180.650000       100.000000         30.710000  ...   \n",
       "75%           217.500000       113.000000         36.980000  ...   \n",
       "max           351.500000       165.000000         59.760000  ...   \n",
       "\n",
       "       total_eve_calls  total_eve_charge  total_night_minutes  \\\n",
       "count      4000.000000       4000.000000          4000.000000   \n",
       "mean        100.151500         17.084080           200.800350   \n",
       "std          19.770768          4.322081            50.884632   \n",
       "min          12.000000          2.650000             0.000000   \n",
       "25%          87.000000         14.107500           167.300000   \n",
       "50%         100.000000         17.125000           201.400000   \n",
       "75%         113.250000         19.960000           235.325000   \n",
       "max         168.000000         30.910000           381.600000   \n",
       "\n",
       "       total_night_calls  total_night_charge  total_intl_minutes  \\\n",
       "count        4000.000000         4000.000000         4000.000000   \n",
       "mean           99.987750            9.036140           10.277175   \n",
       "std            19.818181            2.289808            2.763613   \n",
       "min             0.000000            0.000000            0.000000   \n",
       "25%            87.000000            7.530000            8.500000   \n",
       "50%           100.000000            9.060000           10.300000   \n",
       "75%           113.000000           10.590000           12.000000   \n",
       "max           175.000000           17.170000           20.000000   \n",
       "\n",
       "       total_intl_calls  total_intl_charge  number_customer_service_calls  \\\n",
       "count       2924.000000        4000.000000                    3661.000000   \n",
       "mean           4.448358           2.775382                       1.563234   \n",
       "std            2.438936           0.746127                       1.295285   \n",
       "min            0.000000           0.000000                       0.000000   \n",
       "25%            3.000000           2.300000                       1.000000   \n",
       "50%            4.000000           2.780000                       1.000000   \n",
       "75%            6.000000           3.240000                       2.000000   \n",
       "max           19.000000           5.400000                       9.000000   \n",
       "\n",
       "            churn  \n",
       "count  4000.00000  \n",
       "mean      0.14150  \n",
       "std       0.34858  \n",
       "min       0.00000  \n",
       "25%       0.00000  \n",
       "50%       0.00000  \n",
       "75%       0.00000  \n",
       "max       1.00000  \n",
       "\n",
       "[8 rows x 21 columns]"
      ]
     },
     "execution_count": 4,
     "metadata": {},
     "output_type": "execute_result"
    }
   ],
   "source": [
    "df_churn.describe()"
   ]
  },
  {
   "cell_type": "code",
   "execution_count": 5,
   "metadata": {},
   "outputs": [
    {
     "data": {
      "text/plain": [
       "(4000, 21)"
      ]
     },
     "execution_count": 5,
     "metadata": {},
     "output_type": "execute_result"
    }
   ],
   "source": [
    "df_churn.shape"
   ]
  },
  {
   "cell_type": "markdown",
   "metadata": {},
   "source": [
    "As visible above, the dataset contains 4000 rows and 21 columns. The variables `area_code`, `total_intl_calls` and `number_customer_service_calls` contain NaN values."
   ]
  },
  {
   "cell_type": "markdown",
   "metadata": {
    "colab_type": "text",
    "id": "mljwWXx1R0sq"
   },
   "source": [
    "There is one **ID feature** `phone_number` present in the data, which we will remove in the prepocessing part."
   ]
  },
  {
   "cell_type": "markdown",
   "metadata": {
    "colab_type": "text",
    "id": "m40T1bnl5ixL"
   },
   "source": [
    "Then, we will investigate the customers who churned and not churned."
   ]
  },
  {
   "cell_type": "markdown",
   "metadata": {},
   "source": [
    "First we check if all the phone numbers are unique. Then we also check how many rows have NaN values."
   ]
  },
  {
   "cell_type": "code",
   "execution_count": 6,
   "metadata": {},
   "outputs": [
    {
     "data": {
      "text/plain": [
       "(4000, 4000)"
      ]
     },
     "execution_count": 6,
     "metadata": {},
     "output_type": "execute_result"
    }
   ],
   "source": [
    "len(df_churn['phone_number']), len(df_churn['phone_number'].unique())"
   ]
  },
  {
   "cell_type": "code",
   "execution_count": 7,
   "metadata": {},
   "outputs": [
    {
     "data": {
      "text/plain": [
       "1604"
      ]
     },
     "execution_count": 7,
     "metadata": {},
     "output_type": "execute_result"
    }
   ],
   "source": [
    "sum(df_churn.isnull().sum())"
   ]
  },
  {
   "cell_type": "markdown",
   "metadata": {},
   "source": [
    "We then take a look at how many people left the company and at how many people stayed."
   ]
  },
  {
   "cell_type": "code",
   "execution_count": 8,
   "metadata": {
    "colab": {
     "base_uri": "https://localhost:8080/",
     "height": 34
    },
    "colab_type": "code",
    "id": "dKm3Dyxu5hUW",
    "outputId": "dce9f046-d367-4384-ecb5-1e50140b7a3f"
   },
   "outputs": [
    {
     "name": "stdout",
     "output_type": "stream",
     "text": [
      "566 people left the company, and 3434 stayed with the company\n"
     ]
    }
   ],
   "source": [
    "# I counted the number of clients that churned or did not churn\n",
    "num_churn = df_churn['churn'][df_churn['churn'] == 1].count()\n",
    "num_non_churn = df_churn['churn'][df_churn['churn'] == 0].count()\n",
    "\n",
    "print(num_churn, 'people left the company, and' ,num_non_churn, 'stayed with the company')"
   ]
  },
  {
   "cell_type": "markdown",
   "metadata": {},
   "source": [
    "Here two dataframes are made, one with the customers that churned and one with the customers that did not churn. This should make it easier to find differences in the statistics."
   ]
  },
  {
   "cell_type": "code",
   "execution_count": 9,
   "metadata": {
    "colab": {},
    "colab_type": "code",
    "id": "R9UyUQwv5p4t"
   },
   "outputs": [],
   "source": [
    "# separate the customers who churned / not churned\n",
    "df_did_churn = df_churn[df_churn['churn'] == 1]\n",
    "df_not_churn = df_churn[df_churn['churn'] == 0]"
   ]
  },
  {
   "cell_type": "markdown",
   "metadata": {},
   "source": [
    "Then we compared the means."
   ]
  },
  {
   "cell_type": "code",
   "execution_count": 10,
   "metadata": {
    "colab": {
     "base_uri": "https://localhost:8080/",
     "height": 386
    },
    "colab_type": "code",
    "id": "1AbjQAia5vBw",
    "outputId": "8b1cacfa-d935-4767-d49c-8d0b24adbde1"
   },
   "outputs": [
    {
     "data": {
      "text/plain": [
       "state                              26.139576\n",
       "account_length                    102.650177\n",
       "area_code                           1.022599\n",
       "phone_number                     2567.784452\n",
       "international_plan                  0.277385\n",
       "voice_mail_plan                     0.136042\n",
       "number_vmail_messages               4.102473\n",
       "total_day_minutes                 211.333569\n",
       "total_day_calls                   101.448763\n",
       "total_day_charge                   35.927067\n",
       "total_eve_minutes                 213.477562\n",
       "total_eve_calls                    99.902827\n",
       "total_eve_charge                   18.145724\n",
       "total_night_minutes               206.833922\n",
       "total_night_calls                  99.950530\n",
       "total_night_charge                  9.307633\n",
       "total_intl_minutes                 10.824028\n",
       "total_intl_calls                    4.056235\n",
       "total_intl_charge                   2.923039\n",
       "number_customer_service_calls       2.230315\n",
       "churn                               1.000000\n",
       "Name: mean, dtype: float64"
      ]
     },
     "execution_count": 10,
     "metadata": {},
     "output_type": "execute_result"
    }
   ],
   "source": [
    "# people who did churn\n",
    "df_did_churn.describe().transpose()['mean']"
   ]
  },
  {
   "cell_type": "code",
   "execution_count": 11,
   "metadata": {
    "colab": {
     "base_uri": "https://localhost:8080/",
     "height": 386
    },
    "colab_type": "code",
    "id": "u3d0sWyX5xBU",
    "outputId": "7639b677-560a-46ac-d28d-a46565bb0937"
   },
   "outputs": [
    {
     "data": {
      "text/plain": [
       "state                              25.929528\n",
       "account_length                     99.340711\n",
       "area_code                           0.994207\n",
       "phone_number                     2496.425743\n",
       "international_plan                  0.061736\n",
       "voice_mail_plan                     0.285090\n",
       "number_vmail_messages               8.367793\n",
       "total_day_minutes                 176.089196\n",
       "total_day_calls                    99.843331\n",
       "total_day_charge                   29.935719\n",
       "total_eve_minutes                 198.928072\n",
       "total_eve_calls                   100.192487\n",
       "total_eve_charge                   16.909097\n",
       "total_night_minutes               199.805882\n",
       "total_night_calls                  99.993885\n",
       "total_night_charge                  8.991392\n",
       "total_intl_minutes                 10.187041\n",
       "total_intl_calls                    4.512127\n",
       "total_intl_charge                   2.751045\n",
       "number_customer_service_calls       1.455756\n",
       "churn                               0.000000\n",
       "Name: mean, dtype: float64"
      ]
     },
     "execution_count": 11,
     "metadata": {},
     "output_type": "execute_result"
    }
   ],
   "source": [
    "# people who did not churn\n",
    "df_not_churn.describe().transpose()['mean']"
   ]
  },
  {
   "cell_type": "markdown",
   "metadata": {
    "colab_type": "text",
    "id": "xo3ECFHm5y73"
   },
   "source": [
    "Comparing the means, there are no differences that are immediately visible."
   ]
  },
  {
   "cell_type": "markdown",
   "metadata": {},
   "source": [
    "We then take a look at the **correlation matrix**."
   ]
  },
  {
   "cell_type": "code",
   "execution_count": 12,
   "metadata": {
    "colab": {
     "base_uri": "https://localhost:8080/",
     "height": 689
    },
    "colab_type": "code",
    "id": "EP8CfKO6F3FH",
    "outputId": "26fad103-964a-4538-b187-91b9e5e34292"
   },
   "outputs": [
    {
     "data": {
      "text/plain": [
       "state                            0.004918\n",
       "account_length                   0.028914\n",
       "area_code                        0.013812\n",
       "phone_number                     0.017274\n",
       "international_plan               0.259735\n",
       "voice_mail_plan                 -0.117851\n",
       "number_vmail_messages           -0.109572\n",
       "total_day_minutes                0.227877\n",
       "total_day_calls                  0.028430\n",
       "total_day_charge                 0.227871\n",
       "total_eve_minutes                0.099741\n",
       "total_eve_calls                 -0.005107\n",
       "total_eve_charge                 0.099735\n",
       "total_night_minutes              0.048145\n",
       "total_night_calls               -0.000763\n",
       "total_night_charge               0.048142\n",
       "total_intl_minutes               0.080344\n",
       "total_intl_calls                -0.064847\n",
       "total_intl_charge                0.080353\n",
       "number_customer_service_calls    0.206749\n",
       "churn                            1.000000\n",
       "Name: churn, dtype: float64"
      ]
     },
     "execution_count": 12,
     "metadata": {},
     "output_type": "execute_result"
    }
   ],
   "source": [
    "df_churn.corr()['churn']"
   ]
  },
  {
   "cell_type": "markdown",
   "metadata": {},
   "source": [
    "Columns with an (-) 0.1 or 0.2 correlation with `churn` are the **highest correlated** features:\n",
    "`international_plan`,\n",
    "`voicemail_plan`, \n",
    "`number_vmail_messages`, \n",
    "`total_day_minutes`, \n",
    "`total_day_calls`, \n",
    "`total_day_charge`, `number_customer_service_calls`,\n",
    "and `total_eve_minutes` and `total_eve_charge` with 0.099"
   ]
  },
  {
   "cell_type": "code",
   "execution_count": 13,
   "metadata": {},
   "outputs": [
    {
     "data": {
      "text/html": [
       "<style  type=\"text/css\" >\n",
       "    #T_3d343842_888f_11ea_ab13_f7901248353crow0_col0 {\n",
       "            background-color:  #08306b;\n",
       "            color:  #f1f1f1;\n",
       "        }    #T_3d343842_888f_11ea_ab13_f7901248353crow0_col1 {\n",
       "            background-color:  #f0f6fd;\n",
       "            color:  #000000;\n",
       "        }    #T_3d343842_888f_11ea_ab13_f7901248353crow0_col2 {\n",
       "            background-color:  #f1f7fd;\n",
       "            color:  #000000;\n",
       "        }    #T_3d343842_888f_11ea_ab13_f7901248353crow0_col3 {\n",
       "            background-color:  #eff6fc;\n",
       "            color:  #000000;\n",
       "        }    #T_3d343842_888f_11ea_ab13_f7901248353crow0_col4 {\n",
       "            background-color:  #eef5fc;\n",
       "            color:  #000000;\n",
       "        }    #T_3d343842_888f_11ea_ab13_f7901248353crow0_col5 {\n",
       "            background-color:  #e6f0f9;\n",
       "            color:  #000000;\n",
       "        }    #T_3d343842_888f_11ea_ab13_f7901248353crow0_col6 {\n",
       "            background-color:  #e7f0fa;\n",
       "            color:  #000000;\n",
       "        }    #T_3d343842_888f_11ea_ab13_f7901248353crow0_col7 {\n",
       "            background-color:  #f0f6fd;\n",
       "            color:  #000000;\n",
       "        }    #T_3d343842_888f_11ea_ab13_f7901248353crow0_col8 {\n",
       "            background-color:  #f7fbff;\n",
       "            color:  #000000;\n",
       "        }    #T_3d343842_888f_11ea_ab13_f7901248353crow0_col9 {\n",
       "            background-color:  #f0f6fd;\n",
       "            color:  #000000;\n",
       "        }    #T_3d343842_888f_11ea_ab13_f7901248353crow0_col10 {\n",
       "            background-color:  #f1f7fd;\n",
       "            color:  #000000;\n",
       "        }    #T_3d343842_888f_11ea_ab13_f7901248353crow0_col11 {\n",
       "            background-color:  #f6faff;\n",
       "            color:  #000000;\n",
       "        }    #T_3d343842_888f_11ea_ab13_f7901248353crow0_col12 {\n",
       "            background-color:  #f1f7fd;\n",
       "            color:  #000000;\n",
       "        }    #T_3d343842_888f_11ea_ab13_f7901248353crow0_col13 {\n",
       "            background-color:  #eef5fc;\n",
       "            color:  #000000;\n",
       "        }    #T_3d343842_888f_11ea_ab13_f7901248353crow0_col14 {\n",
       "            background-color:  #f0f6fd;\n",
       "            color:  #000000;\n",
       "        }    #T_3d343842_888f_11ea_ab13_f7901248353crow0_col15 {\n",
       "            background-color:  #eef5fc;\n",
       "            color:  #000000;\n",
       "        }    #T_3d343842_888f_11ea_ab13_f7901248353crow0_col16 {\n",
       "            background-color:  #f5f9fe;\n",
       "            color:  #000000;\n",
       "        }    #T_3d343842_888f_11ea_ab13_f7901248353crow0_col17 {\n",
       "            background-color:  #e8f1fa;\n",
       "            color:  #000000;\n",
       "        }    #T_3d343842_888f_11ea_ab13_f7901248353crow0_col18 {\n",
       "            background-color:  #f5f9fe;\n",
       "            color:  #000000;\n",
       "        }    #T_3d343842_888f_11ea_ab13_f7901248353crow0_col19 {\n",
       "            background-color:  #f5fafe;\n",
       "            color:  #000000;\n",
       "        }    #T_3d343842_888f_11ea_ab13_f7901248353crow0_col20 {\n",
       "            background-color:  #e1edf8;\n",
       "            color:  #000000;\n",
       "        }    #T_3d343842_888f_11ea_ab13_f7901248353crow1_col0 {\n",
       "            background-color:  #f2f8fd;\n",
       "            color:  #000000;\n",
       "        }    #T_3d343842_888f_11ea_ab13_f7901248353crow1_col1 {\n",
       "            background-color:  #08306b;\n",
       "            color:  #f1f1f1;\n",
       "        }    #T_3d343842_888f_11ea_ab13_f7901248353crow1_col2 {\n",
       "            background-color:  #f7fbff;\n",
       "            color:  #000000;\n",
       "        }    #T_3d343842_888f_11ea_ab13_f7901248353crow1_col3 {\n",
       "            background-color:  #f1f7fd;\n",
       "            color:  #000000;\n",
       "        }    #T_3d343842_888f_11ea_ab13_f7901248353crow1_col4 {\n",
       "            background-color:  #edf4fc;\n",
       "            color:  #000000;\n",
       "        }    #T_3d343842_888f_11ea_ab13_f7901248353crow1_col5 {\n",
       "            background-color:  #e3eef9;\n",
       "            color:  #000000;\n",
       "        }    #T_3d343842_888f_11ea_ab13_f7901248353crow1_col6 {\n",
       "            background-color:  #e6f0f9;\n",
       "            color:  #000000;\n",
       "        }    #T_3d343842_888f_11ea_ab13_f7901248353crow1_col7 {\n",
       "            background-color:  #f0f6fd;\n",
       "            color:  #000000;\n",
       "        }    #T_3d343842_888f_11ea_ab13_f7901248353crow1_col8 {\n",
       "            background-color:  #f2f7fd;\n",
       "            color:  #000000;\n",
       "        }    #T_3d343842_888f_11ea_ab13_f7901248353crow1_col9 {\n",
       "            background-color:  #f0f6fd;\n",
       "            color:  #000000;\n",
       "        }    #T_3d343842_888f_11ea_ab13_f7901248353crow1_col10 {\n",
       "            background-color:  #f5fafe;\n",
       "            color:  #000000;\n",
       "        }    #T_3d343842_888f_11ea_ab13_f7901248353crow1_col11 {\n",
       "            background-color:  #f2f8fd;\n",
       "            color:  #000000;\n",
       "        }    #T_3d343842_888f_11ea_ab13_f7901248353crow1_col12 {\n",
       "            background-color:  #f5fafe;\n",
       "            color:  #000000;\n",
       "        }    #T_3d343842_888f_11ea_ab13_f7901248353crow1_col13 {\n",
       "            background-color:  #f0f6fd;\n",
       "            color:  #000000;\n",
       "        }    #T_3d343842_888f_11ea_ab13_f7901248353crow1_col14 {\n",
       "            background-color:  #f3f8fe;\n",
       "            color:  #000000;\n",
       "        }    #T_3d343842_888f_11ea_ab13_f7901248353crow1_col15 {\n",
       "            background-color:  #f0f6fd;\n",
       "            color:  #000000;\n",
       "        }    #T_3d343842_888f_11ea_ab13_f7901248353crow1_col16 {\n",
       "            background-color:  #f2f7fd;\n",
       "            color:  #000000;\n",
       "        }    #T_3d343842_888f_11ea_ab13_f7901248353crow1_col17 {\n",
       "            background-color:  #eaf3fb;\n",
       "            color:  #000000;\n",
       "        }    #T_3d343842_888f_11ea_ab13_f7901248353crow1_col18 {\n",
       "            background-color:  #f2f7fd;\n",
       "            color:  #000000;\n",
       "        }    #T_3d343842_888f_11ea_ab13_f7901248353crow1_col19 {\n",
       "            background-color:  #f1f7fd;\n",
       "            color:  #000000;\n",
       "        }    #T_3d343842_888f_11ea_ab13_f7901248353crow1_col20 {\n",
       "            background-color:  #ddeaf7;\n",
       "            color:  #000000;\n",
       "        }    #T_3d343842_888f_11ea_ab13_f7901248353crow2_col0 {\n",
       "            background-color:  #f4f9fe;\n",
       "            color:  #000000;\n",
       "        }    #T_3d343842_888f_11ea_ab13_f7901248353crow2_col1 {\n",
       "            background-color:  #f7fbff;\n",
       "            color:  #000000;\n",
       "        }    #T_3d343842_888f_11ea_ab13_f7901248353crow2_col2 {\n",
       "            background-color:  #08306b;\n",
       "            color:  #f1f1f1;\n",
       "        }    #T_3d343842_888f_11ea_ab13_f7901248353crow2_col3 {\n",
       "            background-color:  #f7fbff;\n",
       "            color:  #000000;\n",
       "        }    #T_3d343842_888f_11ea_ab13_f7901248353crow2_col4 {\n",
       "            background-color:  #e9f2fa;\n",
       "            color:  #000000;\n",
       "        }    #T_3d343842_888f_11ea_ab13_f7901248353crow2_col5 {\n",
       "            background-color:  #dfebf7;\n",
       "            color:  #000000;\n",
       "        }    #T_3d343842_888f_11ea_ab13_f7901248353crow2_col6 {\n",
       "            background-color:  #e0ecf8;\n",
       "            color:  #000000;\n",
       "        }    #T_3d343842_888f_11ea_ab13_f7901248353crow2_col7 {\n",
       "            background-color:  #f2f8fd;\n",
       "            color:  #000000;\n",
       "        }    #T_3d343842_888f_11ea_ab13_f7901248353crow2_col8 {\n",
       "            background-color:  #f2f8fd;\n",
       "            color:  #000000;\n",
       "        }    #T_3d343842_888f_11ea_ab13_f7901248353crow2_col9 {\n",
       "            background-color:  #f2f8fd;\n",
       "            color:  #000000;\n",
       "        }    #T_3d343842_888f_11ea_ab13_f7901248353crow2_col10 {\n",
       "            background-color:  #f0f6fd;\n",
       "            color:  #000000;\n",
       "        }    #T_3d343842_888f_11ea_ab13_f7901248353crow2_col11 {\n",
       "            background-color:  #f4f9fe;\n",
       "            color:  #000000;\n",
       "        }    #T_3d343842_888f_11ea_ab13_f7901248353crow2_col12 {\n",
       "            background-color:  #f0f6fd;\n",
       "            color:  #000000;\n",
       "        }    #T_3d343842_888f_11ea_ab13_f7901248353crow2_col13 {\n",
       "            background-color:  #ecf4fb;\n",
       "            color:  #000000;\n",
       "        }    #T_3d343842_888f_11ea_ab13_f7901248353crow2_col14 {\n",
       "            background-color:  #eef5fc;\n",
       "            color:  #000000;\n",
       "        }    #T_3d343842_888f_11ea_ab13_f7901248353crow2_col15 {\n",
       "            background-color:  #ecf4fb;\n",
       "            color:  #000000;\n",
       "        }    #T_3d343842_888f_11ea_ab13_f7901248353crow2_col16 {\n",
       "            background-color:  #f2f7fd;\n",
       "            color:  #000000;\n",
       "        }    #T_3d343842_888f_11ea_ab13_f7901248353crow2_col17 {\n",
       "            background-color:  #ebf3fb;\n",
       "            color:  #000000;\n",
       "        }    #T_3d343842_888f_11ea_ab13_f7901248353crow2_col18 {\n",
       "            background-color:  #f2f7fd;\n",
       "            color:  #000000;\n",
       "        }    #T_3d343842_888f_11ea_ab13_f7901248353crow2_col19 {\n",
       "            background-color:  #f1f7fd;\n",
       "            color:  #000000;\n",
       "        }    #T_3d343842_888f_11ea_ab13_f7901248353crow2_col20 {\n",
       "            background-color:  #dfecf7;\n",
       "            color:  #000000;\n",
       "        }    #T_3d343842_888f_11ea_ab13_f7901248353crow3_col0 {\n",
       "            background-color:  #f0f6fd;\n",
       "            color:  #000000;\n",
       "        }    #T_3d343842_888f_11ea_ab13_f7901248353crow3_col1 {\n",
       "            background-color:  #eff6fc;\n",
       "            color:  #000000;\n",
       "        }    #T_3d343842_888f_11ea_ab13_f7901248353crow3_col2 {\n",
       "            background-color:  #f5fafe;\n",
       "            color:  #000000;\n",
       "        }    #T_3d343842_888f_11ea_ab13_f7901248353crow3_col3 {\n",
       "            background-color:  #08306b;\n",
       "            color:  #f1f1f1;\n",
       "        }    #T_3d343842_888f_11ea_ab13_f7901248353crow3_col4 {\n",
       "            background-color:  #ebf3fb;\n",
       "            color:  #000000;\n",
       "        }    #T_3d343842_888f_11ea_ab13_f7901248353crow3_col5 {\n",
       "            background-color:  #dfebf7;\n",
       "            color:  #000000;\n",
       "        }    #T_3d343842_888f_11ea_ab13_f7901248353crow3_col6 {\n",
       "            background-color:  #e0ecf8;\n",
       "            color:  #000000;\n",
       "        }    #T_3d343842_888f_11ea_ab13_f7901248353crow3_col7 {\n",
       "            background-color:  #f4f9fe;\n",
       "            color:  #000000;\n",
       "        }    #T_3d343842_888f_11ea_ab13_f7901248353crow3_col8 {\n",
       "            background-color:  #f6faff;\n",
       "            color:  #000000;\n",
       "        }    #T_3d343842_888f_11ea_ab13_f7901248353crow3_col9 {\n",
       "            background-color:  #f4f9fe;\n",
       "            color:  #000000;\n",
       "        }    #T_3d343842_888f_11ea_ab13_f7901248353crow3_col10 {\n",
       "            background-color:  #f5fafe;\n",
       "            color:  #000000;\n",
       "        }    #T_3d343842_888f_11ea_ab13_f7901248353crow3_col11 {\n",
       "            background-color:  #eff6fc;\n",
       "            color:  #000000;\n",
       "        }    #T_3d343842_888f_11ea_ab13_f7901248353crow3_col12 {\n",
       "            background-color:  #f5fafe;\n",
       "            color:  #000000;\n",
       "        }    #T_3d343842_888f_11ea_ab13_f7901248353crow3_col13 {\n",
       "            background-color:  #eef5fc;\n",
       "            color:  #000000;\n",
       "        }    #T_3d343842_888f_11ea_ab13_f7901248353crow3_col14 {\n",
       "            background-color:  #f1f7fd;\n",
       "            color:  #000000;\n",
       "        }    #T_3d343842_888f_11ea_ab13_f7901248353crow3_col15 {\n",
       "            background-color:  #eef5fc;\n",
       "            color:  #000000;\n",
       "        }    #T_3d343842_888f_11ea_ab13_f7901248353crow3_col16 {\n",
       "            background-color:  #f3f8fe;\n",
       "            color:  #000000;\n",
       "        }    #T_3d343842_888f_11ea_ab13_f7901248353crow3_col17 {\n",
       "            background-color:  #f0f6fd;\n",
       "            color:  #000000;\n",
       "        }    #T_3d343842_888f_11ea_ab13_f7901248353crow3_col18 {\n",
       "            background-color:  #f3f8fe;\n",
       "            color:  #000000;\n",
       "        }    #T_3d343842_888f_11ea_ab13_f7901248353crow3_col19 {\n",
       "            background-color:  #eef5fc;\n",
       "            color:  #000000;\n",
       "        }    #T_3d343842_888f_11ea_ab13_f7901248353crow3_col20 {\n",
       "            background-color:  #dfecf7;\n",
       "            color:  #000000;\n",
       "        }    #T_3d343842_888f_11ea_ab13_f7901248353crow4_col0 {\n",
       "            background-color:  #f1f7fd;\n",
       "            color:  #000000;\n",
       "        }    #T_3d343842_888f_11ea_ab13_f7901248353crow4_col1 {\n",
       "            background-color:  #edf4fc;\n",
       "            color:  #000000;\n",
       "        }    #T_3d343842_888f_11ea_ab13_f7901248353crow4_col2 {\n",
       "            background-color:  #eaf2fb;\n",
       "            color:  #000000;\n",
       "        }    #T_3d343842_888f_11ea_ab13_f7901248353crow4_col3 {\n",
       "            background-color:  #edf4fc;\n",
       "            color:  #000000;\n",
       "        }    #T_3d343842_888f_11ea_ab13_f7901248353crow4_col4 {\n",
       "            background-color:  #08306b;\n",
       "            color:  #f1f1f1;\n",
       "        }    #T_3d343842_888f_11ea_ab13_f7901248353crow4_col5 {\n",
       "            background-color:  #e0ecf8;\n",
       "            color:  #000000;\n",
       "        }    #T_3d343842_888f_11ea_ab13_f7901248353crow4_col6 {\n",
       "            background-color:  #e2edf8;\n",
       "            color:  #000000;\n",
       "        }    #T_3d343842_888f_11ea_ab13_f7901248353crow4_col7 {\n",
       "            background-color:  #edf4fc;\n",
       "            color:  #000000;\n",
       "        }    #T_3d343842_888f_11ea_ab13_f7901248353crow4_col8 {\n",
       "            background-color:  #f2f7fd;\n",
       "            color:  #000000;\n",
       "        }    #T_3d343842_888f_11ea_ab13_f7901248353crow4_col9 {\n",
       "            background-color:  #edf4fc;\n",
       "            color:  #000000;\n",
       "        }    #T_3d343842_888f_11ea_ab13_f7901248353crow4_col10 {\n",
       "            background-color:  #f0f6fd;\n",
       "            color:  #000000;\n",
       "        }    #T_3d343842_888f_11ea_ab13_f7901248353crow4_col11 {\n",
       "            background-color:  #f2f8fd;\n",
       "            color:  #000000;\n",
       "        }    #T_3d343842_888f_11ea_ab13_f7901248353crow4_col12 {\n",
       "            background-color:  #f0f6fd;\n",
       "            color:  #000000;\n",
       "        }    #T_3d343842_888f_11ea_ab13_f7901248353crow4_col13 {\n",
       "            background-color:  #f7fbff;\n",
       "            color:  #000000;\n",
       "        }    #T_3d343842_888f_11ea_ab13_f7901248353crow4_col14 {\n",
       "            background-color:  #f0f6fd;\n",
       "            color:  #000000;\n",
       "        }    #T_3d343842_888f_11ea_ab13_f7901248353crow4_col15 {\n",
       "            background-color:  #f7fbff;\n",
       "            color:  #000000;\n",
       "        }    #T_3d343842_888f_11ea_ab13_f7901248353crow4_col16 {\n",
       "            background-color:  #ebf3fb;\n",
       "            color:  #000000;\n",
       "        }    #T_3d343842_888f_11ea_ab13_f7901248353crow4_col17 {\n",
       "            background-color:  #eef5fc;\n",
       "            color:  #000000;\n",
       "        }    #T_3d343842_888f_11ea_ab13_f7901248353crow4_col18 {\n",
       "            background-color:  #ebf3fb;\n",
       "            color:  #000000;\n",
       "        }    #T_3d343842_888f_11ea_ab13_f7901248353crow4_col19 {\n",
       "            background-color:  #f3f8fe;\n",
       "            color:  #000000;\n",
       "        }    #T_3d343842_888f_11ea_ab13_f7901248353crow4_col20 {\n",
       "            background-color:  #aacfe5;\n",
       "            color:  #000000;\n",
       "        }    #T_3d343842_888f_11ea_ab13_f7901248353crow5_col0 {\n",
       "            background-color:  #f7fbff;\n",
       "            color:  #000000;\n",
       "        }    #T_3d343842_888f_11ea_ab13_f7901248353crow5_col1 {\n",
       "            background-color:  #f2f8fd;\n",
       "            color:  #000000;\n",
       "        }    #T_3d343842_888f_11ea_ab13_f7901248353crow5_col2 {\n",
       "            background-color:  #edf4fc;\n",
       "            color:  #000000;\n",
       "        }    #T_3d343842_888f_11ea_ab13_f7901248353crow5_col3 {\n",
       "            background-color:  #eff6fc;\n",
       "            color:  #000000;\n",
       "        }    #T_3d343842_888f_11ea_ab13_f7901248353crow5_col4 {\n",
       "            background-color:  #eff6fc;\n",
       "            color:  #000000;\n",
       "        }    #T_3d343842_888f_11ea_ab13_f7901248353crow5_col5 {\n",
       "            background-color:  #08306b;\n",
       "            color:  #f1f1f1;\n",
       "        }    #T_3d343842_888f_11ea_ab13_f7901248353crow5_col6 {\n",
       "            background-color:  #083a7a;\n",
       "            color:  #f1f1f1;\n",
       "        }    #T_3d343842_888f_11ea_ab13_f7901248353crow5_col7 {\n",
       "            background-color:  #f1f7fd;\n",
       "            color:  #000000;\n",
       "        }    #T_3d343842_888f_11ea_ab13_f7901248353crow5_col8 {\n",
       "            background-color:  #f3f8fe;\n",
       "            color:  #000000;\n",
       "        }    #T_3d343842_888f_11ea_ab13_f7901248353crow5_col9 {\n",
       "            background-color:  #f1f7fd;\n",
       "            color:  #000000;\n",
       "        }    #T_3d343842_888f_11ea_ab13_f7901248353crow5_col10 {\n",
       "            background-color:  #f0f6fd;\n",
       "            color:  #000000;\n",
       "        }    #T_3d343842_888f_11ea_ab13_f7901248353crow5_col11 {\n",
       "            background-color:  #f2f8fd;\n",
       "            color:  #000000;\n",
       "        }    #T_3d343842_888f_11ea_ab13_f7901248353crow5_col12 {\n",
       "            background-color:  #f0f6fd;\n",
       "            color:  #000000;\n",
       "        }    #T_3d343842_888f_11ea_ab13_f7901248353crow5_col13 {\n",
       "            background-color:  #edf4fc;\n",
       "            color:  #000000;\n",
       "        }    #T_3d343842_888f_11ea_ab13_f7901248353crow5_col14 {\n",
       "            background-color:  #f2f8fd;\n",
       "            color:  #000000;\n",
       "        }    #T_3d343842_888f_11ea_ab13_f7901248353crow5_col15 {\n",
       "            background-color:  #edf4fc;\n",
       "            color:  #000000;\n",
       "        }    #T_3d343842_888f_11ea_ab13_f7901248353crow5_col16 {\n",
       "            background-color:  #f3f8fe;\n",
       "            color:  #000000;\n",
       "        }    #T_3d343842_888f_11ea_ab13_f7901248353crow5_col17 {\n",
       "            background-color:  #eef5fc;\n",
       "            color:  #000000;\n",
       "        }    #T_3d343842_888f_11ea_ab13_f7901248353crow5_col18 {\n",
       "            background-color:  #f3f8fe;\n",
       "            color:  #000000;\n",
       "        }    #T_3d343842_888f_11ea_ab13_f7901248353crow5_col19 {\n",
       "            background-color:  #f3f8fe;\n",
       "            color:  #000000;\n",
       "        }    #T_3d343842_888f_11ea_ab13_f7901248353crow5_col20 {\n",
       "            background-color:  #f7fbff;\n",
       "            color:  #000000;\n",
       "        }    #T_3d343842_888f_11ea_ab13_f7901248353crow6_col0 {\n",
       "            background-color:  #f6faff;\n",
       "            color:  #000000;\n",
       "        }    #T_3d343842_888f_11ea_ab13_f7901248353crow6_col1 {\n",
       "            background-color:  #f3f8fe;\n",
       "            color:  #000000;\n",
       "        }    #T_3d343842_888f_11ea_ab13_f7901248353crow6_col2 {\n",
       "            background-color:  #eef5fc;\n",
       "            color:  #000000;\n",
       "        }    #T_3d343842_888f_11ea_ab13_f7901248353crow6_col3 {\n",
       "            background-color:  #eff6fc;\n",
       "            color:  #000000;\n",
       "        }    #T_3d343842_888f_11ea_ab13_f7901248353crow6_col4 {\n",
       "            background-color:  #eff6fc;\n",
       "            color:  #000000;\n",
       "        }    #T_3d343842_888f_11ea_ab13_f7901248353crow6_col5 {\n",
       "            background-color:  #083a7a;\n",
       "            color:  #f1f1f1;\n",
       "        }    #T_3d343842_888f_11ea_ab13_f7901248353crow6_col6 {\n",
       "            background-color:  #08306b;\n",
       "            color:  #f1f1f1;\n",
       "        }    #T_3d343842_888f_11ea_ab13_f7901248353crow6_col7 {\n",
       "            background-color:  #f0f6fd;\n",
       "            color:  #000000;\n",
       "        }    #T_3d343842_888f_11ea_ab13_f7901248353crow6_col8 {\n",
       "            background-color:  #f3f8fe;\n",
       "            color:  #000000;\n",
       "        }    #T_3d343842_888f_11ea_ab13_f7901248353crow6_col9 {\n",
       "            background-color:  #f0f6fd;\n",
       "            color:  #000000;\n",
       "        }    #T_3d343842_888f_11ea_ab13_f7901248353crow6_col10 {\n",
       "            background-color:  #f1f7fd;\n",
       "            color:  #000000;\n",
       "        }    #T_3d343842_888f_11ea_ab13_f7901248353crow6_col11 {\n",
       "            background-color:  #f2f7fd;\n",
       "            color:  #000000;\n",
       "        }    #T_3d343842_888f_11ea_ab13_f7901248353crow6_col12 {\n",
       "            background-color:  #f1f7fd;\n",
       "            color:  #000000;\n",
       "        }    #T_3d343842_888f_11ea_ab13_f7901248353crow6_col13 {\n",
       "            background-color:  #edf4fc;\n",
       "            color:  #000000;\n",
       "        }    #T_3d343842_888f_11ea_ab13_f7901248353crow6_col14 {\n",
       "            background-color:  #f3f8fe;\n",
       "            color:  #000000;\n",
       "        }    #T_3d343842_888f_11ea_ab13_f7901248353crow6_col15 {\n",
       "            background-color:  #edf4fc;\n",
       "            color:  #000000;\n",
       "        }    #T_3d343842_888f_11ea_ab13_f7901248353crow6_col16 {\n",
       "            background-color:  #f4f9fe;\n",
       "            color:  #000000;\n",
       "        }    #T_3d343842_888f_11ea_ab13_f7901248353crow6_col17 {\n",
       "            background-color:  #ecf4fb;\n",
       "            color:  #000000;\n",
       "        }    #T_3d343842_888f_11ea_ab13_f7901248353crow6_col18 {\n",
       "            background-color:  #f3f8fe;\n",
       "            color:  #000000;\n",
       "        }    #T_3d343842_888f_11ea_ab13_f7901248353crow6_col19 {\n",
       "            background-color:  #f3f8fe;\n",
       "            color:  #000000;\n",
       "        }    #T_3d343842_888f_11ea_ab13_f7901248353crow6_col20 {\n",
       "            background-color:  #f6faff;\n",
       "            color:  #000000;\n",
       "        }    #T_3d343842_888f_11ea_ab13_f7901248353crow7_col0 {\n",
       "            background-color:  #f0f6fd;\n",
       "            color:  #000000;\n",
       "        }    #T_3d343842_888f_11ea_ab13_f7901248353crow7_col1 {\n",
       "            background-color:  #eef5fc;\n",
       "            color:  #000000;\n",
       "        }    #T_3d343842_888f_11ea_ab13_f7901248353crow7_col2 {\n",
       "            background-color:  #eff6fc;\n",
       "            color:  #000000;\n",
       "        }    #T_3d343842_888f_11ea_ab13_f7901248353crow7_col3 {\n",
       "            background-color:  #f3f8fe;\n",
       "            color:  #000000;\n",
       "        }    #T_3d343842_888f_11ea_ab13_f7901248353crow7_col4 {\n",
       "            background-color:  #eaf2fb;\n",
       "            color:  #000000;\n",
       "        }    #T_3d343842_888f_11ea_ab13_f7901248353crow7_col5 {\n",
       "            background-color:  #e0ecf8;\n",
       "            color:  #000000;\n",
       "        }    #T_3d343842_888f_11ea_ab13_f7901248353crow7_col6 {\n",
       "            background-color:  #e0ecf8;\n",
       "            color:  #000000;\n",
       "        }    #T_3d343842_888f_11ea_ab13_f7901248353crow7_col7 {\n",
       "            background-color:  #08306b;\n",
       "            color:  #f1f1f1;\n",
       "        }    #T_3d343842_888f_11ea_ab13_f7901248353crow7_col8 {\n",
       "            background-color:  #f6faff;\n",
       "            color:  #000000;\n",
       "        }    #T_3d343842_888f_11ea_ab13_f7901248353crow7_col9 {\n",
       "            background-color:  #08306b;\n",
       "            color:  #f1f1f1;\n",
       "        }    #T_3d343842_888f_11ea_ab13_f7901248353crow7_col10 {\n",
       "            background-color:  #f2f8fd;\n",
       "            color:  #000000;\n",
       "        }    #T_3d343842_888f_11ea_ab13_f7901248353crow7_col11 {\n",
       "            background-color:  #f2f8fd;\n",
       "            color:  #000000;\n",
       "        }    #T_3d343842_888f_11ea_ab13_f7901248353crow7_col12 {\n",
       "            background-color:  #f2f8fd;\n",
       "            color:  #000000;\n",
       "        }    #T_3d343842_888f_11ea_ab13_f7901248353crow7_col13 {\n",
       "            background-color:  #eef5fc;\n",
       "            color:  #000000;\n",
       "        }    #T_3d343842_888f_11ea_ab13_f7901248353crow7_col14 {\n",
       "            background-color:  #f0f6fd;\n",
       "            color:  #000000;\n",
       "        }    #T_3d343842_888f_11ea_ab13_f7901248353crow7_col15 {\n",
       "            background-color:  #eef5fc;\n",
       "            color:  #000000;\n",
       "        }    #T_3d343842_888f_11ea_ab13_f7901248353crow7_col16 {\n",
       "            background-color:  #f7fbff;\n",
       "            color:  #000000;\n",
       "        }    #T_3d343842_888f_11ea_ab13_f7901248353crow7_col17 {\n",
       "            background-color:  #edf4fc;\n",
       "            color:  #000000;\n",
       "        }    #T_3d343842_888f_11ea_ab13_f7901248353crow7_col18 {\n",
       "            background-color:  #f7fbff;\n",
       "            color:  #000000;\n",
       "        }    #T_3d343842_888f_11ea_ab13_f7901248353crow7_col19 {\n",
       "            background-color:  #eef5fc;\n",
       "            color:  #000000;\n",
       "        }    #T_3d343842_888f_11ea_ab13_f7901248353crow7_col20 {\n",
       "            background-color:  #b3d3e8;\n",
       "            color:  #000000;\n",
       "        }    #T_3d343842_888f_11ea_ab13_f7901248353crow8_col0 {\n",
       "            background-color:  #f6faff;\n",
       "            color:  #000000;\n",
       "        }    #T_3d343842_888f_11ea_ab13_f7901248353crow8_col1 {\n",
       "            background-color:  #eef5fc;\n",
       "            color:  #000000;\n",
       "        }    #T_3d343842_888f_11ea_ab13_f7901248353crow8_col2 {\n",
       "            background-color:  #eff6fc;\n",
       "            color:  #000000;\n",
       "        }    #T_3d343842_888f_11ea_ab13_f7901248353crow8_col3 {\n",
       "            background-color:  #f5f9fe;\n",
       "            color:  #000000;\n",
       "        }    #T_3d343842_888f_11ea_ab13_f7901248353crow8_col4 {\n",
       "            background-color:  #eef5fc;\n",
       "            color:  #000000;\n",
       "        }    #T_3d343842_888f_11ea_ab13_f7901248353crow8_col5 {\n",
       "            background-color:  #e1edf8;\n",
       "            color:  #000000;\n",
       "        }    #T_3d343842_888f_11ea_ab13_f7901248353crow8_col6 {\n",
       "            background-color:  #e3eef8;\n",
       "            color:  #000000;\n",
       "        }    #T_3d343842_888f_11ea_ab13_f7901248353crow8_col7 {\n",
       "            background-color:  #f5fafe;\n",
       "            color:  #000000;\n",
       "        }    #T_3d343842_888f_11ea_ab13_f7901248353crow8_col8 {\n",
       "            background-color:  #08306b;\n",
       "            color:  #f1f1f1;\n",
       "        }    #T_3d343842_888f_11ea_ab13_f7901248353crow8_col9 {\n",
       "            background-color:  #f5fafe;\n",
       "            color:  #000000;\n",
       "        }    #T_3d343842_888f_11ea_ab13_f7901248353crow8_col10 {\n",
       "            background-color:  #f2f7fd;\n",
       "            color:  #000000;\n",
       "        }    #T_3d343842_888f_11ea_ab13_f7901248353crow8_col11 {\n",
       "            background-color:  #f1f7fd;\n",
       "            color:  #000000;\n",
       "        }    #T_3d343842_888f_11ea_ab13_f7901248353crow8_col12 {\n",
       "            background-color:  #f2f7fd;\n",
       "            color:  #000000;\n",
       "        }    #T_3d343842_888f_11ea_ab13_f7901248353crow8_col13 {\n",
       "            background-color:  #f0f6fd;\n",
       "            color:  #000000;\n",
       "        }    #T_3d343842_888f_11ea_ab13_f7901248353crow8_col14 {\n",
       "            background-color:  #f5fafe;\n",
       "            color:  #000000;\n",
       "        }    #T_3d343842_888f_11ea_ab13_f7901248353crow8_col15 {\n",
       "            background-color:  #f0f6fd;\n",
       "            color:  #000000;\n",
       "        }    #T_3d343842_888f_11ea_ab13_f7901248353crow8_col16 {\n",
       "            background-color:  #f1f7fd;\n",
       "            color:  #000000;\n",
       "        }    #T_3d343842_888f_11ea_ab13_f7901248353crow8_col17 {\n",
       "            background-color:  #eaf3fb;\n",
       "            color:  #000000;\n",
       "        }    #T_3d343842_888f_11ea_ab13_f7901248353crow8_col18 {\n",
       "            background-color:  #f1f7fd;\n",
       "            color:  #000000;\n",
       "        }    #T_3d343842_888f_11ea_ab13_f7901248353crow8_col19 {\n",
       "            background-color:  #f5f9fe;\n",
       "            color:  #000000;\n",
       "        }    #T_3d343842_888f_11ea_ab13_f7901248353crow8_col20 {\n",
       "            background-color:  #ddeaf7;\n",
       "            color:  #000000;\n",
       "        }    #T_3d343842_888f_11ea_ab13_f7901248353crow9_col0 {\n",
       "            background-color:  #f0f6fd;\n",
       "            color:  #000000;\n",
       "        }    #T_3d343842_888f_11ea_ab13_f7901248353crow9_col1 {\n",
       "            background-color:  #eef5fc;\n",
       "            color:  #000000;\n",
       "        }    #T_3d343842_888f_11ea_ab13_f7901248353crow9_col2 {\n",
       "            background-color:  #eff6fc;\n",
       "            color:  #000000;\n",
       "        }    #T_3d343842_888f_11ea_ab13_f7901248353crow9_col3 {\n",
       "            background-color:  #f3f8fe;\n",
       "            color:  #000000;\n",
       "        }    #T_3d343842_888f_11ea_ab13_f7901248353crow9_col4 {\n",
       "            background-color:  #eaf2fb;\n",
       "            color:  #000000;\n",
       "        }    #T_3d343842_888f_11ea_ab13_f7901248353crow9_col5 {\n",
       "            background-color:  #e0ecf8;\n",
       "            color:  #000000;\n",
       "        }    #T_3d343842_888f_11ea_ab13_f7901248353crow9_col6 {\n",
       "            background-color:  #e0ecf8;\n",
       "            color:  #000000;\n",
       "        }    #T_3d343842_888f_11ea_ab13_f7901248353crow9_col7 {\n",
       "            background-color:  #08306b;\n",
       "            color:  #f1f1f1;\n",
       "        }    #T_3d343842_888f_11ea_ab13_f7901248353crow9_col8 {\n",
       "            background-color:  #f6faff;\n",
       "            color:  #000000;\n",
       "        }    #T_3d343842_888f_11ea_ab13_f7901248353crow9_col9 {\n",
       "            background-color:  #08306b;\n",
       "            color:  #f1f1f1;\n",
       "        }    #T_3d343842_888f_11ea_ab13_f7901248353crow9_col10 {\n",
       "            background-color:  #f2f8fd;\n",
       "            color:  #000000;\n",
       "        }    #T_3d343842_888f_11ea_ab13_f7901248353crow9_col11 {\n",
       "            background-color:  #f2f8fd;\n",
       "            color:  #000000;\n",
       "        }    #T_3d343842_888f_11ea_ab13_f7901248353crow9_col12 {\n",
       "            background-color:  #f2f8fd;\n",
       "            color:  #000000;\n",
       "        }    #T_3d343842_888f_11ea_ab13_f7901248353crow9_col13 {\n",
       "            background-color:  #eef5fc;\n",
       "            color:  #000000;\n",
       "        }    #T_3d343842_888f_11ea_ab13_f7901248353crow9_col14 {\n",
       "            background-color:  #f0f6fd;\n",
       "            color:  #000000;\n",
       "        }    #T_3d343842_888f_11ea_ab13_f7901248353crow9_col15 {\n",
       "            background-color:  #eef5fc;\n",
       "            color:  #000000;\n",
       "        }    #T_3d343842_888f_11ea_ab13_f7901248353crow9_col16 {\n",
       "            background-color:  #f7fbff;\n",
       "            color:  #000000;\n",
       "        }    #T_3d343842_888f_11ea_ab13_f7901248353crow9_col17 {\n",
       "            background-color:  #edf4fc;\n",
       "            color:  #000000;\n",
       "        }    #T_3d343842_888f_11ea_ab13_f7901248353crow9_col18 {\n",
       "            background-color:  #f7fbff;\n",
       "            color:  #000000;\n",
       "        }    #T_3d343842_888f_11ea_ab13_f7901248353crow9_col19 {\n",
       "            background-color:  #eef5fc;\n",
       "            color:  #000000;\n",
       "        }    #T_3d343842_888f_11ea_ab13_f7901248353crow9_col20 {\n",
       "            background-color:  #b3d3e8;\n",
       "            color:  #000000;\n",
       "        }    #T_3d343842_888f_11ea_ab13_f7901248353crow10_col0 {\n",
       "            background-color:  #f1f7fd;\n",
       "            color:  #000000;\n",
       "        }    #T_3d343842_888f_11ea_ab13_f7901248353crow10_col1 {\n",
       "            background-color:  #f4f9fe;\n",
       "            color:  #000000;\n",
       "        }    #T_3d343842_888f_11ea_ab13_f7901248353crow10_col2 {\n",
       "            background-color:  #eef5fc;\n",
       "            color:  #000000;\n",
       "        }    #T_3d343842_888f_11ea_ab13_f7901248353crow10_col3 {\n",
       "            background-color:  #f5fafe;\n",
       "            color:  #000000;\n",
       "        }    #T_3d343842_888f_11ea_ab13_f7901248353crow10_col4 {\n",
       "            background-color:  #eef5fc;\n",
       "            color:  #000000;\n",
       "        }    #T_3d343842_888f_11ea_ab13_f7901248353crow10_col5 {\n",
       "            background-color:  #dfecf7;\n",
       "            color:  #000000;\n",
       "        }    #T_3d343842_888f_11ea_ab13_f7901248353crow10_col6 {\n",
       "            background-color:  #e2edf8;\n",
       "            color:  #000000;\n",
       "        }    #T_3d343842_888f_11ea_ab13_f7901248353crow10_col7 {\n",
       "            background-color:  #f3f8fe;\n",
       "            color:  #000000;\n",
       "        }    #T_3d343842_888f_11ea_ab13_f7901248353crow10_col8 {\n",
       "            background-color:  #f3f8fe;\n",
       "            color:  #000000;\n",
       "        }    #T_3d343842_888f_11ea_ab13_f7901248353crow10_col9 {\n",
       "            background-color:  #f3f8fe;\n",
       "            color:  #000000;\n",
       "        }    #T_3d343842_888f_11ea_ab13_f7901248353crow10_col10 {\n",
       "            background-color:  #08306b;\n",
       "            color:  #f1f1f1;\n",
       "        }    #T_3d343842_888f_11ea_ab13_f7901248353crow10_col11 {\n",
       "            background-color:  #f3f8fe;\n",
       "            color:  #000000;\n",
       "        }    #T_3d343842_888f_11ea_ab13_f7901248353crow10_col12 {\n",
       "            background-color:  #08306b;\n",
       "            color:  #f1f1f1;\n",
       "        }    #T_3d343842_888f_11ea_ab13_f7901248353crow10_col13 {\n",
       "            background-color:  #f5fafe;\n",
       "            color:  #000000;\n",
       "        }    #T_3d343842_888f_11ea_ab13_f7901248353crow10_col14 {\n",
       "            background-color:  #eff6fc;\n",
       "            color:  #000000;\n",
       "        }    #T_3d343842_888f_11ea_ab13_f7901248353crow10_col15 {\n",
       "            background-color:  #f5fafe;\n",
       "            color:  #000000;\n",
       "        }    #T_3d343842_888f_11ea_ab13_f7901248353crow10_col16 {\n",
       "            background-color:  #f3f8fe;\n",
       "            color:  #000000;\n",
       "        }    #T_3d343842_888f_11ea_ab13_f7901248353crow10_col17 {\n",
       "            background-color:  #eaf2fb;\n",
       "            color:  #000000;\n",
       "        }    #T_3d343842_888f_11ea_ab13_f7901248353crow10_col18 {\n",
       "            background-color:  #f2f8fd;\n",
       "            color:  #000000;\n",
       "        }    #T_3d343842_888f_11ea_ab13_f7901248353crow10_col19 {\n",
       "            background-color:  #f2f8fd;\n",
       "            color:  #000000;\n",
       "        }    #T_3d343842_888f_11ea_ab13_f7901248353crow10_col20 {\n",
       "            background-color:  #d1e2f3;\n",
       "            color:  #000000;\n",
       "        }    #T_3d343842_888f_11ea_ab13_f7901248353crow11_col0 {\n",
       "            background-color:  #f7fbff;\n",
       "            color:  #000000;\n",
       "        }    #T_3d343842_888f_11ea_ab13_f7901248353crow11_col1 {\n",
       "            background-color:  #f0f6fd;\n",
       "            color:  #000000;\n",
       "        }    #T_3d343842_888f_11ea_ab13_f7901248353crow11_col2 {\n",
       "            background-color:  #f2f8fd;\n",
       "            color:  #000000;\n",
       "        }    #T_3d343842_888f_11ea_ab13_f7901248353crow11_col3 {\n",
       "            background-color:  #eff6fc;\n",
       "            color:  #000000;\n",
       "        }    #T_3d343842_888f_11ea_ab13_f7901248353crow11_col4 {\n",
       "            background-color:  #f0f6fd;\n",
       "            color:  #000000;\n",
       "        }    #T_3d343842_888f_11ea_ab13_f7901248353crow11_col5 {\n",
       "            background-color:  #e2edf8;\n",
       "            color:  #000000;\n",
       "        }    #T_3d343842_888f_11ea_ab13_f7901248353crow11_col6 {\n",
       "            background-color:  #e3eef8;\n",
       "            color:  #000000;\n",
       "        }    #T_3d343842_888f_11ea_ab13_f7901248353crow11_col7 {\n",
       "            background-color:  #f3f8fe;\n",
       "            color:  #000000;\n",
       "        }    #T_3d343842_888f_11ea_ab13_f7901248353crow11_col8 {\n",
       "            background-color:  #f2f8fd;\n",
       "            color:  #000000;\n",
       "        }    #T_3d343842_888f_11ea_ab13_f7901248353crow11_col9 {\n",
       "            background-color:  #f3f8fe;\n",
       "            color:  #000000;\n",
       "        }    #T_3d343842_888f_11ea_ab13_f7901248353crow11_col10 {\n",
       "            background-color:  #f3f8fe;\n",
       "            color:  #000000;\n",
       "        }    #T_3d343842_888f_11ea_ab13_f7901248353crow11_col11 {\n",
       "            background-color:  #08306b;\n",
       "            color:  #f1f1f1;\n",
       "        }    #T_3d343842_888f_11ea_ab13_f7901248353crow11_col12 {\n",
       "            background-color:  #f3f8fe;\n",
       "            color:  #000000;\n",
       "        }    #T_3d343842_888f_11ea_ab13_f7901248353crow11_col13 {\n",
       "            background-color:  #f2f7fd;\n",
       "            color:  #000000;\n",
       "        }    #T_3d343842_888f_11ea_ab13_f7901248353crow11_col14 {\n",
       "            background-color:  #f7fbff;\n",
       "            color:  #000000;\n",
       "        }    #T_3d343842_888f_11ea_ab13_f7901248353crow11_col15 {\n",
       "            background-color:  #f2f7fd;\n",
       "            color:  #000000;\n",
       "        }    #T_3d343842_888f_11ea_ab13_f7901248353crow11_col16 {\n",
       "            background-color:  #f3f8fe;\n",
       "            color:  #000000;\n",
       "        }    #T_3d343842_888f_11ea_ab13_f7901248353crow11_col17 {\n",
       "            background-color:  #eef5fc;\n",
       "            color:  #000000;\n",
       "        }    #T_3d343842_888f_11ea_ab13_f7901248353crow11_col18 {\n",
       "            background-color:  #f3f8fe;\n",
       "            color:  #000000;\n",
       "        }    #T_3d343842_888f_11ea_ab13_f7901248353crow11_col19 {\n",
       "            background-color:  #f2f7fd;\n",
       "            color:  #000000;\n",
       "        }    #T_3d343842_888f_11ea_ab13_f7901248353crow11_col20 {\n",
       "            background-color:  #e3eef9;\n",
       "            color:  #000000;\n",
       "        }    #T_3d343842_888f_11ea_ab13_f7901248353crow12_col0 {\n",
       "            background-color:  #f1f7fd;\n",
       "            color:  #000000;\n",
       "        }    #T_3d343842_888f_11ea_ab13_f7901248353crow12_col1 {\n",
       "            background-color:  #f4f9fe;\n",
       "            color:  #000000;\n",
       "        }    #T_3d343842_888f_11ea_ab13_f7901248353crow12_col2 {\n",
       "            background-color:  #eef5fc;\n",
       "            color:  #000000;\n",
       "        }    #T_3d343842_888f_11ea_ab13_f7901248353crow12_col3 {\n",
       "            background-color:  #f5fafe;\n",
       "            color:  #000000;\n",
       "        }    #T_3d343842_888f_11ea_ab13_f7901248353crow12_col4 {\n",
       "            background-color:  #eef5fc;\n",
       "            color:  #000000;\n",
       "        }    #T_3d343842_888f_11ea_ab13_f7901248353crow12_col5 {\n",
       "            background-color:  #dfecf7;\n",
       "            color:  #000000;\n",
       "        }    #T_3d343842_888f_11ea_ab13_f7901248353crow12_col6 {\n",
       "            background-color:  #e2edf8;\n",
       "            color:  #000000;\n",
       "        }    #T_3d343842_888f_11ea_ab13_f7901248353crow12_col7 {\n",
       "            background-color:  #f3f8fe;\n",
       "            color:  #000000;\n",
       "        }    #T_3d343842_888f_11ea_ab13_f7901248353crow12_col8 {\n",
       "            background-color:  #f3f8fe;\n",
       "            color:  #000000;\n",
       "        }    #T_3d343842_888f_11ea_ab13_f7901248353crow12_col9 {\n",
       "            background-color:  #f3f8fe;\n",
       "            color:  #000000;\n",
       "        }    #T_3d343842_888f_11ea_ab13_f7901248353crow12_col10 {\n",
       "            background-color:  #08306b;\n",
       "            color:  #f1f1f1;\n",
       "        }    #T_3d343842_888f_11ea_ab13_f7901248353crow12_col11 {\n",
       "            background-color:  #f3f8fe;\n",
       "            color:  #000000;\n",
       "        }    #T_3d343842_888f_11ea_ab13_f7901248353crow12_col12 {\n",
       "            background-color:  #08306b;\n",
       "            color:  #f1f1f1;\n",
       "        }    #T_3d343842_888f_11ea_ab13_f7901248353crow12_col13 {\n",
       "            background-color:  #f5fafe;\n",
       "            color:  #000000;\n",
       "        }    #T_3d343842_888f_11ea_ab13_f7901248353crow12_col14 {\n",
       "            background-color:  #eff6fc;\n",
       "            color:  #000000;\n",
       "        }    #T_3d343842_888f_11ea_ab13_f7901248353crow12_col15 {\n",
       "            background-color:  #f5fafe;\n",
       "            color:  #000000;\n",
       "        }    #T_3d343842_888f_11ea_ab13_f7901248353crow12_col16 {\n",
       "            background-color:  #f3f8fe;\n",
       "            color:  #000000;\n",
       "        }    #T_3d343842_888f_11ea_ab13_f7901248353crow12_col17 {\n",
       "            background-color:  #eaf2fb;\n",
       "            color:  #000000;\n",
       "        }    #T_3d343842_888f_11ea_ab13_f7901248353crow12_col18 {\n",
       "            background-color:  #f2f8fd;\n",
       "            color:  #000000;\n",
       "        }    #T_3d343842_888f_11ea_ab13_f7901248353crow12_col19 {\n",
       "            background-color:  #f2f8fd;\n",
       "            color:  #000000;\n",
       "        }    #T_3d343842_888f_11ea_ab13_f7901248353crow12_col20 {\n",
       "            background-color:  #d1e2f3;\n",
       "            color:  #000000;\n",
       "        }    #T_3d343842_888f_11ea_ab13_f7901248353crow13_col0 {\n",
       "            background-color:  #f1f7fd;\n",
       "            color:  #000000;\n",
       "        }    #T_3d343842_888f_11ea_ab13_f7901248353crow13_col1 {\n",
       "            background-color:  #f0f6fd;\n",
       "            color:  #000000;\n",
       "        }    #T_3d343842_888f_11ea_ab13_f7901248353crow13_col2 {\n",
       "            background-color:  #ecf4fb;\n",
       "            color:  #000000;\n",
       "        }    #T_3d343842_888f_11ea_ab13_f7901248353crow13_col3 {\n",
       "            background-color:  #f1f7fd;\n",
       "            color:  #000000;\n",
       "        }    #T_3d343842_888f_11ea_ab13_f7901248353crow13_col4 {\n",
       "            background-color:  #f7fbff;\n",
       "            color:  #000000;\n",
       "        }    #T_3d343842_888f_11ea_ab13_f7901248353crow13_col5 {\n",
       "            background-color:  #dfebf7;\n",
       "            color:  #000000;\n",
       "        }    #T_3d343842_888f_11ea_ab13_f7901248353crow13_col6 {\n",
       "            background-color:  #e0ecf8;\n",
       "            color:  #000000;\n",
       "        }    #T_3d343842_888f_11ea_ab13_f7901248353crow13_col7 {\n",
       "            background-color:  #f0f6fd;\n",
       "            color:  #000000;\n",
       "        }    #T_3d343842_888f_11ea_ab13_f7901248353crow13_col8 {\n",
       "            background-color:  #f4f9fe;\n",
       "            color:  #000000;\n",
       "        }    #T_3d343842_888f_11ea_ab13_f7901248353crow13_col9 {\n",
       "            background-color:  #f0f6fd;\n",
       "            color:  #000000;\n",
       "        }    #T_3d343842_888f_11ea_ab13_f7901248353crow13_col10 {\n",
       "            background-color:  #f7fbff;\n",
       "            color:  #000000;\n",
       "        }    #T_3d343842_888f_11ea_ab13_f7901248353crow13_col11 {\n",
       "            background-color:  #f4f9fe;\n",
       "            color:  #000000;\n",
       "        }    #T_3d343842_888f_11ea_ab13_f7901248353crow13_col12 {\n",
       "            background-color:  #f7fbff;\n",
       "            color:  #000000;\n",
       "        }    #T_3d343842_888f_11ea_ab13_f7901248353crow13_col13 {\n",
       "            background-color:  #08306b;\n",
       "            color:  #f1f1f1;\n",
       "        }    #T_3d343842_888f_11ea_ab13_f7901248353crow13_col14 {\n",
       "            background-color:  #eef5fc;\n",
       "            color:  #000000;\n",
       "        }    #T_3d343842_888f_11ea_ab13_f7901248353crow13_col15 {\n",
       "            background-color:  #08306b;\n",
       "            color:  #f1f1f1;\n",
       "        }    #T_3d343842_888f_11ea_ab13_f7901248353crow13_col16 {\n",
       "            background-color:  #f5fafe;\n",
       "            color:  #000000;\n",
       "        }    #T_3d343842_888f_11ea_ab13_f7901248353crow13_col17 {\n",
       "            background-color:  #eef5fc;\n",
       "            color:  #000000;\n",
       "        }    #T_3d343842_888f_11ea_ab13_f7901248353crow13_col18 {\n",
       "            background-color:  #f5fafe;\n",
       "            color:  #000000;\n",
       "        }    #T_3d343842_888f_11ea_ab13_f7901248353crow13_col19 {\n",
       "            background-color:  #f1f7fd;\n",
       "            color:  #000000;\n",
       "        }    #T_3d343842_888f_11ea_ab13_f7901248353crow13_col20 {\n",
       "            background-color:  #d9e8f5;\n",
       "            color:  #000000;\n",
       "        }    #T_3d343842_888f_11ea_ab13_f7901248353crow14_col0 {\n",
       "            background-color:  #f1f7fd;\n",
       "            color:  #000000;\n",
       "        }    #T_3d343842_888f_11ea_ab13_f7901248353crow14_col1 {\n",
       "            background-color:  #f2f7fd;\n",
       "            color:  #000000;\n",
       "        }    #T_3d343842_888f_11ea_ab13_f7901248353crow14_col2 {\n",
       "            background-color:  #edf4fc;\n",
       "            color:  #000000;\n",
       "        }    #T_3d343842_888f_11ea_ab13_f7901248353crow14_col3 {\n",
       "            background-color:  #f1f7fd;\n",
       "            color:  #000000;\n",
       "        }    #T_3d343842_888f_11ea_ab13_f7901248353crow14_col4 {\n",
       "            background-color:  #eef5fc;\n",
       "            color:  #000000;\n",
       "        }    #T_3d343842_888f_11ea_ab13_f7901248353crow14_col5 {\n",
       "            background-color:  #e2edf8;\n",
       "            color:  #000000;\n",
       "        }    #T_3d343842_888f_11ea_ab13_f7901248353crow14_col6 {\n",
       "            background-color:  #e4eff9;\n",
       "            color:  #000000;\n",
       "        }    #T_3d343842_888f_11ea_ab13_f7901248353crow14_col7 {\n",
       "            background-color:  #f1f7fd;\n",
       "            color:  #000000;\n",
       "        }    #T_3d343842_888f_11ea_ab13_f7901248353crow14_col8 {\n",
       "            background-color:  #f7fbff;\n",
       "            color:  #000000;\n",
       "        }    #T_3d343842_888f_11ea_ab13_f7901248353crow14_col9 {\n",
       "            background-color:  #f1f7fd;\n",
       "            color:  #000000;\n",
       "        }    #T_3d343842_888f_11ea_ab13_f7901248353crow14_col10 {\n",
       "            background-color:  #eff6fc;\n",
       "            color:  #000000;\n",
       "        }    #T_3d343842_888f_11ea_ab13_f7901248353crow14_col11 {\n",
       "            background-color:  #f7fbff;\n",
       "            color:  #000000;\n",
       "        }    #T_3d343842_888f_11ea_ab13_f7901248353crow14_col12 {\n",
       "            background-color:  #eff6fc;\n",
       "            color:  #000000;\n",
       "        }    #T_3d343842_888f_11ea_ab13_f7901248353crow14_col13 {\n",
       "            background-color:  #ecf4fb;\n",
       "            color:  #000000;\n",
       "        }    #T_3d343842_888f_11ea_ab13_f7901248353crow14_col14 {\n",
       "            background-color:  #08306b;\n",
       "            color:  #f1f1f1;\n",
       "        }    #T_3d343842_888f_11ea_ab13_f7901248353crow14_col15 {\n",
       "            background-color:  #ecf4fb;\n",
       "            color:  #000000;\n",
       "        }    #T_3d343842_888f_11ea_ab13_f7901248353crow14_col16 {\n",
       "            background-color:  #f2f8fd;\n",
       "            color:  #000000;\n",
       "        }    #T_3d343842_888f_11ea_ab13_f7901248353crow14_col17 {\n",
       "            background-color:  #e9f2fa;\n",
       "            color:  #000000;\n",
       "        }    #T_3d343842_888f_11ea_ab13_f7901248353crow14_col18 {\n",
       "            background-color:  #f2f8fd;\n",
       "            color:  #000000;\n",
       "        }    #T_3d343842_888f_11ea_ab13_f7901248353crow14_col19 {\n",
       "            background-color:  #f6faff;\n",
       "            color:  #000000;\n",
       "        }    #T_3d343842_888f_11ea_ab13_f7901248353crow14_col20 {\n",
       "            background-color:  #e3eef8;\n",
       "            color:  #000000;\n",
       "        }    #T_3d343842_888f_11ea_ab13_f7901248353crow15_col0 {\n",
       "            background-color:  #f1f7fd;\n",
       "            color:  #000000;\n",
       "        }    #T_3d343842_888f_11ea_ab13_f7901248353crow15_col1 {\n",
       "            background-color:  #f0f6fd;\n",
       "            color:  #000000;\n",
       "        }    #T_3d343842_888f_11ea_ab13_f7901248353crow15_col2 {\n",
       "            background-color:  #ecf4fb;\n",
       "            color:  #000000;\n",
       "        }    #T_3d343842_888f_11ea_ab13_f7901248353crow15_col3 {\n",
       "            background-color:  #f1f7fd;\n",
       "            color:  #000000;\n",
       "        }    #T_3d343842_888f_11ea_ab13_f7901248353crow15_col4 {\n",
       "            background-color:  #f7fbff;\n",
       "            color:  #000000;\n",
       "        }    #T_3d343842_888f_11ea_ab13_f7901248353crow15_col5 {\n",
       "            background-color:  #dfebf7;\n",
       "            color:  #000000;\n",
       "        }    #T_3d343842_888f_11ea_ab13_f7901248353crow15_col6 {\n",
       "            background-color:  #e0ecf8;\n",
       "            color:  #000000;\n",
       "        }    #T_3d343842_888f_11ea_ab13_f7901248353crow15_col7 {\n",
       "            background-color:  #f0f6fd;\n",
       "            color:  #000000;\n",
       "        }    #T_3d343842_888f_11ea_ab13_f7901248353crow15_col8 {\n",
       "            background-color:  #f4f9fe;\n",
       "            color:  #000000;\n",
       "        }    #T_3d343842_888f_11ea_ab13_f7901248353crow15_col9 {\n",
       "            background-color:  #f0f6fd;\n",
       "            color:  #000000;\n",
       "        }    #T_3d343842_888f_11ea_ab13_f7901248353crow15_col10 {\n",
       "            background-color:  #f7fbff;\n",
       "            color:  #000000;\n",
       "        }    #T_3d343842_888f_11ea_ab13_f7901248353crow15_col11 {\n",
       "            background-color:  #f4f9fe;\n",
       "            color:  #000000;\n",
       "        }    #T_3d343842_888f_11ea_ab13_f7901248353crow15_col12 {\n",
       "            background-color:  #f7fbff;\n",
       "            color:  #000000;\n",
       "        }    #T_3d343842_888f_11ea_ab13_f7901248353crow15_col13 {\n",
       "            background-color:  #08306b;\n",
       "            color:  #f1f1f1;\n",
       "        }    #T_3d343842_888f_11ea_ab13_f7901248353crow15_col14 {\n",
       "            background-color:  #eef5fc;\n",
       "            color:  #000000;\n",
       "        }    #T_3d343842_888f_11ea_ab13_f7901248353crow15_col15 {\n",
       "            background-color:  #08306b;\n",
       "            color:  #f1f1f1;\n",
       "        }    #T_3d343842_888f_11ea_ab13_f7901248353crow15_col16 {\n",
       "            background-color:  #f5fafe;\n",
       "            color:  #000000;\n",
       "        }    #T_3d343842_888f_11ea_ab13_f7901248353crow15_col17 {\n",
       "            background-color:  #eef5fc;\n",
       "            color:  #000000;\n",
       "        }    #T_3d343842_888f_11ea_ab13_f7901248353crow15_col18 {\n",
       "            background-color:  #f5fafe;\n",
       "            color:  #000000;\n",
       "        }    #T_3d343842_888f_11ea_ab13_f7901248353crow15_col19 {\n",
       "            background-color:  #f1f7fd;\n",
       "            color:  #000000;\n",
       "        }    #T_3d343842_888f_11ea_ab13_f7901248353crow15_col20 {\n",
       "            background-color:  #d9e8f5;\n",
       "            color:  #000000;\n",
       "        }    #T_3d343842_888f_11ea_ab13_f7901248353crow16_col0 {\n",
       "            background-color:  #f5fafe;\n",
       "            color:  #000000;\n",
       "        }    #T_3d343842_888f_11ea_ab13_f7901248353crow16_col1 {\n",
       "            background-color:  #f0f6fd;\n",
       "            color:  #000000;\n",
       "        }    #T_3d343842_888f_11ea_ab13_f7901248353crow16_col2 {\n",
       "            background-color:  #eff6fc;\n",
       "            color:  #000000;\n",
       "        }    #T_3d343842_888f_11ea_ab13_f7901248353crow16_col3 {\n",
       "            background-color:  #f3f8fe;\n",
       "            color:  #000000;\n",
       "        }    #T_3d343842_888f_11ea_ab13_f7901248353crow16_col4 {\n",
       "            background-color:  #eaf2fb;\n",
       "            color:  #000000;\n",
       "        }    #T_3d343842_888f_11ea_ab13_f7901248353crow16_col5 {\n",
       "            background-color:  #e3eef8;\n",
       "            color:  #000000;\n",
       "        }    #T_3d343842_888f_11ea_ab13_f7901248353crow16_col6 {\n",
       "            background-color:  #e4eff9;\n",
       "            color:  #000000;\n",
       "        }    #T_3d343842_888f_11ea_ab13_f7901248353crow16_col7 {\n",
       "            background-color:  #f7fbff;\n",
       "            color:  #000000;\n",
       "        }    #T_3d343842_888f_11ea_ab13_f7901248353crow16_col8 {\n",
       "            background-color:  #f2f8fd;\n",
       "            color:  #000000;\n",
       "        }    #T_3d343842_888f_11ea_ab13_f7901248353crow16_col9 {\n",
       "            background-color:  #f7fbff;\n",
       "            color:  #000000;\n",
       "        }    #T_3d343842_888f_11ea_ab13_f7901248353crow16_col10 {\n",
       "            background-color:  #f2f8fd;\n",
       "            color:  #000000;\n",
       "        }    #T_3d343842_888f_11ea_ab13_f7901248353crow16_col11 {\n",
       "            background-color:  #f3f8fe;\n",
       "            color:  #000000;\n",
       "        }    #T_3d343842_888f_11ea_ab13_f7901248353crow16_col12 {\n",
       "            background-color:  #f2f8fd;\n",
       "            color:  #000000;\n",
       "        }    #T_3d343842_888f_11ea_ab13_f7901248353crow16_col13 {\n",
       "            background-color:  #f3f8fe;\n",
       "            color:  #000000;\n",
       "        }    #T_3d343842_888f_11ea_ab13_f7901248353crow16_col14 {\n",
       "            background-color:  #f2f8fd;\n",
       "            color:  #000000;\n",
       "        }    #T_3d343842_888f_11ea_ab13_f7901248353crow16_col15 {\n",
       "            background-color:  #f3f8fe;\n",
       "            color:  #000000;\n",
       "        }    #T_3d343842_888f_11ea_ab13_f7901248353crow16_col16 {\n",
       "            background-color:  #08306b;\n",
       "            color:  #f1f1f1;\n",
       "        }    #T_3d343842_888f_11ea_ab13_f7901248353crow16_col17 {\n",
       "            background-color:  #eaf2fb;\n",
       "            color:  #000000;\n",
       "        }    #T_3d343842_888f_11ea_ab13_f7901248353crow16_col18 {\n",
       "            background-color:  #08306b;\n",
       "            color:  #f1f1f1;\n",
       "        }    #T_3d343842_888f_11ea_ab13_f7901248353crow16_col19 {\n",
       "            background-color:  #f6faff;\n",
       "            color:  #000000;\n",
       "        }    #T_3d343842_888f_11ea_ab13_f7901248353crow16_col20 {\n",
       "            background-color:  #d4e4f4;\n",
       "            color:  #000000;\n",
       "        }    #T_3d343842_888f_11ea_ab13_f7901248353crow17_col0 {\n",
       "            background-color:  #f0f6fd;\n",
       "            color:  #000000;\n",
       "        }    #T_3d343842_888f_11ea_ab13_f7901248353crow17_col1 {\n",
       "            background-color:  #f0f6fd;\n",
       "            color:  #000000;\n",
       "        }    #T_3d343842_888f_11ea_ab13_f7901248353crow17_col2 {\n",
       "            background-color:  #f2f7fd;\n",
       "            color:  #000000;\n",
       "        }    #T_3d343842_888f_11ea_ab13_f7901248353crow17_col3 {\n",
       "            background-color:  #f7fbff;\n",
       "            color:  #000000;\n",
       "        }    #T_3d343842_888f_11ea_ab13_f7901248353crow17_col4 {\n",
       "            background-color:  #f4f9fe;\n",
       "            color:  #000000;\n",
       "        }    #T_3d343842_888f_11ea_ab13_f7901248353crow17_col5 {\n",
       "            background-color:  #e4eff9;\n",
       "            color:  #000000;\n",
       "        }    #T_3d343842_888f_11ea_ab13_f7901248353crow17_col6 {\n",
       "            background-color:  #e4eff9;\n",
       "            color:  #000000;\n",
       "        }    #T_3d343842_888f_11ea_ab13_f7901248353crow17_col7 {\n",
       "            background-color:  #f5f9fe;\n",
       "            color:  #000000;\n",
       "        }    #T_3d343842_888f_11ea_ab13_f7901248353crow17_col8 {\n",
       "            background-color:  #f3f8fe;\n",
       "            color:  #000000;\n",
       "        }    #T_3d343842_888f_11ea_ab13_f7901248353crow17_col9 {\n",
       "            background-color:  #f5f9fe;\n",
       "            color:  #000000;\n",
       "        }    #T_3d343842_888f_11ea_ab13_f7901248353crow17_col10 {\n",
       "            background-color:  #f2f7fd;\n",
       "            color:  #000000;\n",
       "        }    #T_3d343842_888f_11ea_ab13_f7901248353crow17_col11 {\n",
       "            background-color:  #f6faff;\n",
       "            color:  #000000;\n",
       "        }    #T_3d343842_888f_11ea_ab13_f7901248353crow17_col12 {\n",
       "            background-color:  #f2f7fd;\n",
       "            color:  #000000;\n",
       "        }    #T_3d343842_888f_11ea_ab13_f7901248353crow17_col13 {\n",
       "            background-color:  #f4f9fe;\n",
       "            color:  #000000;\n",
       "        }    #T_3d343842_888f_11ea_ab13_f7901248353crow17_col14 {\n",
       "            background-color:  #f0f6fd;\n",
       "            color:  #000000;\n",
       "        }    #T_3d343842_888f_11ea_ab13_f7901248353crow17_col15 {\n",
       "            background-color:  #f4f9fe;\n",
       "            color:  #000000;\n",
       "        }    #T_3d343842_888f_11ea_ab13_f7901248353crow17_col16 {\n",
       "            background-color:  #f1f7fd;\n",
       "            color:  #000000;\n",
       "        }    #T_3d343842_888f_11ea_ab13_f7901248353crow17_col17 {\n",
       "            background-color:  #08306b;\n",
       "            color:  #f1f1f1;\n",
       "        }    #T_3d343842_888f_11ea_ab13_f7901248353crow17_col18 {\n",
       "            background-color:  #f1f7fd;\n",
       "            color:  #000000;\n",
       "        }    #T_3d343842_888f_11ea_ab13_f7901248353crow17_col19 {\n",
       "            background-color:  #f7fbff;\n",
       "            color:  #000000;\n",
       "        }    #T_3d343842_888f_11ea_ab13_f7901248353crow17_col20 {\n",
       "            background-color:  #eef5fc;\n",
       "            color:  #000000;\n",
       "        }    #T_3d343842_888f_11ea_ab13_f7901248353crow18_col0 {\n",
       "            background-color:  #f5fafe;\n",
       "            color:  #000000;\n",
       "        }    #T_3d343842_888f_11ea_ab13_f7901248353crow18_col1 {\n",
       "            background-color:  #f0f6fd;\n",
       "            color:  #000000;\n",
       "        }    #T_3d343842_888f_11ea_ab13_f7901248353crow18_col2 {\n",
       "            background-color:  #eff6fc;\n",
       "            color:  #000000;\n",
       "        }    #T_3d343842_888f_11ea_ab13_f7901248353crow18_col3 {\n",
       "            background-color:  #f3f8fe;\n",
       "            color:  #000000;\n",
       "        }    #T_3d343842_888f_11ea_ab13_f7901248353crow18_col4 {\n",
       "            background-color:  #eaf2fb;\n",
       "            color:  #000000;\n",
       "        }    #T_3d343842_888f_11ea_ab13_f7901248353crow18_col5 {\n",
       "            background-color:  #e3eef8;\n",
       "            color:  #000000;\n",
       "        }    #T_3d343842_888f_11ea_ab13_f7901248353crow18_col6 {\n",
       "            background-color:  #e4eff9;\n",
       "            color:  #000000;\n",
       "        }    #T_3d343842_888f_11ea_ab13_f7901248353crow18_col7 {\n",
       "            background-color:  #f7fbff;\n",
       "            color:  #000000;\n",
       "        }    #T_3d343842_888f_11ea_ab13_f7901248353crow18_col8 {\n",
       "            background-color:  #f2f8fd;\n",
       "            color:  #000000;\n",
       "        }    #T_3d343842_888f_11ea_ab13_f7901248353crow18_col9 {\n",
       "            background-color:  #f7fbff;\n",
       "            color:  #000000;\n",
       "        }    #T_3d343842_888f_11ea_ab13_f7901248353crow18_col10 {\n",
       "            background-color:  #f2f8fd;\n",
       "            color:  #000000;\n",
       "        }    #T_3d343842_888f_11ea_ab13_f7901248353crow18_col11 {\n",
       "            background-color:  #f3f8fe;\n",
       "            color:  #000000;\n",
       "        }    #T_3d343842_888f_11ea_ab13_f7901248353crow18_col12 {\n",
       "            background-color:  #f2f8fd;\n",
       "            color:  #000000;\n",
       "        }    #T_3d343842_888f_11ea_ab13_f7901248353crow18_col13 {\n",
       "            background-color:  #f3f8fe;\n",
       "            color:  #000000;\n",
       "        }    #T_3d343842_888f_11ea_ab13_f7901248353crow18_col14 {\n",
       "            background-color:  #f2f8fd;\n",
       "            color:  #000000;\n",
       "        }    #T_3d343842_888f_11ea_ab13_f7901248353crow18_col15 {\n",
       "            background-color:  #f3f8fe;\n",
       "            color:  #000000;\n",
       "        }    #T_3d343842_888f_11ea_ab13_f7901248353crow18_col16 {\n",
       "            background-color:  #08306b;\n",
       "            color:  #f1f1f1;\n",
       "        }    #T_3d343842_888f_11ea_ab13_f7901248353crow18_col17 {\n",
       "            background-color:  #e9f2fa;\n",
       "            color:  #000000;\n",
       "        }    #T_3d343842_888f_11ea_ab13_f7901248353crow18_col18 {\n",
       "            background-color:  #08306b;\n",
       "            color:  #f1f1f1;\n",
       "        }    #T_3d343842_888f_11ea_ab13_f7901248353crow18_col19 {\n",
       "            background-color:  #f6faff;\n",
       "            color:  #000000;\n",
       "        }    #T_3d343842_888f_11ea_ab13_f7901248353crow18_col20 {\n",
       "            background-color:  #d4e4f4;\n",
       "            color:  #000000;\n",
       "        }    #T_3d343842_888f_11ea_ab13_f7901248353crow19_col0 {\n",
       "            background-color:  #f7fbff;\n",
       "            color:  #000000;\n",
       "        }    #T_3d343842_888f_11ea_ab13_f7901248353crow19_col1 {\n",
       "            background-color:  #f0f6fd;\n",
       "            color:  #000000;\n",
       "        }    #T_3d343842_888f_11ea_ab13_f7901248353crow19_col2 {\n",
       "            background-color:  #f0f6fd;\n",
       "            color:  #000000;\n",
       "        }    #T_3d343842_888f_11ea_ab13_f7901248353crow19_col3 {\n",
       "            background-color:  #eff6fc;\n",
       "            color:  #000000;\n",
       "        }    #T_3d343842_888f_11ea_ab13_f7901248353crow19_col4 {\n",
       "            background-color:  #f2f8fd;\n",
       "            color:  #000000;\n",
       "        }    #T_3d343842_888f_11ea_ab13_f7901248353crow19_col5 {\n",
       "            background-color:  #e3eef9;\n",
       "            color:  #000000;\n",
       "        }    #T_3d343842_888f_11ea_ab13_f7901248353crow19_col6 {\n",
       "            background-color:  #e5eff9;\n",
       "            color:  #000000;\n",
       "        }    #T_3d343842_888f_11ea_ab13_f7901248353crow19_col7 {\n",
       "            background-color:  #f1f7fd;\n",
       "            color:  #000000;\n",
       "        }    #T_3d343842_888f_11ea_ab13_f7901248353crow19_col8 {\n",
       "            background-color:  #f7fbff;\n",
       "            color:  #000000;\n",
       "        }    #T_3d343842_888f_11ea_ab13_f7901248353crow19_col9 {\n",
       "            background-color:  #f1f7fd;\n",
       "            color:  #000000;\n",
       "        }    #T_3d343842_888f_11ea_ab13_f7901248353crow19_col10 {\n",
       "            background-color:  #f4f9fe;\n",
       "            color:  #000000;\n",
       "        }    #T_3d343842_888f_11ea_ab13_f7901248353crow19_col11 {\n",
       "            background-color:  #f2f8fd;\n",
       "            color:  #000000;\n",
       "        }    #T_3d343842_888f_11ea_ab13_f7901248353crow19_col12 {\n",
       "            background-color:  #f4f9fe;\n",
       "            color:  #000000;\n",
       "        }    #T_3d343842_888f_11ea_ab13_f7901248353crow19_col13 {\n",
       "            background-color:  #f0f6fd;\n",
       "            color:  #000000;\n",
       "        }    #T_3d343842_888f_11ea_ab13_f7901248353crow19_col14 {\n",
       "            background-color:  #f7fbff;\n",
       "            color:  #000000;\n",
       "        }    #T_3d343842_888f_11ea_ab13_f7901248353crow19_col15 {\n",
       "            background-color:  #f0f6fd;\n",
       "            color:  #000000;\n",
       "        }    #T_3d343842_888f_11ea_ab13_f7901248353crow19_col16 {\n",
       "            background-color:  #f7fbff;\n",
       "            color:  #000000;\n",
       "        }    #T_3d343842_888f_11ea_ab13_f7901248353crow19_col17 {\n",
       "            background-color:  #f1f7fd;\n",
       "            color:  #000000;\n",
       "        }    #T_3d343842_888f_11ea_ab13_f7901248353crow19_col18 {\n",
       "            background-color:  #f7fbff;\n",
       "            color:  #000000;\n",
       "        }    #T_3d343842_888f_11ea_ab13_f7901248353crow19_col19 {\n",
       "            background-color:  #08306b;\n",
       "            color:  #f1f1f1;\n",
       "        }    #T_3d343842_888f_11ea_ab13_f7901248353crow19_col20 {\n",
       "            background-color:  #b9d6ea;\n",
       "            color:  #000000;\n",
       "        }    #T_3d343842_888f_11ea_ab13_f7901248353crow20_col0 {\n",
       "            background-color:  #f2f8fd;\n",
       "            color:  #000000;\n",
       "        }    #T_3d343842_888f_11ea_ab13_f7901248353crow20_col1 {\n",
       "            background-color:  #ebf3fb;\n",
       "            color:  #000000;\n",
       "        }    #T_3d343842_888f_11ea_ab13_f7901248353crow20_col2 {\n",
       "            background-color:  #eef5fc;\n",
       "            color:  #000000;\n",
       "        }    #T_3d343842_888f_11ea_ab13_f7901248353crow20_col3 {\n",
       "            background-color:  #eff6fc;\n",
       "            color:  #000000;\n",
       "        }    #T_3d343842_888f_11ea_ab13_f7901248353crow20_col4 {\n",
       "            background-color:  #bcd7eb;\n",
       "            color:  #000000;\n",
       "        }    #T_3d343842_888f_11ea_ab13_f7901248353crow20_col5 {\n",
       "            background-color:  #f7fbff;\n",
       "            color:  #000000;\n",
       "        }    #T_3d343842_888f_11ea_ab13_f7901248353crow20_col6 {\n",
       "            background-color:  #f7fbff;\n",
       "            color:  #000000;\n",
       "        }    #T_3d343842_888f_11ea_ab13_f7901248353crow20_col7 {\n",
       "            background-color:  #c7dcef;\n",
       "            color:  #000000;\n",
       "        }    #T_3d343842_888f_11ea_ab13_f7901248353crow20_col8 {\n",
       "            background-color:  #eef5fc;\n",
       "            color:  #000000;\n",
       "        }    #T_3d343842_888f_11ea_ab13_f7901248353crow20_col9 {\n",
       "            background-color:  #c7dcef;\n",
       "            color:  #000000;\n",
       "        }    #T_3d343842_888f_11ea_ab13_f7901248353crow20_col10 {\n",
       "            background-color:  #dfecf7;\n",
       "            color:  #000000;\n",
       "        }    #T_3d343842_888f_11ea_ab13_f7901248353crow20_col11 {\n",
       "            background-color:  #f4f9fe;\n",
       "            color:  #000000;\n",
       "        }    #T_3d343842_888f_11ea_ab13_f7901248353crow20_col12 {\n",
       "            background-color:  #dfebf7;\n",
       "            color:  #000000;\n",
       "        }    #T_3d343842_888f_11ea_ab13_f7901248353crow20_col13 {\n",
       "            background-color:  #e7f1fa;\n",
       "            color:  #000000;\n",
       "        }    #T_3d343842_888f_11ea_ab13_f7901248353crow20_col14 {\n",
       "            background-color:  #f3f8fe;\n",
       "            color:  #000000;\n",
       "        }    #T_3d343842_888f_11ea_ab13_f7901248353crow20_col15 {\n",
       "            background-color:  #e7f1fa;\n",
       "            color:  #000000;\n",
       "        }    #T_3d343842_888f_11ea_ab13_f7901248353crow20_col16 {\n",
       "            background-color:  #e3eef9;\n",
       "            color:  #000000;\n",
       "        }    #T_3d343842_888f_11ea_ab13_f7901248353crow20_col17 {\n",
       "            background-color:  #f7fbff;\n",
       "            color:  #000000;\n",
       "        }    #T_3d343842_888f_11ea_ab13_f7901248353crow20_col18 {\n",
       "            background-color:  #e3eef9;\n",
       "            color:  #000000;\n",
       "        }    #T_3d343842_888f_11ea_ab13_f7901248353crow20_col19 {\n",
       "            background-color:  #cadef0;\n",
       "            color:  #000000;\n",
       "        }    #T_3d343842_888f_11ea_ab13_f7901248353crow20_col20 {\n",
       "            background-color:  #08306b;\n",
       "            color:  #f1f1f1;\n",
       "        }</style><table id=\"T_3d343842_888f_11ea_ab13_f7901248353c\" ><thead>    <tr>        <th class=\"blank level0\" ></th>        <th class=\"col_heading level0 col0\" >state</th>        <th class=\"col_heading level0 col1\" >account_length</th>        <th class=\"col_heading level0 col2\" >area_code</th>        <th class=\"col_heading level0 col3\" >phone_number</th>        <th class=\"col_heading level0 col4\" >international_plan</th>        <th class=\"col_heading level0 col5\" >voice_mail_plan</th>        <th class=\"col_heading level0 col6\" >number_vmail_messages</th>        <th class=\"col_heading level0 col7\" >total_day_minutes</th>        <th class=\"col_heading level0 col8\" >total_day_calls</th>        <th class=\"col_heading level0 col9\" >total_day_charge</th>        <th class=\"col_heading level0 col10\" >total_eve_minutes</th>        <th class=\"col_heading level0 col11\" >total_eve_calls</th>        <th class=\"col_heading level0 col12\" >total_eve_charge</th>        <th class=\"col_heading level0 col13\" >total_night_minutes</th>        <th class=\"col_heading level0 col14\" >total_night_calls</th>        <th class=\"col_heading level0 col15\" >total_night_charge</th>        <th class=\"col_heading level0 col16\" >total_intl_minutes</th>        <th class=\"col_heading level0 col17\" >total_intl_calls</th>        <th class=\"col_heading level0 col18\" >total_intl_charge</th>        <th class=\"col_heading level0 col19\" >number_customer_service_calls</th>        <th class=\"col_heading level0 col20\" >churn</th>    </tr></thead><tbody>\n",
       "                <tr>\n",
       "                        <th id=\"T_3d343842_888f_11ea_ab13_f7901248353clevel0_row0\" class=\"row_heading level0 row0\" >state</th>\n",
       "                        <td id=\"T_3d343842_888f_11ea_ab13_f7901248353crow0_col0\" class=\"data row0 col0\" >1</td>\n",
       "                        <td id=\"T_3d343842_888f_11ea_ab13_f7901248353crow0_col1\" class=\"data row0 col1\" >0.0035132</td>\n",
       "                        <td id=\"T_3d343842_888f_11ea_ab13_f7901248353crow0_col2\" class=\"data row0 col2\" >-0.00170214</td>\n",
       "                        <td id=\"T_3d343842_888f_11ea_ab13_f7901248353crow0_col3\" class=\"data row0 col3\" >0.0175637</td>\n",
       "                        <td id=\"T_3d343842_888f_11ea_ab13_f7901248353crow0_col4\" class=\"data row0 col4\" >0.0114937</td>\n",
       "                        <td id=\"T_3d343842_888f_11ea_ab13_f7901248353crow0_col5\" class=\"data row0 col5\" >-0.0187827</td>\n",
       "                        <td id=\"T_3d343842_888f_11ea_ab13_f7901248353crow0_col6\" class=\"data row0 col6\" >-0.0159358</td>\n",
       "                        <td id=\"T_3d343842_888f_11ea_ab13_f7901248353crow0_col7\" class=\"data row0 col7\" >0.0161548</td>\n",
       "                        <td id=\"T_3d343842_888f_11ea_ab13_f7901248353crow0_col8\" class=\"data row0 col8\" >-0.0152535</td>\n",
       "                        <td id=\"T_3d343842_888f_11ea_ab13_f7901248353crow0_col9\" class=\"data row0 col9\" >0.0161564</td>\n",
       "                        <td id=\"T_3d343842_888f_11ea_ab13_f7901248353crow0_col10\" class=\"data row0 col10\" >0.010843</td>\n",
       "                        <td id=\"T_3d343842_888f_11ea_ab13_f7901248353crow0_col11\" class=\"data row0 col11\" >-0.0187278</td>\n",
       "                        <td id=\"T_3d343842_888f_11ea_ab13_f7901248353crow0_col12\" class=\"data row0 col12\" >0.0108412</td>\n",
       "                        <td id=\"T_3d343842_888f_11ea_ab13_f7901248353crow0_col13\" class=\"data row0 col13\" >0.0109003</td>\n",
       "                        <td id=\"T_3d343842_888f_11ea_ab13_f7901248353crow0_col14\" class=\"data row0 col14\" >0.0115039</td>\n",
       "                        <td id=\"T_3d343842_888f_11ea_ab13_f7901248353crow0_col15\" class=\"data row0 col15\" >0.0109001</td>\n",
       "                        <td id=\"T_3d343842_888f_11ea_ab13_f7901248353crow0_col16\" class=\"data row0 col16\" >-0.0101673</td>\n",
       "                        <td id=\"T_3d343842_888f_11ea_ab13_f7901248353crow0_col17\" class=\"data row0 col17\" >0.0157362</td>\n",
       "                        <td id=\"T_3d343842_888f_11ea_ab13_f7901248353crow0_col18\" class=\"data row0 col18\" >-0.0101792</td>\n",
       "                        <td id=\"T_3d343842_888f_11ea_ab13_f7901248353crow0_col19\" class=\"data row0 col19\" >-0.0214711</td>\n",
       "                        <td id=\"T_3d343842_888f_11ea_ab13_f7901248353crow0_col20\" class=\"data row0 col20\" >0.00491819</td>\n",
       "            </tr>\n",
       "            <tr>\n",
       "                        <th id=\"T_3d343842_888f_11ea_ab13_f7901248353clevel0_row1\" class=\"row_heading level0 row1\" >account_length</th>\n",
       "                        <td id=\"T_3d343842_888f_11ea_ab13_f7901248353crow1_col0\" class=\"data row1 col0\" >0.0035132</td>\n",
       "                        <td id=\"T_3d343842_888f_11ea_ab13_f7901248353crow1_col1\" class=\"data row1 col1\" >1</td>\n",
       "                        <td id=\"T_3d343842_888f_11ea_ab13_f7901248353crow1_col2\" class=\"data row1 col2\" >-0.0340247</td>\n",
       "                        <td id=\"T_3d343842_888f_11ea_ab13_f7901248353crow1_col3\" class=\"data row1 col3\" >0.0100007</td>\n",
       "                        <td id=\"T_3d343842_888f_11ea_ab13_f7901248353crow1_col4\" class=\"data row1 col4\" >0.0192409</td>\n",
       "                        <td id=\"T_3d343842_888f_11ea_ab13_f7901248353crow1_col5\" class=\"data row1 col5\" >-0.00611757</td>\n",
       "                        <td id=\"T_3d343842_888f_11ea_ab13_f7901248353crow1_col6\" class=\"data row1 col6\" >-0.0125858</td>\n",
       "                        <td id=\"T_3d343842_888f_11ea_ab13_f7901248353crow1_col7\" class=\"data row1 col7\" >0.0163497</td>\n",
       "                        <td id=\"T_3d343842_888f_11ea_ab13_f7901248353crow1_col8\" class=\"data row1 col8\" >0.0141466</td>\n",
       "                        <td id=\"T_3d343842_888f_11ea_ab13_f7901248353crow1_col9\" class=\"data row1 col9\" >0.0163434</td>\n",
       "                        <td id=\"T_3d343842_888f_11ea_ab13_f7901248353crow1_col10\" class=\"data row1 col10\" >-0.0161127</td>\n",
       "                        <td id=\"T_3d343842_888f_11ea_ab13_f7901248353crow1_col11\" class=\"data row1 col11\" >0.00464065</td>\n",
       "                        <td id=\"T_3d343842_888f_11ea_ab13_f7901248353crow1_col12\" class=\"data row1 col12\" >-0.016107</td>\n",
       "                        <td id=\"T_3d343842_888f_11ea_ab13_f7901248353crow1_col13\" class=\"data row1 col13\" >0.00427189</td>\n",
       "                        <td id=\"T_3d343842_888f_11ea_ab13_f7901248353crow1_col14\" class=\"data row1 col14\" >-0.00216392</td>\n",
       "                        <td id=\"T_3d343842_888f_11ea_ab13_f7901248353crow1_col15\" class=\"data row1 col15\" >0.00426956</td>\n",
       "                        <td id=\"T_3d343842_888f_11ea_ab13_f7901248353crow1_col16\" class=\"data row1 col16\" >0.00491352</td>\n",
       "                        <td id=\"T_3d343842_888f_11ea_ab13_f7901248353crow1_col17\" class=\"data row1 col17\" >0.00364585</td>\n",
       "                        <td id=\"T_3d343842_888f_11ea_ab13_f7901248353crow1_col18\" class=\"data row1 col18\" >0.00492728</td>\n",
       "                        <td id=\"T_3d343842_888f_11ea_ab13_f7901248353crow1_col19\" class=\"data row1 col19\" >0.00282563</td>\n",
       "                        <td id=\"T_3d343842_888f_11ea_ab13_f7901248353crow1_col20\" class=\"data row1 col20\" >0.0289142</td>\n",
       "            </tr>\n",
       "            <tr>\n",
       "                        <th id=\"T_3d343842_888f_11ea_ab13_f7901248353clevel0_row2\" class=\"row_heading level0 row2\" >area_code</th>\n",
       "                        <td id=\"T_3d343842_888f_11ea_ab13_f7901248353crow2_col0\" class=\"data row2 col0\" >-0.00170214</td>\n",
       "                        <td id=\"T_3d343842_888f_11ea_ab13_f7901248353crow2_col1\" class=\"data row2 col1\" >-0.0340247</td>\n",
       "                        <td id=\"T_3d343842_888f_11ea_ab13_f7901248353crow2_col2\" class=\"data row2 col2\" >1</td>\n",
       "                        <td id=\"T_3d343842_888f_11ea_ab13_f7901248353crow2_col3\" class=\"data row2 col3\" >-0.0225862</td>\n",
       "                        <td id=\"T_3d343842_888f_11ea_ab13_f7901248353crow2_col4\" class=\"data row2 col4\" >0.0379766</td>\n",
       "                        <td id=\"T_3d343842_888f_11ea_ab13_f7901248353crow2_col5\" class=\"data row2 col5\" >0.0191169</td>\n",
       "                        <td id=\"T_3d343842_888f_11ea_ab13_f7901248353crow2_col6\" class=\"data row2 col6\" >0.0180882</td>\n",
       "                        <td id=\"T_3d343842_888f_11ea_ab13_f7901248353crow2_col7\" class=\"data row2 col7\" >0.00667993</td>\n",
       "                        <td id=\"T_3d343842_888f_11ea_ab13_f7901248353crow2_col8\" class=\"data row2 col8\" >0.008887</td>\n",
       "                        <td id=\"T_3d343842_888f_11ea_ab13_f7901248353crow2_col9\" class=\"data row2 col9\" >0.0066837</td>\n",
       "                        <td id=\"T_3d343842_888f_11ea_ab13_f7901248353crow2_col10\" class=\"data row2 col10\" >0.0138617</td>\n",
       "                        <td id=\"T_3d343842_888f_11ea_ab13_f7901248353crow2_col11\" class=\"data row2 col11\" >-0.00576077</td>\n",
       "                        <td id=\"T_3d343842_888f_11ea_ab13_f7901248353crow2_col12\" class=\"data row2 col12\" >0.0138791</td>\n",
       "                        <td id=\"T_3d343842_888f_11ea_ab13_f7901248353crow2_col13\" class=\"data row2 col13\" >0.0246464</td>\n",
       "                        <td id=\"T_3d343842_888f_11ea_ab13_f7901248353crow2_col14\" class=\"data row2 col14\" >0.0220504</td>\n",
       "                        <td id=\"T_3d343842_888f_11ea_ab13_f7901248353crow2_col15\" class=\"data row2 col15\" >0.0246227</td>\n",
       "                        <td id=\"T_3d343842_888f_11ea_ab13_f7901248353crow2_col16\" class=\"data row2 col16\" >0.00717091</td>\n",
       "                        <td id=\"T_3d343842_888f_11ea_ab13_f7901248353crow2_col17\" class=\"data row2 col17\" >-0.00213785</td>\n",
       "                        <td id=\"T_3d343842_888f_11ea_ab13_f7901248353crow2_col18\" class=\"data row2 col18\" >0.00709292</td>\n",
       "                        <td id=\"T_3d343842_888f_11ea_ab13_f7901248353crow2_col19\" class=\"data row2 col19\" >0.00396964</td>\n",
       "                        <td id=\"T_3d343842_888f_11ea_ab13_f7901248353crow2_col20\" class=\"data row2 col20\" >0.0138122</td>\n",
       "            </tr>\n",
       "            <tr>\n",
       "                        <th id=\"T_3d343842_888f_11ea_ab13_f7901248353clevel0_row3\" class=\"row_heading level0 row3\" >phone_number</th>\n",
       "                        <td id=\"T_3d343842_888f_11ea_ab13_f7901248353crow3_col0\" class=\"data row3 col0\" >0.0175637</td>\n",
       "                        <td id=\"T_3d343842_888f_11ea_ab13_f7901248353crow3_col1\" class=\"data row3 col1\" >0.0100007</td>\n",
       "                        <td id=\"T_3d343842_888f_11ea_ab13_f7901248353crow3_col2\" class=\"data row3 col2\" >-0.0225862</td>\n",
       "                        <td id=\"T_3d343842_888f_11ea_ab13_f7901248353crow3_col3\" class=\"data row3 col3\" >1</td>\n",
       "                        <td id=\"T_3d343842_888f_11ea_ab13_f7901248353crow3_col4\" class=\"data row3 col4\" >0.0284147</td>\n",
       "                        <td id=\"T_3d343842_888f_11ea_ab13_f7901248353crow3_col5\" class=\"data row3 col5\" >0.0178537</td>\n",
       "                        <td id=\"T_3d343842_888f_11ea_ab13_f7901248353crow3_col6\" class=\"data row3 col6\" >0.0180457</td>\n",
       "                        <td id=\"T_3d343842_888f_11ea_ab13_f7901248353crow3_col7\" class=\"data row3 col7\" >-0.00384898</td>\n",
       "                        <td id=\"T_3d343842_888f_11ea_ab13_f7901248353crow3_col8\" class=\"data row3 col8\" >-0.00882726</td>\n",
       "                        <td id=\"T_3d343842_888f_11ea_ab13_f7901248353crow3_col9\" class=\"data row3 col9\" >-0.00385112</td>\n",
       "                        <td id=\"T_3d343842_888f_11ea_ab13_f7901248353crow3_col10\" class=\"data row3 col10\" >-0.0157532</td>\n",
       "                        <td id=\"T_3d343842_888f_11ea_ab13_f7901248353crow3_col11\" class=\"data row3 col11\" >0.0194869</td>\n",
       "                        <td id=\"T_3d343842_888f_11ea_ab13_f7901248353crow3_col12\" class=\"data row3 col12\" >-0.0157392</td>\n",
       "                        <td id=\"T_3d343842_888f_11ea_ab13_f7901248353crow3_col13\" class=\"data row3 col13\" >0.0102692</td>\n",
       "                        <td id=\"T_3d343842_888f_11ea_ab13_f7901248353crow3_col14\" class=\"data row3 col14\" >0.00868387</td>\n",
       "                        <td id=\"T_3d343842_888f_11ea_ab13_f7901248353crow3_col15\" class=\"data row3 col15\" >0.0102687</td>\n",
       "                        <td id=\"T_3d343842_888f_11ea_ab13_f7901248353crow3_col16\" class=\"data row3 col16\" >-0.00251956</td>\n",
       "                        <td id=\"T_3d343842_888f_11ea_ab13_f7901248353crow3_col17\" class=\"data row3 col17\" >-0.024024</td>\n",
       "                        <td id=\"T_3d343842_888f_11ea_ab13_f7901248353crow3_col18\" class=\"data row3 col18\" >-0.00248095</td>\n",
       "                        <td id=\"T_3d343842_888f_11ea_ab13_f7901248353crow3_col19\" class=\"data row3 col19\" >0.019397</td>\n",
       "                        <td id=\"T_3d343842_888f_11ea_ab13_f7901248353crow3_col20\" class=\"data row3 col20\" >0.0172735</td>\n",
       "            </tr>\n",
       "            <tr>\n",
       "                        <th id=\"T_3d343842_888f_11ea_ab13_f7901248353clevel0_row4\" class=\"row_heading level0 row4\" >international_plan</th>\n",
       "                        <td id=\"T_3d343842_888f_11ea_ab13_f7901248353crow4_col0\" class=\"data row4 col0\" >0.0114937</td>\n",
       "                        <td id=\"T_3d343842_888f_11ea_ab13_f7901248353crow4_col1\" class=\"data row4 col1\" >0.0192409</td>\n",
       "                        <td id=\"T_3d343842_888f_11ea_ab13_f7901248353crow4_col2\" class=\"data row4 col2\" >0.0379766</td>\n",
       "                        <td id=\"T_3d343842_888f_11ea_ab13_f7901248353crow4_col3\" class=\"data row4 col3\" >0.0284147</td>\n",
       "                        <td id=\"T_3d343842_888f_11ea_ab13_f7901248353crow4_col4\" class=\"data row4 col4\" >1</td>\n",
       "                        <td id=\"T_3d343842_888f_11ea_ab13_f7901248353crow4_col5\" class=\"data row4 col5\" >0.00898416</td>\n",
       "                        <td id=\"T_3d343842_888f_11ea_ab13_f7901248353crow4_col6\" class=\"data row4 col6\" >0.00821366</td>\n",
       "                        <td id=\"T_3d343842_888f_11ea_ab13_f7901248353crow4_col7\" class=\"data row4 col7\" >0.0336755</td>\n",
       "                        <td id=\"T_3d343842_888f_11ea_ab13_f7901248353crow4_col8\" class=\"data row4 col8\" >0.0143966</td>\n",
       "                        <td id=\"T_3d343842_888f_11ea_ab13_f7901248353crow4_col9\" class=\"data row4 col9\" >0.0336774</td>\n",
       "                        <td id=\"T_3d343842_888f_11ea_ab13_f7901248353crow4_col10\" class=\"data row4 col10\" >0.0151955</td>\n",
       "                        <td id=\"T_3d343842_888f_11ea_ab13_f7901248353crow4_col11\" class=\"data row4 col11\" >0.00170861</td>\n",
       "                        <td id=\"T_3d343842_888f_11ea_ab13_f7901248353crow4_col12\" class=\"data row4 col12\" >0.0151941</td>\n",
       "                        <td id=\"T_3d343842_888f_11ea_ab13_f7901248353crow4_col13\" class=\"data row4 col13\" >-0.0350883</td>\n",
       "                        <td id=\"T_3d343842_888f_11ea_ab13_f7901248353crow4_col14\" class=\"data row4 col14\" >0.0126224</td>\n",
       "                        <td id=\"T_3d343842_888f_11ea_ab13_f7901248353crow4_col15\" class=\"data row4 col15\" >-0.0351058</td>\n",
       "                        <td id=\"T_3d343842_888f_11ea_ab13_f7901248353crow4_col16\" class=\"data row4 col16\" >0.0370866</td>\n",
       "                        <td id=\"T_3d343842_888f_11ea_ab13_f7901248353crow4_col17\" class=\"data row4 col17\" >-0.0153199</td>\n",
       "                        <td id=\"T_3d343842_888f_11ea_ab13_f7901248353crow4_col18\" class=\"data row4 col18\" >0.0370379</td>\n",
       "                        <td id=\"T_3d343842_888f_11ea_ab13_f7901248353crow4_col19\" class=\"data row4 col19\" >-0.00987756</td>\n",
       "                        <td id=\"T_3d343842_888f_11ea_ab13_f7901248353crow4_col20\" class=\"data row4 col20\" >0.259735</td>\n",
       "            </tr>\n",
       "            <tr>\n",
       "                        <th id=\"T_3d343842_888f_11ea_ab13_f7901248353clevel0_row5\" class=\"row_heading level0 row5\" >voice_mail_plan</th>\n",
       "                        <td id=\"T_3d343842_888f_11ea_ab13_f7901248353crow5_col0\" class=\"data row5 col0\" >-0.0187827</td>\n",
       "                        <td id=\"T_3d343842_888f_11ea_ab13_f7901248353crow5_col1\" class=\"data row5 col1\" >-0.00611757</td>\n",
       "                        <td id=\"T_3d343842_888f_11ea_ab13_f7901248353crow5_col2\" class=\"data row5 col2\" >0.0191169</td>\n",
       "                        <td id=\"T_3d343842_888f_11ea_ab13_f7901248353crow5_col3\" class=\"data row5 col3\" >0.0178537</td>\n",
       "                        <td id=\"T_3d343842_888f_11ea_ab13_f7901248353crow5_col4\" class=\"data row5 col4\" >0.00898416</td>\n",
       "                        <td id=\"T_3d343842_888f_11ea_ab13_f7901248353crow5_col5\" class=\"data row5 col5\" >1</td>\n",
       "                        <td id=\"T_3d343842_888f_11ea_ab13_f7901248353crow5_col6\" class=\"data row5 col6\" >0.955515</td>\n",
       "                        <td id=\"T_3d343842_888f_11ea_ab13_f7901248353crow5_col7\" class=\"data row5 col7\" >0.0116758</td>\n",
       "                        <td id=\"T_3d343842_888f_11ea_ab13_f7901248353crow5_col8\" class=\"data row5 col8\" >0.00474171</td>\n",
       "                        <td id=\"T_3d343842_888f_11ea_ab13_f7901248353crow5_col9\" class=\"data row5 col9\" >0.0116716</td>\n",
       "                        <td id=\"T_3d343842_888f_11ea_ab13_f7901248353crow5_col10\" class=\"data row5 col10\" >0.0136184</td>\n",
       "                        <td id=\"T_3d343842_888f_11ea_ab13_f7901248353crow5_col11\" class=\"data row5 col11\" >0.00410312</td>\n",
       "                        <td id=\"T_3d343842_888f_11ea_ab13_f7901248353crow5_col12\" class=\"data row5 col12\" >0.0136135</td>\n",
       "                        <td id=\"T_3d343842_888f_11ea_ab13_f7901248353crow5_col13\" class=\"data row5 col13\" >0.0195158</td>\n",
       "                        <td id=\"T_3d343842_888f_11ea_ab13_f7901248353crow5_col14\" class=\"data row5 col14\" >0.0011144</td>\n",
       "                        <td id=\"T_3d343842_888f_11ea_ab13_f7901248353crow5_col15\" class=\"data row5 col15\" >0.0195141</td>\n",
       "                        <td id=\"T_3d343842_888f_11ea_ab13_f7901248353crow5_col16\" class=\"data row5 col16\" >-0.00135397</td>\n",
       "                        <td id=\"T_3d343842_888f_11ea_ab13_f7901248353crow5_col17\" class=\"data row5 col17\" >-0.0112623</td>\n",
       "                        <td id=\"T_3d343842_888f_11ea_ab13_f7901248353crow5_col18\" class=\"data row5 col18\" >-0.00128776</td>\n",
       "                        <td id=\"T_3d343842_888f_11ea_ab13_f7901248353crow5_col19\" class=\"data row5 col19\" >-0.00801912</td>\n",
       "                        <td id=\"T_3d343842_888f_11ea_ab13_f7901248353crow5_col20\" class=\"data row5 col20\" >-0.117851</td>\n",
       "            </tr>\n",
       "            <tr>\n",
       "                        <th id=\"T_3d343842_888f_11ea_ab13_f7901248353clevel0_row6\" class=\"row_heading level0 row6\" >number_vmail_messages</th>\n",
       "                        <td id=\"T_3d343842_888f_11ea_ab13_f7901248353crow6_col0\" class=\"data row6 col0\" >-0.0159358</td>\n",
       "                        <td id=\"T_3d343842_888f_11ea_ab13_f7901248353crow6_col1\" class=\"data row6 col1\" >-0.0125858</td>\n",
       "                        <td id=\"T_3d343842_888f_11ea_ab13_f7901248353crow6_col2\" class=\"data row6 col2\" >0.0180882</td>\n",
       "                        <td id=\"T_3d343842_888f_11ea_ab13_f7901248353crow6_col3\" class=\"data row6 col3\" >0.0180457</td>\n",
       "                        <td id=\"T_3d343842_888f_11ea_ab13_f7901248353crow6_col4\" class=\"data row6 col4\" >0.00821366</td>\n",
       "                        <td id=\"T_3d343842_888f_11ea_ab13_f7901248353crow6_col5\" class=\"data row6 col5\" >0.955515</td>\n",
       "                        <td id=\"T_3d343842_888f_11ea_ab13_f7901248353crow6_col6\" class=\"data row6 col6\" >1</td>\n",
       "                        <td id=\"T_3d343842_888f_11ea_ab13_f7901248353crow6_col7\" class=\"data row6 col7\" >0.0179257</td>\n",
       "                        <td id=\"T_3d343842_888f_11ea_ab13_f7901248353crow6_col8\" class=\"data row6 col8\" >0.00638542</td>\n",
       "                        <td id=\"T_3d343842_888f_11ea_ab13_f7901248353crow6_col9\" class=\"data row6 col9\" >0.0179216</td>\n",
       "                        <td id=\"T_3d343842_888f_11ea_ab13_f7901248353crow6_col10\" class=\"data row6 col10\" >0.010221</td>\n",
       "                        <td id=\"T_3d343842_888f_11ea_ab13_f7901248353crow6_col11\" class=\"data row6 col11\" >0.00718839</td>\n",
       "                        <td id=\"T_3d343842_888f_11ea_ab13_f7901248353crow6_col12\" class=\"data row6 col12\" >0.01022</td>\n",
       "                        <td id=\"T_3d343842_888f_11ea_ab13_f7901248353crow6_col13\" class=\"data row6 col13\" >0.0185821</td>\n",
       "                        <td id=\"T_3d343842_888f_11ea_ab13_f7901248353crow6_col14\" class=\"data row6 col14\" >-0.00199327</td>\n",
       "                        <td id=\"T_3d343842_888f_11ea_ab13_f7901248353crow6_col15\" class=\"data row6 col15\" >0.0185753</td>\n",
       "                        <td id=\"T_3d343842_888f_11ea_ab13_f7901248353crow6_col16\" class=\"data row6 col16\" >-0.00330833</td>\n",
       "                        <td id=\"T_3d343842_888f_11ea_ab13_f7901248353crow6_col17\" class=\"data row6 col17\" >-0.00343552</td>\n",
       "                        <td id=\"T_3d343842_888f_11ea_ab13_f7901248353crow6_col18\" class=\"data row6 col18\" >-0.00325003</td>\n",
       "                        <td id=\"T_3d343842_888f_11ea_ab13_f7901248353crow6_col19\" class=\"data row6 col19\" >-0.00612522</td>\n",
       "                        <td id=\"T_3d343842_888f_11ea_ab13_f7901248353crow6_col20\" class=\"data row6 col20\" >-0.109572</td>\n",
       "            </tr>\n",
       "            <tr>\n",
       "                        <th id=\"T_3d343842_888f_11ea_ab13_f7901248353clevel0_row7\" class=\"row_heading level0 row7\" >total_day_minutes</th>\n",
       "                        <td id=\"T_3d343842_888f_11ea_ab13_f7901248353crow7_col0\" class=\"data row7 col0\" >0.0161548</td>\n",
       "                        <td id=\"T_3d343842_888f_11ea_ab13_f7901248353crow7_col1\" class=\"data row7 col1\" >0.0163497</td>\n",
       "                        <td id=\"T_3d343842_888f_11ea_ab13_f7901248353crow7_col2\" class=\"data row7 col2\" >0.00667993</td>\n",
       "                        <td id=\"T_3d343842_888f_11ea_ab13_f7901248353crow7_col3\" class=\"data row7 col3\" >-0.00384898</td>\n",
       "                        <td id=\"T_3d343842_888f_11ea_ab13_f7901248353crow7_col4\" class=\"data row7 col4\" >0.0336755</td>\n",
       "                        <td id=\"T_3d343842_888f_11ea_ab13_f7901248353crow7_col5\" class=\"data row7 col5\" >0.0116758</td>\n",
       "                        <td id=\"T_3d343842_888f_11ea_ab13_f7901248353crow7_col6\" class=\"data row7 col6\" >0.0179257</td>\n",
       "                        <td id=\"T_3d343842_888f_11ea_ab13_f7901248353crow7_col7\" class=\"data row7 col7\" >1</td>\n",
       "                        <td id=\"T_3d343842_888f_11ea_ab13_f7901248353crow7_col8\" class=\"data row7 col8\" >-0.00843661</td>\n",
       "                        <td id=\"T_3d343842_888f_11ea_ab13_f7901248353crow7_col9\" class=\"data row7 col9\" >1</td>\n",
       "                        <td id=\"T_3d343842_888f_11ea_ab13_f7901248353crow7_col10\" class=\"data row7 col10\" >0.00344072</td>\n",
       "                        <td id=\"T_3d343842_888f_11ea_ab13_f7901248353crow7_col11\" class=\"data row7 col11\" >0.00135337</td>\n",
       "                        <td id=\"T_3d343842_888f_11ea_ab13_f7901248353crow7_col12\" class=\"data row7 col12\" >0.00342444</td>\n",
       "                        <td id=\"T_3d343842_888f_11ea_ab13_f7901248353crow7_col13\" class=\"data row7 col13\" >0.0160982</td>\n",
       "                        <td id=\"T_3d343842_888f_11ea_ab13_f7901248353crow7_col14\" class=\"data row7 col14\" >0.0130527</td>\n",
       "                        <td id=\"T_3d343842_888f_11ea_ab13_f7901248353crow7_col15\" class=\"data row7 col15\" >0.0160795</td>\n",
       "                        <td id=\"T_3d343842_888f_11ea_ab13_f7901248353crow7_col16\" class=\"data row7 col16\" >-0.0203823</td>\n",
       "                        <td id=\"T_3d343842_888f_11ea_ab13_f7901248353crow7_col17\" class=\"data row7 col17\" >-0.00818715</td>\n",
       "                        <td id=\"T_3d343842_888f_11ea_ab13_f7901248353crow7_col18\" class=\"data row7 col18\" >-0.0203209</td>\n",
       "                        <td id=\"T_3d343842_888f_11ea_ab13_f7901248353crow7_col19\" class=\"data row7 col19\" >0.0145428</td>\n",
       "                        <td id=\"T_3d343842_888f_11ea_ab13_f7901248353crow7_col20\" class=\"data row7 col20\" >0.227877</td>\n",
       "            </tr>\n",
       "            <tr>\n",
       "                        <th id=\"T_3d343842_888f_11ea_ab13_f7901248353clevel0_row8\" class=\"row_heading level0 row8\" >total_day_calls</th>\n",
       "                        <td id=\"T_3d343842_888f_11ea_ab13_f7901248353crow8_col0\" class=\"data row8 col0\" >-0.0152535</td>\n",
       "                        <td id=\"T_3d343842_888f_11ea_ab13_f7901248353crow8_col1\" class=\"data row8 col1\" >0.0141466</td>\n",
       "                        <td id=\"T_3d343842_888f_11ea_ab13_f7901248353crow8_col2\" class=\"data row8 col2\" >0.008887</td>\n",
       "                        <td id=\"T_3d343842_888f_11ea_ab13_f7901248353crow8_col3\" class=\"data row8 col3\" >-0.00882726</td>\n",
       "                        <td id=\"T_3d343842_888f_11ea_ab13_f7901248353crow8_col4\" class=\"data row8 col4\" >0.0143966</td>\n",
       "                        <td id=\"T_3d343842_888f_11ea_ab13_f7901248353crow8_col5\" class=\"data row8 col5\" >0.00474171</td>\n",
       "                        <td id=\"T_3d343842_888f_11ea_ab13_f7901248353crow8_col6\" class=\"data row8 col6\" >0.00638542</td>\n",
       "                        <td id=\"T_3d343842_888f_11ea_ab13_f7901248353crow8_col7\" class=\"data row8 col7\" >-0.00843661</td>\n",
       "                        <td id=\"T_3d343842_888f_11ea_ab13_f7901248353crow8_col8\" class=\"data row8 col8\" >1</td>\n",
       "                        <td id=\"T_3d343842_888f_11ea_ab13_f7901248353crow8_col9\" class=\"data row8 col9\" >-0.00843874</td>\n",
       "                        <td id=\"T_3d343842_888f_11ea_ab13_f7901248353crow8_col10\" class=\"data row8 col10\" >0.0052561</td>\n",
       "                        <td id=\"T_3d343842_888f_11ea_ab13_f7901248353crow8_col11\" class=\"data row8 col11\" >0.010696</td>\n",
       "                        <td id=\"T_3d343842_888f_11ea_ab13_f7901248353crow8_col12\" class=\"data row8 col12\" >0.00527122</td>\n",
       "                        <td id=\"T_3d343842_888f_11ea_ab13_f7901248353crow8_col13\" class=\"data row8 col13\" >0.00338373</td>\n",
       "                        <td id=\"T_3d343842_888f_11ea_ab13_f7901248353crow8_col14\" class=\"data row8 col14\" >-0.0152743</td>\n",
       "                        <td id=\"T_3d343842_888f_11ea_ab13_f7901248353crow8_col15\" class=\"data row8 col15\" >0.00339048</td>\n",
       "                        <td id=\"T_3d343842_888f_11ea_ab13_f7901248353crow8_col16\" class=\"data row8 col16\" >0.00956553</td>\n",
       "                        <td id=\"T_3d343842_888f_11ea_ab13_f7901248353crow8_col17\" class=\"data row8 col17\" >0.00531151</td>\n",
       "                        <td id=\"T_3d343842_888f_11ea_ab13_f7901248353crow8_col18\" class=\"data row8 col18\" >0.00960972</td>\n",
       "                        <td id=\"T_3d343842_888f_11ea_ab13_f7901248353crow8_col19\" class=\"data row8 col19\" >-0.0146935</td>\n",
       "                        <td id=\"T_3d343842_888f_11ea_ab13_f7901248353crow8_col20\" class=\"data row8 col20\" >0.0284298</td>\n",
       "            </tr>\n",
       "            <tr>\n",
       "                        <th id=\"T_3d343842_888f_11ea_ab13_f7901248353clevel0_row9\" class=\"row_heading level0 row9\" >total_day_charge</th>\n",
       "                        <td id=\"T_3d343842_888f_11ea_ab13_f7901248353crow9_col0\" class=\"data row9 col0\" >0.0161564</td>\n",
       "                        <td id=\"T_3d343842_888f_11ea_ab13_f7901248353crow9_col1\" class=\"data row9 col1\" >0.0163434</td>\n",
       "                        <td id=\"T_3d343842_888f_11ea_ab13_f7901248353crow9_col2\" class=\"data row9 col2\" >0.0066837</td>\n",
       "                        <td id=\"T_3d343842_888f_11ea_ab13_f7901248353crow9_col3\" class=\"data row9 col3\" >-0.00385112</td>\n",
       "                        <td id=\"T_3d343842_888f_11ea_ab13_f7901248353crow9_col4\" class=\"data row9 col4\" >0.0336774</td>\n",
       "                        <td id=\"T_3d343842_888f_11ea_ab13_f7901248353crow9_col5\" class=\"data row9 col5\" >0.0116716</td>\n",
       "                        <td id=\"T_3d343842_888f_11ea_ab13_f7901248353crow9_col6\" class=\"data row9 col6\" >0.0179216</td>\n",
       "                        <td id=\"T_3d343842_888f_11ea_ab13_f7901248353crow9_col7\" class=\"data row9 col7\" >1</td>\n",
       "                        <td id=\"T_3d343842_888f_11ea_ab13_f7901248353crow9_col8\" class=\"data row9 col8\" >-0.00843874</td>\n",
       "                        <td id=\"T_3d343842_888f_11ea_ab13_f7901248353crow9_col9\" class=\"data row9 col9\" >1</td>\n",
       "                        <td id=\"T_3d343842_888f_11ea_ab13_f7901248353crow9_col10\" class=\"data row9 col10\" >0.00344334</td>\n",
       "                        <td id=\"T_3d343842_888f_11ea_ab13_f7901248353crow9_col11\" class=\"data row9 col11\" >0.00135436</td>\n",
       "                        <td id=\"T_3d343842_888f_11ea_ab13_f7901248353crow9_col12\" class=\"data row9 col12\" >0.00342706</td>\n",
       "                        <td id=\"T_3d343842_888f_11ea_ab13_f7901248353crow9_col13\" class=\"data row9 col13\" >0.0161032</td>\n",
       "                        <td id=\"T_3d343842_888f_11ea_ab13_f7901248353crow9_col14\" class=\"data row9 col14\" >0.0130544</td>\n",
       "                        <td id=\"T_3d343842_888f_11ea_ab13_f7901248353crow9_col15\" class=\"data row9 col15\" >0.0160845</td>\n",
       "                        <td id=\"T_3d343842_888f_11ea_ab13_f7901248353crow9_col16\" class=\"data row9 col16\" >-0.0203875</td>\n",
       "                        <td id=\"T_3d343842_888f_11ea_ab13_f7901248353crow9_col17\" class=\"data row9 col17\" >-0.00819522</td>\n",
       "                        <td id=\"T_3d343842_888f_11ea_ab13_f7901248353crow9_col18\" class=\"data row9 col18\" >-0.0203261</td>\n",
       "                        <td id=\"T_3d343842_888f_11ea_ab13_f7901248353crow9_col19\" class=\"data row9 col19\" >0.0145349</td>\n",
       "                        <td id=\"T_3d343842_888f_11ea_ab13_f7901248353crow9_col20\" class=\"data row9 col20\" >0.227871</td>\n",
       "            </tr>\n",
       "            <tr>\n",
       "                        <th id=\"T_3d343842_888f_11ea_ab13_f7901248353clevel0_row10\" class=\"row_heading level0 row10\" >total_eve_minutes</th>\n",
       "                        <td id=\"T_3d343842_888f_11ea_ab13_f7901248353crow10_col0\" class=\"data row10 col0\" >0.010843</td>\n",
       "                        <td id=\"T_3d343842_888f_11ea_ab13_f7901248353crow10_col1\" class=\"data row10 col1\" >-0.0161127</td>\n",
       "                        <td id=\"T_3d343842_888f_11ea_ab13_f7901248353crow10_col2\" class=\"data row10 col2\" >0.0138617</td>\n",
       "                        <td id=\"T_3d343842_888f_11ea_ab13_f7901248353crow10_col3\" class=\"data row10 col3\" >-0.0157532</td>\n",
       "                        <td id=\"T_3d343842_888f_11ea_ab13_f7901248353crow10_col4\" class=\"data row10 col4\" >0.0151955</td>\n",
       "                        <td id=\"T_3d343842_888f_11ea_ab13_f7901248353crow10_col5\" class=\"data row10 col5\" >0.0136184</td>\n",
       "                        <td id=\"T_3d343842_888f_11ea_ab13_f7901248353crow10_col6\" class=\"data row10 col6\" >0.010221</td>\n",
       "                        <td id=\"T_3d343842_888f_11ea_ab13_f7901248353crow10_col7\" class=\"data row10 col7\" >0.00344072</td>\n",
       "                        <td id=\"T_3d343842_888f_11ea_ab13_f7901248353crow10_col8\" class=\"data row10 col8\" >0.0052561</td>\n",
       "                        <td id=\"T_3d343842_888f_11ea_ab13_f7901248353crow10_col9\" class=\"data row10 col9\" >0.00344334</td>\n",
       "                        <td id=\"T_3d343842_888f_11ea_ab13_f7901248353crow10_col10\" class=\"data row10 col10\" >1</td>\n",
       "                        <td id=\"T_3d343842_888f_11ea_ab13_f7901248353crow10_col11\" class=\"data row10 col11\" >-0.000708793</td>\n",
       "                        <td id=\"T_3d343842_888f_11ea_ab13_f7901248353crow10_col12\" class=\"data row10 col12\" >1</td>\n",
       "                        <td id=\"T_3d343842_888f_11ea_ab13_f7901248353crow10_col13\" class=\"data row10 col13\" >-0.0242821</td>\n",
       "                        <td id=\"T_3d343842_888f_11ea_ab13_f7901248353crow10_col14\" class=\"data row10 col14\" >0.0174807</td>\n",
       "                        <td id=\"T_3d343842_888f_11ea_ab13_f7901248353crow10_col15\" class=\"data row10 col15\" >-0.0242939</td>\n",
       "                        <td id=\"T_3d343842_888f_11ea_ab13_f7901248353crow10_col16\" class=\"data row10 col16\" >0.000731079</td>\n",
       "                        <td id=\"T_3d343842_888f_11ea_ab13_f7901248353crow10_col17\" class=\"data row10 col17\" >0.00635931</td>\n",
       "                        <td id=\"T_3d343842_888f_11ea_ab13_f7901248353crow10_col18\" class=\"data row10 col18\" >0.000783465</td>\n",
       "                        <td id=\"T_3d343842_888f_11ea_ab13_f7901248353crow10_col19\" class=\"data row10 col19\" >-0.00545954</td>\n",
       "                        <td id=\"T_3d343842_888f_11ea_ab13_f7901248353crow10_col20\" class=\"data row10 col20\" >0.0997411</td>\n",
       "            </tr>\n",
       "            <tr>\n",
       "                        <th id=\"T_3d343842_888f_11ea_ab13_f7901248353clevel0_row11\" class=\"row_heading level0 row11\" >total_eve_calls</th>\n",
       "                        <td id=\"T_3d343842_888f_11ea_ab13_f7901248353crow11_col0\" class=\"data row11 col0\" >-0.0187278</td>\n",
       "                        <td id=\"T_3d343842_888f_11ea_ab13_f7901248353crow11_col1\" class=\"data row11 col1\" >0.00464065</td>\n",
       "                        <td id=\"T_3d343842_888f_11ea_ab13_f7901248353crow11_col2\" class=\"data row11 col2\" >-0.00576077</td>\n",
       "                        <td id=\"T_3d343842_888f_11ea_ab13_f7901248353crow11_col3\" class=\"data row11 col3\" >0.0194869</td>\n",
       "                        <td id=\"T_3d343842_888f_11ea_ab13_f7901248353crow11_col4\" class=\"data row11 col4\" >0.00170861</td>\n",
       "                        <td id=\"T_3d343842_888f_11ea_ab13_f7901248353crow11_col5\" class=\"data row11 col5\" >0.00410312</td>\n",
       "                        <td id=\"T_3d343842_888f_11ea_ab13_f7901248353crow11_col6\" class=\"data row11 col6\" >0.00718839</td>\n",
       "                        <td id=\"T_3d343842_888f_11ea_ab13_f7901248353crow11_col7\" class=\"data row11 col7\" >0.00135337</td>\n",
       "                        <td id=\"T_3d343842_888f_11ea_ab13_f7901248353crow11_col8\" class=\"data row11 col8\" >0.010696</td>\n",
       "                        <td id=\"T_3d343842_888f_11ea_ab13_f7901248353crow11_col9\" class=\"data row11 col9\" >0.00135436</td>\n",
       "                        <td id=\"T_3d343842_888f_11ea_ab13_f7901248353crow11_col10\" class=\"data row11 col10\" >-0.000708793</td>\n",
       "                        <td id=\"T_3d343842_888f_11ea_ab13_f7901248353crow11_col11\" class=\"data row11 col11\" >1</td>\n",
       "                        <td id=\"T_3d343842_888f_11ea_ab13_f7901248353crow11_col12\" class=\"data row11 col12\" >-0.000695376</td>\n",
       "                        <td id=\"T_3d343842_888f_11ea_ab13_f7901248353crow11_col13\" class=\"data row11 col13\" >-0.00404521</td>\n",
       "                        <td id=\"T_3d343842_888f_11ea_ab13_f7901248353crow11_col14\" class=\"data row11 col14\" >-0.0228813</td>\n",
       "                        <td id=\"T_3d343842_888f_11ea_ab13_f7901248353crow11_col15\" class=\"data row11 col15\" >-0.00402879</td>\n",
       "                        <td id=\"T_3d343842_888f_11ea_ab13_f7901248353crow11_col16\" class=\"data row11 col16\" >0.000539276</td>\n",
       "                        <td id=\"T_3d343842_888f_11ea_ab13_f7901248353crow11_col17\" class=\"data row11 col17\" >-0.0168588</td>\n",
       "                        <td id=\"T_3d343842_888f_11ea_ab13_f7901248353crow11_col18\" class=\"data row11 col18\" >0.000446646</td>\n",
       "                        <td id=\"T_3d343842_888f_11ea_ab13_f7901248353crow11_col19\" class=\"data row11 col19\" >0.00122908</td>\n",
       "                        <td id=\"T_3d343842_888f_11ea_ab13_f7901248353crow11_col20\" class=\"data row11 col20\" >-0.00510702</td>\n",
       "            </tr>\n",
       "            <tr>\n",
       "                        <th id=\"T_3d343842_888f_11ea_ab13_f7901248353clevel0_row12\" class=\"row_heading level0 row12\" >total_eve_charge</th>\n",
       "                        <td id=\"T_3d343842_888f_11ea_ab13_f7901248353crow12_col0\" class=\"data row12 col0\" >0.0108412</td>\n",
       "                        <td id=\"T_3d343842_888f_11ea_ab13_f7901248353crow12_col1\" class=\"data row12 col1\" >-0.016107</td>\n",
       "                        <td id=\"T_3d343842_888f_11ea_ab13_f7901248353crow12_col2\" class=\"data row12 col2\" >0.0138791</td>\n",
       "                        <td id=\"T_3d343842_888f_11ea_ab13_f7901248353crow12_col3\" class=\"data row12 col3\" >-0.0157392</td>\n",
       "                        <td id=\"T_3d343842_888f_11ea_ab13_f7901248353crow12_col4\" class=\"data row12 col4\" >0.0151941</td>\n",
       "                        <td id=\"T_3d343842_888f_11ea_ab13_f7901248353crow12_col5\" class=\"data row12 col5\" >0.0136135</td>\n",
       "                        <td id=\"T_3d343842_888f_11ea_ab13_f7901248353crow12_col6\" class=\"data row12 col6\" >0.01022</td>\n",
       "                        <td id=\"T_3d343842_888f_11ea_ab13_f7901248353crow12_col7\" class=\"data row12 col7\" >0.00342444</td>\n",
       "                        <td id=\"T_3d343842_888f_11ea_ab13_f7901248353crow12_col8\" class=\"data row12 col8\" >0.00527122</td>\n",
       "                        <td id=\"T_3d343842_888f_11ea_ab13_f7901248353crow12_col9\" class=\"data row12 col9\" >0.00342706</td>\n",
       "                        <td id=\"T_3d343842_888f_11ea_ab13_f7901248353crow12_col10\" class=\"data row12 col10\" >1</td>\n",
       "                        <td id=\"T_3d343842_888f_11ea_ab13_f7901248353crow12_col11\" class=\"data row12 col11\" >-0.000695376</td>\n",
       "                        <td id=\"T_3d343842_888f_11ea_ab13_f7901248353crow12_col12\" class=\"data row12 col12\" >1</td>\n",
       "                        <td id=\"T_3d343842_888f_11ea_ab13_f7901248353crow12_col13\" class=\"data row12 col13\" >-0.0242922</td>\n",
       "                        <td id=\"T_3d343842_888f_11ea_ab13_f7901248353crow12_col14\" class=\"data row12 col14\" >0.0174837</td>\n",
       "                        <td id=\"T_3d343842_888f_11ea_ab13_f7901248353crow12_col15\" class=\"data row12 col15\" >-0.024304</td>\n",
       "                        <td id=\"T_3d343842_888f_11ea_ab13_f7901248353crow12_col16\" class=\"data row12 col16\" >0.000727113</td>\n",
       "                        <td id=\"T_3d343842_888f_11ea_ab13_f7901248353crow12_col17\" class=\"data row12 col17\" >0.00635353</td>\n",
       "                        <td id=\"T_3d343842_888f_11ea_ab13_f7901248353crow12_col18\" class=\"data row12 col18\" >0.000779498</td>\n",
       "                        <td id=\"T_3d343842_888f_11ea_ab13_f7901248353crow12_col19\" class=\"data row12 col19\" >-0.00547228</td>\n",
       "                        <td id=\"T_3d343842_888f_11ea_ab13_f7901248353crow12_col20\" class=\"data row12 col20\" >0.0997352</td>\n",
       "            </tr>\n",
       "            <tr>\n",
       "                        <th id=\"T_3d343842_888f_11ea_ab13_f7901248353clevel0_row13\" class=\"row_heading level0 row13\" >total_night_minutes</th>\n",
       "                        <td id=\"T_3d343842_888f_11ea_ab13_f7901248353crow13_col0\" class=\"data row13 col0\" >0.0109003</td>\n",
       "                        <td id=\"T_3d343842_888f_11ea_ab13_f7901248353crow13_col1\" class=\"data row13 col1\" >0.00427189</td>\n",
       "                        <td id=\"T_3d343842_888f_11ea_ab13_f7901248353crow13_col2\" class=\"data row13 col2\" >0.0246464</td>\n",
       "                        <td id=\"T_3d343842_888f_11ea_ab13_f7901248353crow13_col3\" class=\"data row13 col3\" >0.0102692</td>\n",
       "                        <td id=\"T_3d343842_888f_11ea_ab13_f7901248353crow13_col4\" class=\"data row13 col4\" >-0.0350883</td>\n",
       "                        <td id=\"T_3d343842_888f_11ea_ab13_f7901248353crow13_col5\" class=\"data row13 col5\" >0.0195158</td>\n",
       "                        <td id=\"T_3d343842_888f_11ea_ab13_f7901248353crow13_col6\" class=\"data row13 col6\" >0.0185821</td>\n",
       "                        <td id=\"T_3d343842_888f_11ea_ab13_f7901248353crow13_col7\" class=\"data row13 col7\" >0.0160982</td>\n",
       "                        <td id=\"T_3d343842_888f_11ea_ab13_f7901248353crow13_col8\" class=\"data row13 col8\" >0.00338373</td>\n",
       "                        <td id=\"T_3d343842_888f_11ea_ab13_f7901248353crow13_col9\" class=\"data row13 col9\" >0.0161032</td>\n",
       "                        <td id=\"T_3d343842_888f_11ea_ab13_f7901248353crow13_col10\" class=\"data row13 col10\" >-0.0242821</td>\n",
       "                        <td id=\"T_3d343842_888f_11ea_ab13_f7901248353crow13_col11\" class=\"data row13 col11\" >-0.00404521</td>\n",
       "                        <td id=\"T_3d343842_888f_11ea_ab13_f7901248353crow13_col12\" class=\"data row13 col12\" >-0.0242922</td>\n",
       "                        <td id=\"T_3d343842_888f_11ea_ab13_f7901248353crow13_col13\" class=\"data row13 col13\" >1</td>\n",
       "                        <td id=\"T_3d343842_888f_11ea_ab13_f7901248353crow13_col14\" class=\"data row13 col14\" >0.0226983</td>\n",
       "                        <td id=\"T_3d343842_888f_11ea_ab13_f7901248353crow13_col15\" class=\"data row13 col15\" >0.999999</td>\n",
       "                        <td id=\"T_3d343842_888f_11ea_ab13_f7901248353crow13_col16\" class=\"data row13 col16\" >-0.0120775</td>\n",
       "                        <td id=\"T_3d343842_888f_11ea_ab13_f7901248353crow13_col17\" class=\"data row13 col17\" >-0.0151137</td>\n",
       "                        <td id=\"T_3d343842_888f_11ea_ab13_f7901248353crow13_col18\" class=\"data row13 col18\" >-0.0119966</td>\n",
       "                        <td id=\"T_3d343842_888f_11ea_ab13_f7901248353crow13_col19\" class=\"data row13 col19\" >0.00226788</td>\n",
       "                        <td id=\"T_3d343842_888f_11ea_ab13_f7901248353crow13_col20\" class=\"data row13 col20\" >0.0481449</td>\n",
       "            </tr>\n",
       "            <tr>\n",
       "                        <th id=\"T_3d343842_888f_11ea_ab13_f7901248353clevel0_row14\" class=\"row_heading level0 row14\" >total_night_calls</th>\n",
       "                        <td id=\"T_3d343842_888f_11ea_ab13_f7901248353crow14_col0\" class=\"data row14 col0\" >0.0115039</td>\n",
       "                        <td id=\"T_3d343842_888f_11ea_ab13_f7901248353crow14_col1\" class=\"data row14 col1\" >-0.00216392</td>\n",
       "                        <td id=\"T_3d343842_888f_11ea_ab13_f7901248353crow14_col2\" class=\"data row14 col2\" >0.0220504</td>\n",
       "                        <td id=\"T_3d343842_888f_11ea_ab13_f7901248353crow14_col3\" class=\"data row14 col3\" >0.00868387</td>\n",
       "                        <td id=\"T_3d343842_888f_11ea_ab13_f7901248353crow14_col4\" class=\"data row14 col4\" >0.0126224</td>\n",
       "                        <td id=\"T_3d343842_888f_11ea_ab13_f7901248353crow14_col5\" class=\"data row14 col5\" >0.0011144</td>\n",
       "                        <td id=\"T_3d343842_888f_11ea_ab13_f7901248353crow14_col6\" class=\"data row14 col6\" >-0.00199327</td>\n",
       "                        <td id=\"T_3d343842_888f_11ea_ab13_f7901248353crow14_col7\" class=\"data row14 col7\" >0.0130527</td>\n",
       "                        <td id=\"T_3d343842_888f_11ea_ab13_f7901248353crow14_col8\" class=\"data row14 col8\" >-0.0152743</td>\n",
       "                        <td id=\"T_3d343842_888f_11ea_ab13_f7901248353crow14_col9\" class=\"data row14 col9\" >0.0130544</td>\n",
       "                        <td id=\"T_3d343842_888f_11ea_ab13_f7901248353crow14_col10\" class=\"data row14 col10\" >0.0174807</td>\n",
       "                        <td id=\"T_3d343842_888f_11ea_ab13_f7901248353crow14_col11\" class=\"data row14 col11\" >-0.0228813</td>\n",
       "                        <td id=\"T_3d343842_888f_11ea_ab13_f7901248353crow14_col12\" class=\"data row14 col12\" >0.0174837</td>\n",
       "                        <td id=\"T_3d343842_888f_11ea_ab13_f7901248353crow14_col13\" class=\"data row14 col13\" >0.0226983</td>\n",
       "                        <td id=\"T_3d343842_888f_11ea_ab13_f7901248353crow14_col14\" class=\"data row14 col14\" >1</td>\n",
       "                        <td id=\"T_3d343842_888f_11ea_ab13_f7901248353crow14_col15\" class=\"data row14 col15\" >0.0226866</td>\n",
       "                        <td id=\"T_3d343842_888f_11ea_ab13_f7901248353crow14_col16\" class=\"data row14 col16\" >0.00144222</td>\n",
       "                        <td id=\"T_3d343842_888f_11ea_ab13_f7901248353crow14_col17\" class=\"data row14 col17\" >0.0140135</td>\n",
       "                        <td id=\"T_3d343842_888f_11ea_ab13_f7901248353crow14_col18\" class=\"data row14 col18\" >0.00140199</td>\n",
       "                        <td id=\"T_3d343842_888f_11ea_ab13_f7901248353crow14_col19\" class=\"data row14 col19\" >-0.0246407</td>\n",
       "                        <td id=\"T_3d343842_888f_11ea_ab13_f7901248353crow14_col20\" class=\"data row14 col20\" >-0.000762561</td>\n",
       "            </tr>\n",
       "            <tr>\n",
       "                        <th id=\"T_3d343842_888f_11ea_ab13_f7901248353clevel0_row15\" class=\"row_heading level0 row15\" >total_night_charge</th>\n",
       "                        <td id=\"T_3d343842_888f_11ea_ab13_f7901248353crow15_col0\" class=\"data row15 col0\" >0.0109001</td>\n",
       "                        <td id=\"T_3d343842_888f_11ea_ab13_f7901248353crow15_col1\" class=\"data row15 col1\" >0.00426956</td>\n",
       "                        <td id=\"T_3d343842_888f_11ea_ab13_f7901248353crow15_col2\" class=\"data row15 col2\" >0.0246227</td>\n",
       "                        <td id=\"T_3d343842_888f_11ea_ab13_f7901248353crow15_col3\" class=\"data row15 col3\" >0.0102687</td>\n",
       "                        <td id=\"T_3d343842_888f_11ea_ab13_f7901248353crow15_col4\" class=\"data row15 col4\" >-0.0351058</td>\n",
       "                        <td id=\"T_3d343842_888f_11ea_ab13_f7901248353crow15_col5\" class=\"data row15 col5\" >0.0195141</td>\n",
       "                        <td id=\"T_3d343842_888f_11ea_ab13_f7901248353crow15_col6\" class=\"data row15 col6\" >0.0185753</td>\n",
       "                        <td id=\"T_3d343842_888f_11ea_ab13_f7901248353crow15_col7\" class=\"data row15 col7\" >0.0160795</td>\n",
       "                        <td id=\"T_3d343842_888f_11ea_ab13_f7901248353crow15_col8\" class=\"data row15 col8\" >0.00339048</td>\n",
       "                        <td id=\"T_3d343842_888f_11ea_ab13_f7901248353crow15_col9\" class=\"data row15 col9\" >0.0160845</td>\n",
       "                        <td id=\"T_3d343842_888f_11ea_ab13_f7901248353crow15_col10\" class=\"data row15 col10\" >-0.0242939</td>\n",
       "                        <td id=\"T_3d343842_888f_11ea_ab13_f7901248353crow15_col11\" class=\"data row15 col11\" >-0.00402879</td>\n",
       "                        <td id=\"T_3d343842_888f_11ea_ab13_f7901248353crow15_col12\" class=\"data row15 col12\" >-0.024304</td>\n",
       "                        <td id=\"T_3d343842_888f_11ea_ab13_f7901248353crow15_col13\" class=\"data row15 col13\" >0.999999</td>\n",
       "                        <td id=\"T_3d343842_888f_11ea_ab13_f7901248353crow15_col14\" class=\"data row15 col14\" >0.0226866</td>\n",
       "                        <td id=\"T_3d343842_888f_11ea_ab13_f7901248353crow15_col15\" class=\"data row15 col15\" >1</td>\n",
       "                        <td id=\"T_3d343842_888f_11ea_ab13_f7901248353crow15_col16\" class=\"data row15 col16\" >-0.0120629</td>\n",
       "                        <td id=\"T_3d343842_888f_11ea_ab13_f7901248353crow15_col17\" class=\"data row15 col17\" >-0.015077</td>\n",
       "                        <td id=\"T_3d343842_888f_11ea_ab13_f7901248353crow15_col18\" class=\"data row15 col18\" >-0.011982</td>\n",
       "                        <td id=\"T_3d343842_888f_11ea_ab13_f7901248353crow15_col19\" class=\"data row15 col19\" >0.00230815</td>\n",
       "                        <td id=\"T_3d343842_888f_11ea_ab13_f7901248353crow15_col20\" class=\"data row15 col20\" >0.0481417</td>\n",
       "            </tr>\n",
       "            <tr>\n",
       "                        <th id=\"T_3d343842_888f_11ea_ab13_f7901248353clevel0_row16\" class=\"row_heading level0 row16\" >total_intl_minutes</th>\n",
       "                        <td id=\"T_3d343842_888f_11ea_ab13_f7901248353crow16_col0\" class=\"data row16 col0\" >-0.0101673</td>\n",
       "                        <td id=\"T_3d343842_888f_11ea_ab13_f7901248353crow16_col1\" class=\"data row16 col1\" >0.00491352</td>\n",
       "                        <td id=\"T_3d343842_888f_11ea_ab13_f7901248353crow16_col2\" class=\"data row16 col2\" >0.00717091</td>\n",
       "                        <td id=\"T_3d343842_888f_11ea_ab13_f7901248353crow16_col3\" class=\"data row16 col3\" >-0.00251956</td>\n",
       "                        <td id=\"T_3d343842_888f_11ea_ab13_f7901248353crow16_col4\" class=\"data row16 col4\" >0.0370866</td>\n",
       "                        <td id=\"T_3d343842_888f_11ea_ab13_f7901248353crow16_col5\" class=\"data row16 col5\" >-0.00135397</td>\n",
       "                        <td id=\"T_3d343842_888f_11ea_ab13_f7901248353crow16_col6\" class=\"data row16 col6\" >-0.00330833</td>\n",
       "                        <td id=\"T_3d343842_888f_11ea_ab13_f7901248353crow16_col7\" class=\"data row16 col7\" >-0.0203823</td>\n",
       "                        <td id=\"T_3d343842_888f_11ea_ab13_f7901248353crow16_col8\" class=\"data row16 col8\" >0.00956553</td>\n",
       "                        <td id=\"T_3d343842_888f_11ea_ab13_f7901248353crow16_col9\" class=\"data row16 col9\" >-0.0203875</td>\n",
       "                        <td id=\"T_3d343842_888f_11ea_ab13_f7901248353crow16_col10\" class=\"data row16 col10\" >0.000731079</td>\n",
       "                        <td id=\"T_3d343842_888f_11ea_ab13_f7901248353crow16_col11\" class=\"data row16 col11\" >0.000539276</td>\n",
       "                        <td id=\"T_3d343842_888f_11ea_ab13_f7901248353crow16_col12\" class=\"data row16 col12\" >0.000727113</td>\n",
       "                        <td id=\"T_3d343842_888f_11ea_ab13_f7901248353crow16_col13\" class=\"data row16 col13\" >-0.0120775</td>\n",
       "                        <td id=\"T_3d343842_888f_11ea_ab13_f7901248353crow16_col14\" class=\"data row16 col14\" >0.00144222</td>\n",
       "                        <td id=\"T_3d343842_888f_11ea_ab13_f7901248353crow16_col15\" class=\"data row16 col15\" >-0.0120629</td>\n",
       "                        <td id=\"T_3d343842_888f_11ea_ab13_f7901248353crow16_col16\" class=\"data row16 col16\" >1</td>\n",
       "                        <td id=\"T_3d343842_888f_11ea_ab13_f7901248353crow16_col17\" class=\"data row16 col17\" >0.00994684</td>\n",
       "                        <td id=\"T_3d343842_888f_11ea_ab13_f7901248353crow16_col18\" class=\"data row16 col18\" >0.999993</td>\n",
       "                        <td id=\"T_3d343842_888f_11ea_ab13_f7901248353crow16_col19\" class=\"data row16 col19\" >-0.0231867</td>\n",
       "                        <td id=\"T_3d343842_888f_11ea_ab13_f7901248353crow16_col20\" class=\"data row16 col20\" >0.0803445</td>\n",
       "            </tr>\n",
       "            <tr>\n",
       "                        <th id=\"T_3d343842_888f_11ea_ab13_f7901248353clevel0_row17\" class=\"row_heading level0 row17\" >total_intl_calls</th>\n",
       "                        <td id=\"T_3d343842_888f_11ea_ab13_f7901248353crow17_col0\" class=\"data row17 col0\" >0.0157362</td>\n",
       "                        <td id=\"T_3d343842_888f_11ea_ab13_f7901248353crow17_col1\" class=\"data row17 col1\" >0.00364585</td>\n",
       "                        <td id=\"T_3d343842_888f_11ea_ab13_f7901248353crow17_col2\" class=\"data row17 col2\" >-0.00213785</td>\n",
       "                        <td id=\"T_3d343842_888f_11ea_ab13_f7901248353crow17_col3\" class=\"data row17 col3\" >-0.024024</td>\n",
       "                        <td id=\"T_3d343842_888f_11ea_ab13_f7901248353crow17_col4\" class=\"data row17 col4\" >-0.0153199</td>\n",
       "                        <td id=\"T_3d343842_888f_11ea_ab13_f7901248353crow17_col5\" class=\"data row17 col5\" >-0.0112623</td>\n",
       "                        <td id=\"T_3d343842_888f_11ea_ab13_f7901248353crow17_col6\" class=\"data row17 col6\" >-0.00343552</td>\n",
       "                        <td id=\"T_3d343842_888f_11ea_ab13_f7901248353crow17_col7\" class=\"data row17 col7\" >-0.00818715</td>\n",
       "                        <td id=\"T_3d343842_888f_11ea_ab13_f7901248353crow17_col8\" class=\"data row17 col8\" >0.00531151</td>\n",
       "                        <td id=\"T_3d343842_888f_11ea_ab13_f7901248353crow17_col9\" class=\"data row17 col9\" >-0.00819522</td>\n",
       "                        <td id=\"T_3d343842_888f_11ea_ab13_f7901248353crow17_col10\" class=\"data row17 col10\" >0.00635931</td>\n",
       "                        <td id=\"T_3d343842_888f_11ea_ab13_f7901248353crow17_col11\" class=\"data row17 col11\" >-0.0168588</td>\n",
       "                        <td id=\"T_3d343842_888f_11ea_ab13_f7901248353crow17_col12\" class=\"data row17 col12\" >0.00635353</td>\n",
       "                        <td id=\"T_3d343842_888f_11ea_ab13_f7901248353crow17_col13\" class=\"data row17 col13\" >-0.0151137</td>\n",
       "                        <td id=\"T_3d343842_888f_11ea_ab13_f7901248353crow17_col14\" class=\"data row17 col14\" >0.0140135</td>\n",
       "                        <td id=\"T_3d343842_888f_11ea_ab13_f7901248353crow17_col15\" class=\"data row17 col15\" >-0.015077</td>\n",
       "                        <td id=\"T_3d343842_888f_11ea_ab13_f7901248353crow17_col16\" class=\"data row17 col16\" >0.00994684</td>\n",
       "                        <td id=\"T_3d343842_888f_11ea_ab13_f7901248353crow17_col17\" class=\"data row17 col17\" >1</td>\n",
       "                        <td id=\"T_3d343842_888f_11ea_ab13_f7901248353crow17_col18\" class=\"data row17 col18\" >0.0101119</td>\n",
       "                        <td id=\"T_3d343842_888f_11ea_ab13_f7901248353crow17_col19\" class=\"data row17 col19\" >-0.0302493</td>\n",
       "                        <td id=\"T_3d343842_888f_11ea_ab13_f7901248353crow17_col20\" class=\"data row17 col20\" >-0.064847</td>\n",
       "            </tr>\n",
       "            <tr>\n",
       "                        <th id=\"T_3d343842_888f_11ea_ab13_f7901248353clevel0_row18\" class=\"row_heading level0 row18\" >total_intl_charge</th>\n",
       "                        <td id=\"T_3d343842_888f_11ea_ab13_f7901248353crow18_col0\" class=\"data row18 col0\" >-0.0101792</td>\n",
       "                        <td id=\"T_3d343842_888f_11ea_ab13_f7901248353crow18_col1\" class=\"data row18 col1\" >0.00492728</td>\n",
       "                        <td id=\"T_3d343842_888f_11ea_ab13_f7901248353crow18_col2\" class=\"data row18 col2\" >0.00709292</td>\n",
       "                        <td id=\"T_3d343842_888f_11ea_ab13_f7901248353crow18_col3\" class=\"data row18 col3\" >-0.00248095</td>\n",
       "                        <td id=\"T_3d343842_888f_11ea_ab13_f7901248353crow18_col4\" class=\"data row18 col4\" >0.0370379</td>\n",
       "                        <td id=\"T_3d343842_888f_11ea_ab13_f7901248353crow18_col5\" class=\"data row18 col5\" >-0.00128776</td>\n",
       "                        <td id=\"T_3d343842_888f_11ea_ab13_f7901248353crow18_col6\" class=\"data row18 col6\" >-0.00325003</td>\n",
       "                        <td id=\"T_3d343842_888f_11ea_ab13_f7901248353crow18_col7\" class=\"data row18 col7\" >-0.0203209</td>\n",
       "                        <td id=\"T_3d343842_888f_11ea_ab13_f7901248353crow18_col8\" class=\"data row18 col8\" >0.00960972</td>\n",
       "                        <td id=\"T_3d343842_888f_11ea_ab13_f7901248353crow18_col9\" class=\"data row18 col9\" >-0.0203261</td>\n",
       "                        <td id=\"T_3d343842_888f_11ea_ab13_f7901248353crow18_col10\" class=\"data row18 col10\" >0.000783465</td>\n",
       "                        <td id=\"T_3d343842_888f_11ea_ab13_f7901248353crow18_col11\" class=\"data row18 col11\" >0.000446646</td>\n",
       "                        <td id=\"T_3d343842_888f_11ea_ab13_f7901248353crow18_col12\" class=\"data row18 col12\" >0.000779498</td>\n",
       "                        <td id=\"T_3d343842_888f_11ea_ab13_f7901248353crow18_col13\" class=\"data row18 col13\" >-0.0119966</td>\n",
       "                        <td id=\"T_3d343842_888f_11ea_ab13_f7901248353crow18_col14\" class=\"data row18 col14\" >0.00140199</td>\n",
       "                        <td id=\"T_3d343842_888f_11ea_ab13_f7901248353crow18_col15\" class=\"data row18 col15\" >-0.011982</td>\n",
       "                        <td id=\"T_3d343842_888f_11ea_ab13_f7901248353crow18_col16\" class=\"data row18 col16\" >0.999993</td>\n",
       "                        <td id=\"T_3d343842_888f_11ea_ab13_f7901248353crow18_col17\" class=\"data row18 col17\" >0.0101119</td>\n",
       "                        <td id=\"T_3d343842_888f_11ea_ab13_f7901248353crow18_col18\" class=\"data row18 col18\" >1</td>\n",
       "                        <td id=\"T_3d343842_888f_11ea_ab13_f7901248353crow18_col19\" class=\"data row18 col19\" >-0.0232517</td>\n",
       "                        <td id=\"T_3d343842_888f_11ea_ab13_f7901248353crow18_col20\" class=\"data row18 col20\" >0.0803529</td>\n",
       "            </tr>\n",
       "            <tr>\n",
       "                        <th id=\"T_3d343842_888f_11ea_ab13_f7901248353clevel0_row19\" class=\"row_heading level0 row19\" >number_customer_service_calls</th>\n",
       "                        <td id=\"T_3d343842_888f_11ea_ab13_f7901248353crow19_col0\" class=\"data row19 col0\" >-0.0214711</td>\n",
       "                        <td id=\"T_3d343842_888f_11ea_ab13_f7901248353crow19_col1\" class=\"data row19 col1\" >0.00282563</td>\n",
       "                        <td id=\"T_3d343842_888f_11ea_ab13_f7901248353crow19_col2\" class=\"data row19 col2\" >0.00396964</td>\n",
       "                        <td id=\"T_3d343842_888f_11ea_ab13_f7901248353crow19_col3\" class=\"data row19 col3\" >0.019397</td>\n",
       "                        <td id=\"T_3d343842_888f_11ea_ab13_f7901248353crow19_col4\" class=\"data row19 col4\" >-0.00987756</td>\n",
       "                        <td id=\"T_3d343842_888f_11ea_ab13_f7901248353crow19_col5\" class=\"data row19 col5\" >-0.00801912</td>\n",
       "                        <td id=\"T_3d343842_888f_11ea_ab13_f7901248353crow19_col6\" class=\"data row19 col6\" >-0.00612522</td>\n",
       "                        <td id=\"T_3d343842_888f_11ea_ab13_f7901248353crow19_col7\" class=\"data row19 col7\" >0.0145428</td>\n",
       "                        <td id=\"T_3d343842_888f_11ea_ab13_f7901248353crow19_col8\" class=\"data row19 col8\" >-0.0146935</td>\n",
       "                        <td id=\"T_3d343842_888f_11ea_ab13_f7901248353crow19_col9\" class=\"data row19 col9\" >0.0145349</td>\n",
       "                        <td id=\"T_3d343842_888f_11ea_ab13_f7901248353crow19_col10\" class=\"data row19 col10\" >-0.00545954</td>\n",
       "                        <td id=\"T_3d343842_888f_11ea_ab13_f7901248353crow19_col11\" class=\"data row19 col11\" >0.00122908</td>\n",
       "                        <td id=\"T_3d343842_888f_11ea_ab13_f7901248353crow19_col12\" class=\"data row19 col12\" >-0.00547228</td>\n",
       "                        <td id=\"T_3d343842_888f_11ea_ab13_f7901248353crow19_col13\" class=\"data row19 col13\" >0.00226788</td>\n",
       "                        <td id=\"T_3d343842_888f_11ea_ab13_f7901248353crow19_col14\" class=\"data row19 col14\" >-0.0246407</td>\n",
       "                        <td id=\"T_3d343842_888f_11ea_ab13_f7901248353crow19_col15\" class=\"data row19 col15\" >0.00230815</td>\n",
       "                        <td id=\"T_3d343842_888f_11ea_ab13_f7901248353crow19_col16\" class=\"data row19 col16\" >-0.0231867</td>\n",
       "                        <td id=\"T_3d343842_888f_11ea_ab13_f7901248353crow19_col17\" class=\"data row19 col17\" >-0.0302493</td>\n",
       "                        <td id=\"T_3d343842_888f_11ea_ab13_f7901248353crow19_col18\" class=\"data row19 col18\" >-0.0232517</td>\n",
       "                        <td id=\"T_3d343842_888f_11ea_ab13_f7901248353crow19_col19\" class=\"data row19 col19\" >1</td>\n",
       "                        <td id=\"T_3d343842_888f_11ea_ab13_f7901248353crow19_col20\" class=\"data row19 col20\" >0.206749</td>\n",
       "            </tr>\n",
       "            <tr>\n",
       "                        <th id=\"T_3d343842_888f_11ea_ab13_f7901248353clevel0_row20\" class=\"row_heading level0 row20\" >churn</th>\n",
       "                        <td id=\"T_3d343842_888f_11ea_ab13_f7901248353crow20_col0\" class=\"data row20 col0\" >0.00491819</td>\n",
       "                        <td id=\"T_3d343842_888f_11ea_ab13_f7901248353crow20_col1\" class=\"data row20 col1\" >0.0289142</td>\n",
       "                        <td id=\"T_3d343842_888f_11ea_ab13_f7901248353crow20_col2\" class=\"data row20 col2\" >0.0138122</td>\n",
       "                        <td id=\"T_3d343842_888f_11ea_ab13_f7901248353crow20_col3\" class=\"data row20 col3\" >0.0172735</td>\n",
       "                        <td id=\"T_3d343842_888f_11ea_ab13_f7901248353crow20_col4\" class=\"data row20 col4\" >0.259735</td>\n",
       "                        <td id=\"T_3d343842_888f_11ea_ab13_f7901248353crow20_col5\" class=\"data row20 col5\" >-0.117851</td>\n",
       "                        <td id=\"T_3d343842_888f_11ea_ab13_f7901248353crow20_col6\" class=\"data row20 col6\" >-0.109572</td>\n",
       "                        <td id=\"T_3d343842_888f_11ea_ab13_f7901248353crow20_col7\" class=\"data row20 col7\" >0.227877</td>\n",
       "                        <td id=\"T_3d343842_888f_11ea_ab13_f7901248353crow20_col8\" class=\"data row20 col8\" >0.0284298</td>\n",
       "                        <td id=\"T_3d343842_888f_11ea_ab13_f7901248353crow20_col9\" class=\"data row20 col9\" >0.227871</td>\n",
       "                        <td id=\"T_3d343842_888f_11ea_ab13_f7901248353crow20_col10\" class=\"data row20 col10\" >0.0997411</td>\n",
       "                        <td id=\"T_3d343842_888f_11ea_ab13_f7901248353crow20_col11\" class=\"data row20 col11\" >-0.00510702</td>\n",
       "                        <td id=\"T_3d343842_888f_11ea_ab13_f7901248353crow20_col12\" class=\"data row20 col12\" >0.0997352</td>\n",
       "                        <td id=\"T_3d343842_888f_11ea_ab13_f7901248353crow20_col13\" class=\"data row20 col13\" >0.0481449</td>\n",
       "                        <td id=\"T_3d343842_888f_11ea_ab13_f7901248353crow20_col14\" class=\"data row20 col14\" >-0.000762561</td>\n",
       "                        <td id=\"T_3d343842_888f_11ea_ab13_f7901248353crow20_col15\" class=\"data row20 col15\" >0.0481417</td>\n",
       "                        <td id=\"T_3d343842_888f_11ea_ab13_f7901248353crow20_col16\" class=\"data row20 col16\" >0.0803445</td>\n",
       "                        <td id=\"T_3d343842_888f_11ea_ab13_f7901248353crow20_col17\" class=\"data row20 col17\" >-0.064847</td>\n",
       "                        <td id=\"T_3d343842_888f_11ea_ab13_f7901248353crow20_col18\" class=\"data row20 col18\" >0.0803529</td>\n",
       "                        <td id=\"T_3d343842_888f_11ea_ab13_f7901248353crow20_col19\" class=\"data row20 col19\" >0.206749</td>\n",
       "                        <td id=\"T_3d343842_888f_11ea_ab13_f7901248353crow20_col20\" class=\"data row20 col20\" >1</td>\n",
       "            </tr>\n",
       "    </tbody></table>"
      ],
      "text/plain": [
       "<pandas.io.formats.style.Styler at 0x228baf21da0>"
      ]
     },
     "execution_count": 13,
     "metadata": {},
     "output_type": "execute_result"
    }
   ],
   "source": [
    "df_churn.corr().style.background_gradient(cmap='Blues')"
   ]
  },
  {
   "cell_type": "markdown",
   "metadata": {},
   "source": [
    "We then made a few density plots for the high correlated features."
   ]
  },
  {
   "cell_type": "code",
   "execution_count": 14,
   "metadata": {
    "colab": {
     "base_uri": "https://localhost:8080/",
     "height": 265
    },
    "colab_type": "code",
    "id": "Gf-qS59kRZb0",
    "outputId": "16f233c2-b782-4be9-ba01-fd4b6dc583f3"
   },
   "outputs": [
    {
     "data": {
      "image/png": "[encoded data removed]",
      "text/plain": [
       "<Figure size 432x288 with 1 Axes>"
      ]
     },
     "metadata": {
      "needs_background": "light"
     },
     "output_type": "display_data"
    }
   ],
   "source": [
    "# density of total day minutes\n",
    "df_not_churn['total_day_minutes'].plot(kind='density')\n",
    "df_churn['total_day_minutes'].plot(kind='density');"
   ]
  },
  {
   "cell_type": "code",
   "execution_count": 15,
   "metadata": {
    "colab": {
     "base_uri": "https://localhost:8080/",
     "height": 265
    },
    "colab_type": "code",
    "id": "R1RYb6POJYiZ",
    "outputId": "749db3de-9b61-4b7b-9162-a00f56dcc548"
   },
   "outputs": [
    {
     "data": {
      "image/png": "[encoded data removed]",
      "text/plain": [
       "<Figure size 432x288 with 1 Axes>"
      ]
     },
     "metadata": {
      "needs_background": "light"
     },
     "output_type": "display_data"
    }
   ],
   "source": [
    "# density plot call length\n",
    "call_length_churn_day = df_did_churn['total_day_minutes'] / df_did_churn['total_day_calls']\n",
    "call_length_churn_eve = df_did_churn['total_eve_minutes'] / df_did_churn['total_eve_calls']\n",
    "call_length_churn_night = df_did_churn['total_night_minutes'] / df_did_churn['total_night_calls']\n",
    "\n",
    "call_length_no_churn_day = df_not_churn['total_day_minutes'] / df_not_churn['total_day_calls']\n",
    "call_length_no_churn_eve = df_not_churn['total_eve_minutes'] / df_not_churn['total_eve_calls']\n",
    "call_length_no_churn_night = df_not_churn['total_night_minutes'] / df_not_churn['total_eve_calls']\n",
    "\n",
    "call_length_churn = pd.concat([call_length_churn_day, call_length_churn_eve, call_length_churn_night])\n",
    "call_length_no_churn = pd.concat([call_length_no_churn_day, call_length_no_churn_eve, call_length_no_churn_night])\n",
    "\n",
    "call_length_churn.plot(kind='density');\n",
    "call_length_no_churn.plot(kind='density');"
   ]
  },
  {
   "cell_type": "code",
   "execution_count": 16,
   "metadata": {
    "colab": {
     "base_uri": "https://localhost:8080/",
     "height": 265
    },
    "colab_type": "code",
    "id": "QbSgwk8Rr52j",
    "outputId": "3c64fb82-1e43-44e3-cbcd-95bf6e3239a9"
   },
   "outputs": [
    {
     "data": {
      "image/png": "[encoded data removed]",
      "text/plain": [
       "<Figure size 432x288 with 1 Axes>"
      ]
     },
     "metadata": {
      "needs_background": "light"
     },
     "output_type": "display_data"
    }
   ],
   "source": [
    "# density plot for total day minutes\n",
    "tdm = df_did_churn['total_day_minutes'].plot(kind='density')\n",
    "df_not_churn['total_day_minutes'].plot(kind='density', ax=tdm)\n",
    "tdm.legend(['churn', 'not churn']);"
   ]
  },
  {
   "cell_type": "code",
   "execution_count": 17,
   "metadata": {
    "colab": {
     "base_uri": "https://localhost:8080/",
     "height": 265
    },
    "colab_type": "code",
    "id": "AnrCksomsYyr",
    "outputId": "97e05dcd-97b0-441c-dfb5-a43673d0cf26"
   },
   "outputs": [
    {
     "data": {
      "image/png": "[encoded data removed]",
      "text/plain": [
       "<Figure size 432x288 with 1 Axes>"
      ]
     },
     "metadata": {
      "needs_background": "light"
     },
     "output_type": "display_data"
    }
   ],
   "source": [
    "# density plot for number customer service calls\n",
    "tdm = df_did_churn['number_customer_service_calls'].plot(kind='density')\n",
    "df_not_churn['number_customer_service_calls'].plot(kind='density', ax=tdm)\n",
    "tdm.legend(['churn', 'not churn']);"
   ]
  },
  {
   "cell_type": "markdown",
   "metadata": {},
   "source": [
    "We can see clear differences above. We are aware that the number of customer service calls is an integer. "
   ]
  },
  {
   "cell_type": "code",
   "execution_count": 18,
   "metadata": {
    "colab": {
     "base_uri": "https://localhost:8080/",
     "height": 265
    },
    "colab_type": "code",
    "id": "UVmS6d4rsjtu",
    "outputId": "3301b8b2-94db-4498-b11f-3d2df544ad4b"
   },
   "outputs": [
    {
     "data": {
      "image/png": "[encoded data removed]",
      "text/plain": [
       "<Figure size 432x288 with 1 Axes>"
      ]
     },
     "metadata": {
      "needs_background": "light"
     },
     "output_type": "display_data"
    }
   ],
   "source": [
    "# density plot for international plan\n",
    "tdm = df_did_churn['international_plan'].plot(kind='density')\n",
    "df_not_churn['international_plan'].plot(kind='density', ax=tdm)\n",
    "tdm.legend(['churn', 'not churn']);"
   ]
  },
  {
   "cell_type": "markdown",
   "metadata": {},
   "source": [
    "The density graphs give us a good first impression and show that there are differences in the behavior of people who churn and people who do not churn."
   ]
  },
  {
   "cell_type": "markdown",
   "metadata": {},
   "source": [
    "Thus, we will take a closer look at the number of international plans."
   ]
  },
  {
   "cell_type": "code",
   "execution_count": 19,
   "metadata": {
    "colab": {
     "base_uri": "https://localhost:8080/",
     "height": 34
    },
    "colab_type": "code",
    "id": "CfMthlTRsz1Q",
    "outputId": "19d31d72-df6a-4272-a2a1-52b1097a1146"
   },
   "outputs": [
    {
     "data": {
      "text/plain": [
       "(157, 409, 212, 3222)"
      ]
     },
     "execution_count": 19,
     "metadata": {},
     "output_type": "execute_result"
    }
   ],
   "source": [
    "# find how many people had an international plan\n",
    "churn_int_1 = len(df_did_churn[df_did_churn['international_plan'] == 1])\n",
    "churn_int_0 = len(df_did_churn[df_did_churn['international_plan'] == 0])\n",
    "nchurn_int_1 = len(df_not_churn[df_not_churn['international_plan'] == 1])\n",
    "nchurn_int_0 = len(df_not_churn[df_not_churn['international_plan'] == 0])\n",
    "\n",
    "churn_int_1, churn_int_0, nchurn_int_1, nchurn_int_0"
   ]
  },
  {
   "cell_type": "code",
   "execution_count": 20,
   "metadata": {
    "colab": {
     "base_uri": "https://localhost:8080/",
     "height": 34
    },
    "colab_type": "code",
    "id": "gyAGDdXXtQlz",
    "outputId": "ef0a2172-4cc0-472f-d627-64911c9c57fa"
   },
   "outputs": [
    {
     "data": {
      "text/plain": [
       "(27.73851590106007, 72.26148409893993)"
      ]
     },
     "execution_count": 20,
     "metadata": {},
     "output_type": "execute_result"
    }
   ],
   "source": [
    "# the percentages of how many of the people that did churn had an international plan\n",
    "churn_int_1/len(df_did_churn)*100, churn_int_0/len(df_did_churn)*100"
   ]
  },
  {
   "cell_type": "code",
   "execution_count": 21,
   "metadata": {
    "colab": {
     "base_uri": "https://localhost:8080/",
     "height": 34
    },
    "colab_type": "code",
    "id": "MONobKodtXyQ",
    "outputId": "348a7275-eb7e-47e1-abb8-364c5a0c9c98"
   },
   "outputs": [
    {
     "data": {
      "text/plain": [
       "(6.173558532323821, 93.82644146767618)"
      ]
     },
     "execution_count": 21,
     "metadata": {},
     "output_type": "execute_result"
    }
   ],
   "source": [
    "# the percentages of how many of the people that did not churn had an international plan\n",
    "nchurn_int_1/len(df_not_churn)*100, nchurn_int_0/len(df_not_churn)*100"
   ]
  },
  {
   "cell_type": "markdown",
   "metadata": {},
   "source": [
    "Here we can see that from the customers who churned 27.7% had an international plan while from the customers who did not churn only 6.2% had an international plan. "
   ]
  },
  {
   "cell_type": "markdown",
   "metadata": {},
   "source": [
    "### 3. Data Preprocessing and Model Tuning"
   ]
  },
  {
   "cell_type": "markdown",
   "metadata": {},
   "source": [
    "#### a. Data Preprocessing"
   ]
  },
  {
   "cell_type": "markdown",
   "metadata": {},
   "source": [
    "Since the type of analysis we want to perform is a **supervised** learning task and the output variable is binary (there are two classes: churn/not churn), we will perform **classification**. So first we will separate the input features X (predictors) from the output feature y."
   ]
  },
  {
   "cell_type": "code",
   "execution_count": 22,
   "metadata": {
    "colab": {},
    "colab_type": "code",
    "id": "VGZUcvXGQc5p"
   },
   "outputs": [],
   "source": [
    "# Data import\n",
    "df_churn = pd.read_csv(\"churn_train.csv\")\n",
    "df_test = pd.read_csv(\"churn_test.csv\")\n",
    "\n",
    "X_train = df_churn.drop('churn', axis=1)\n",
    "y_train = df_churn['churn']\n",
    "\n",
    "X_test = df_test.drop('churn', axis=1)\n",
    "y_test = df_test['churn']"
   ]
  },
  {
   "cell_type": "markdown",
   "metadata": {},
   "source": [
    "We will plot the correlation matrix of features `X_train`."
   ]
  },
  {
   "cell_type": "code",
   "execution_count": 23,
   "metadata": {},
   "outputs": [
    {
     "data": {
      "image/png": "[encoded data removed]",
      "text/plain": [
       "<Figure size 432x288 with 2 Axes>"
      ]
     },
     "metadata": {
      "needs_background": "light"
     },
     "output_type": "display_data"
    }
   ],
   "source": [
    "# Correlation matrix of features\n",
    "fig = plt.figure()\n",
    "ax = fig.add_subplot(111)\n",
    "cax = ax.matshow(X_train.corr(), vmin=-1, vmax=1)\n",
    "fig.colorbar(cax)\n",
    "ticks = np.arange(0,9,1)"
   ]
  },
  {
   "cell_type": "markdown",
   "metadata": {},
   "source": [
    "Then, we can see below that the class labels are fairly represented both in the training and in the test set but there exists an **imbalance problem**."
   ]
  },
  {
   "cell_type": "code",
   "execution_count": 24,
   "metadata": {},
   "outputs": [
    {
     "data": {
      "image/png": "[encoded data removed]",
      "text/plain": [
       "<Figure size 800x250 with 2 Axes>"
      ]
     },
     "metadata": {
      "needs_background": "light"
     },
     "output_type": "display_data"
    }
   ],
   "source": [
    "y_train_series = pd.Series(y_train)\n",
    "y_test_series = pd.Series(y_test)   \n",
    "fig, axes = plt.subplots(1, 2, figsize=(8,2.5), dpi=100)\n",
    "axes[0].hist(y_train_series, color='blue', density=True)\n",
    "axes[0].set_title('Training Set')\n",
    "axes[1].hist(y_test_series, color='blue', density=True)\n",
    "axes[1].set_title('Test Set')\n",
    "plt.suptitle('Churn Rate: Proportions', y=1.05, size=16)\n",
    "plt.tight_layout();"
   ]
  },
  {
   "cell_type": "markdown",
   "metadata": {},
   "source": [
    "#### Missing values\n",
    "As seen in the data exploration, there are three columns with missing values."
   ]
  },
  {
   "cell_type": "code",
   "execution_count": 25,
   "metadata": {},
   "outputs": [
    {
     "data": {
      "text/plain": [
       "state                               0\n",
       "account_length                      0\n",
       "area_code                         189\n",
       "phone_number                        0\n",
       "international_plan                  0\n",
       "voice_mail_plan                     0\n",
       "number_vmail_messages               0\n",
       "total_day_minutes                   0\n",
       "total_day_calls                     0\n",
       "total_day_charge                    0\n",
       "total_eve_minutes                   0\n",
       "total_eve_calls                     0\n",
       "total_eve_charge                    0\n",
       "total_night_minutes                 0\n",
       "total_night_calls                   0\n",
       "total_night_charge                  0\n",
       "total_intl_minutes                  0\n",
       "total_intl_calls                 1076\n",
       "total_intl_charge                   0\n",
       "number_customer_service_calls     339\n",
       "dtype: int64"
      ]
     },
     "execution_count": 25,
     "metadata": {},
     "output_type": "execute_result"
    }
   ],
   "source": [
    "X_train.isnull().sum()"
   ]
  },
  {
   "cell_type": "markdown",
   "metadata": {},
   "source": [
    "To deal with the missing values, we can **drop the missing observations**. "
   ]
  },
  {
   "cell_type": "code",
   "execution_count": 26,
   "metadata": {},
   "outputs": [
    {
     "data": {
      "text/plain": [
       "(4000, 20)"
      ]
     },
     "execution_count": 26,
     "metadata": {},
     "output_type": "execute_result"
    }
   ],
   "source": [
    "X_train.shape"
   ]
  },
  {
   "cell_type": "code",
   "execution_count": 27,
   "metadata": {},
   "outputs": [
    {
     "data": {
      "text/plain": [
       "(2541, 20)"
      ]
     },
     "execution_count": 27,
     "metadata": {},
     "output_type": "execute_result"
    }
   ],
   "source": [
    "X_train_nomissing = X_train.dropna()\n",
    "X_train_nomissing.shape"
   ]
  },
  {
   "cell_type": "code",
   "execution_count": 28,
   "metadata": {},
   "outputs": [
    {
     "data": {
      "text/plain": [
       "(1000, 20)"
      ]
     },
     "execution_count": 28,
     "metadata": {},
     "output_type": "execute_result"
    }
   ],
   "source": [
    "X_test.shape"
   ]
  },
  {
   "cell_type": "code",
   "execution_count": 29,
   "metadata": {},
   "outputs": [
    {
     "data": {
      "text/plain": [
       "(664, 20)"
      ]
     },
     "execution_count": 29,
     "metadata": {},
     "output_type": "execute_result"
    }
   ],
   "source": [
    "X_test_nomissing = X_test.dropna()\n",
    "X_test_nomissing.shape"
   ]
  },
  {
   "cell_type": "markdown",
   "metadata": {},
   "source": [
    "As we have seen above, if we drop all the missing values, our dataset will nearly halve. Thus, the fraction of empty entries is large and it could strongly affect and bias the final results."
   ]
  },
  {
   "cell_type": "markdown",
   "metadata": {},
   "source": [
    "Therefore, we decide to perform **imputation** for the missing values.\n",
    "To apply the following data preprocessing techniques, we will need to separate the nominal features from the numeric ones; this is because nominal and numeric features have their own manipulation methods."
   ]
  },
  {
   "cell_type": "code",
   "execution_count": 30,
   "metadata": {
    "scrolled": true
   },
   "outputs": [
    {
     "name": "stdout",
     "output_type": "stream",
     "text": [
      "Number of observed values per feature:\n"
     ]
    },
    {
     "data": {
      "text/plain": [
       "{'state': 51,\n",
       " 'account_length': 217,\n",
       " 'area_code': 3,\n",
       " 'phone_number': 4000,\n",
       " 'international_plan': 2,\n",
       " 'voice_mail_plan': 2,\n",
       " 'number_vmail_messages': 48,\n",
       " 'total_day_minutes': 1793,\n",
       " 'total_day_calls': 121,\n",
       " 'total_day_charge': 1793,\n",
       " 'total_eve_minutes': 1738,\n",
       " 'total_eve_calls': 122,\n",
       " 'total_eve_charge': 1554,\n",
       " 'total_night_minutes': 1730,\n",
       " 'total_night_calls': 129,\n",
       " 'total_night_charge': 992,\n",
       " 'total_intl_minutes': 169,\n",
       " 'total_intl_calls': 20,\n",
       " 'total_intl_charge': 169,\n",
       " 'number_customer_service_calls': 10}"
      ]
     },
     "execution_count": 30,
     "metadata": {},
     "output_type": "execute_result"
    }
   ],
   "source": [
    "print(\"Number of observed values per feature:\")\n",
    "{x:len(X_train[x].value_counts()) for x in X_train.columns}"
   ]
  },
  {
   "cell_type": "markdown",
   "metadata": {},
   "source": [
    "As described in the data exploration part, there are two types of data, the **continuous** and the **categorical** (and binary) features. Besides, we do not have to encode the categorical variables since it is already encoded in the dataset."
   ]
  },
  {
   "cell_type": "code",
   "execution_count": 31,
   "metadata": {
    "colab": {},
    "colab_type": "code",
    "id": "x9wuPUqDQjlX"
   },
   "outputs": [],
   "source": [
    "# Separate continuous from categorical features\n",
    "X_train_cat = X_train[['state', 'area_code', 'international_plan', 'voice_mail_plan']]\n",
    "X_train_cont = X_train.drop((col for col in X_train_cat.columns), axis=1)\n",
    "\n",
    "X_test_cat = X_test[['state', 'area_code', 'international_plan', 'voice_mail_plan']]\n",
    "X_test_cont = X_test.drop((col for col in X_test_cat.columns), axis=1)"
   ]
  },
  {
   "cell_type": "markdown",
   "metadata": {},
   "source": [
    "Next, we will **impute the data** using the median for continuous data (since it is not as sensitive to the outliers as the mean) and the mode for the categorical data."
   ]
  },
  {
   "cell_type": "code",
   "execution_count": 32,
   "metadata": {
    "colab": {},
    "colab_type": "code",
    "id": "vftQ1g6MQn8P"
   },
   "outputs": [
    {
     "data": {
      "text/plain": [
       "((4000, 16), (4000, 4))"
      ]
     },
     "execution_count": 32,
     "metadata": {},
     "output_type": "execute_result"
    }
   ],
   "source": [
    "# Data Imputation\n",
    "from sklearn.impute import SimpleImputer\n",
    "num_imputer = SimpleImputer(strategy='median')\n",
    "cat_imputer = SimpleImputer(strategy='most_frequent')\n",
    "X_train_cont_imp = pd.DataFrame(num_imputer.fit_transform(X_train_cont))\n",
    "X_train_cat_imp = pd.DataFrame(cat_imputer.fit_transform(X_train_cat))\n",
    "\n",
    "# Impute the test dataset with the parameters from the training dataset\n",
    "X_test_cont_imp = pd.DataFrame(num_imputer.transform(X_test_cont))\n",
    "X_test_cat_imp = pd.DataFrame(cat_imputer.transform(X_test_cat))\n",
    "\n",
    "# The original sample size is preserved\n",
    "(X_train_cont_imp.shape, X_train_cat_imp.shape)"
   ]
  },
  {
   "cell_type": "markdown",
   "metadata": {},
   "source": [
    "We then compare the results for the variable `total_intl_calls`."
   ]
  },
  {
   "cell_type": "code",
   "execution_count": 33,
   "metadata": {},
   "outputs": [
    {
     "data": {
      "text/html": [
       "<div>\n",
       "<style scoped>\n",
       "    .dataframe tbody tr th:only-of-type {\n",
       "        vertical-align: middle;\n",
       "    }\n",
       "\n",
       "    .dataframe tbody tr th {\n",
       "        vertical-align: top;\n",
       "    }\n",
       "\n",
       "    .dataframe thead th {\n",
       "        text-align: right;\n",
       "    }\n",
       "</style>\n",
       "<table border=\"1\" class=\"dataframe\">\n",
       "  <thead>\n",
       "    <tr style=\"text-align: right;\">\n",
       "      <th></th>\n",
       "      <th>original data</th>\n",
       "      <th>dropping missing cases</th>\n",
       "      <th>imputed data</th>\n",
       "    </tr>\n",
       "  </thead>\n",
       "  <tbody>\n",
       "    <tr>\n",
       "      <th>mean</th>\n",
       "      <td>4.448358</td>\n",
       "      <td>4.463597</td>\n",
       "      <td>4.327750</td>\n",
       "    </tr>\n",
       "    <tr>\n",
       "      <th>median</th>\n",
       "      <td>4.000000</td>\n",
       "      <td>4.000000</td>\n",
       "      <td>4.000000</td>\n",
       "    </tr>\n",
       "    <tr>\n",
       "      <th>std.deviation</th>\n",
       "      <td>2.438936</td>\n",
       "      <td>2.448998</td>\n",
       "      <td>2.094619</td>\n",
       "    </tr>\n",
       "  </tbody>\n",
       "</table>\n",
       "</div>"
      ],
      "text/plain": [
       "               original data  dropping missing cases  imputed data\n",
       "mean                4.448358                4.463597      4.327750\n",
       "median              4.000000                4.000000      4.000000\n",
       "std.deviation       2.438936                2.448998      2.094619"
      ]
     },
     "execution_count": 33,
     "metadata": {},
     "output_type": "execute_result"
    }
   ],
   "source": [
    "pd.DataFrame({\"original data\":(X_train.iloc[:,17].mean(),\n",
    "                                           X_train.iloc[:,17].median(),\n",
    "                                          X_train.iloc[:,17].std()), \n",
    "             \"dropping missing cases\":(X_train_nomissing.iloc[:,17].mean(),\n",
    "                                           X_train_nomissing.iloc[:,17].median(),\n",
    "                                          X_train_nomissing.iloc[:,17].std()), \n",
    "             \"imputed data\":(X_train_cont_imp.iloc[:,13].mean(),\n",
    "                             X_train_cont_imp.iloc[:,13].median(),\n",
    "                             X_train_cont_imp.iloc[:,13].std())},\n",
    "              index=[\"mean\", \"median\", \"std.deviation\"])"
   ]
  },
  {
   "cell_type": "markdown",
   "metadata": {},
   "source": [
    "We will continue the preprocessing steps with the imputed data."
   ]
  },
  {
   "cell_type": "markdown",
   "metadata": {},
   "source": [
    "#### Scaling\n",
    "In raw datasets, numeric features are usually observed under different scales and machine learning algorithms are not aware of these differences, and will most likely end up giving more weights to variables with larger variances.\n",
    "Scaling transforms the attributes so that the new variables vary within a comparable range of values. Importantly, while the features are re-scaled, their correlation structure is left untouched, so that the information about what attributes are the strongest predictors of the output is not lost.\n",
    "For that reason, we will scale the continuous variables using **Standardization** to have the same mean and variance."
   ]
  },
  {
   "cell_type": "code",
   "execution_count": 34,
   "metadata": {},
   "outputs": [],
   "source": [
    "from sklearn.preprocessing import StandardScaler\n",
    "standardizer = StandardScaler()\n",
    "X_train_cont_standardized = pd.DataFrame(standardizer.fit_transform(X_train_cont_imp))\n",
    "X_test_cont_standardized = pd.DataFrame(standardizer.transform(X_test_cont_imp))"
   ]
  },
  {
   "cell_type": "markdown",
   "metadata": {},
   "source": [
    "We can see the means and scales used for the standardization of the features"
   ]
  },
  {
   "cell_type": "code",
   "execution_count": 35,
   "metadata": {},
   "outputs": [
    {
     "data": {
      "text/plain": [
       "(array([9.98090000e+01, 2.50652300e+03, 7.76425000e+00, 1.81076275e+02,\n",
       "        1.00070500e+02, 3.07834950e+01, 2.00986825e+02, 1.00151500e+02,\n",
       "        1.70840800e+01, 2.00800350e+02, 9.99877500e+01, 9.03614000e+00,\n",
       "        1.02771750e+01, 4.32775000e+00, 2.77538250e+00, 1.51550000e+00]),\n",
       " array([3.98928818e+01, 1.43984046e+03, 1.35674674e+01, 5.39061026e+01,\n",
       "        1.96818960e+01, 9.16397906e+00, 5.08419478e+01, 1.97682965e+01,\n",
       "        4.32154073e+00, 5.08782715e+01, 1.98157034e+01, 2.28952204e+00,\n",
       "        2.76326736e+00, 2.09435669e+00, 7.46033882e-01, 1.24890342e+00]))"
      ]
     },
     "execution_count": 35,
     "metadata": {},
     "output_type": "execute_result"
    }
   ],
   "source": [
    "(standardizer.mean_, standardizer.scale_)"
   ]
  },
  {
   "cell_type": "markdown",
   "metadata": {},
   "source": [
    "#### Merging the datasets\n",
    "After preprocessing the nominal and numeric features, we will merge the datasets and update the variable names."
   ]
  },
  {
   "cell_type": "code",
   "execution_count": 36,
   "metadata": {
    "colab": {
     "base_uri": "https://localhost:8080/",
     "height": 215
    },
    "colab_type": "code",
    "id": "UKc6KpKfQwlL",
    "outputId": "9d757fdb-6f16-4223-81e6-32022438bb9c"
   },
   "outputs": [
    {
     "data": {
      "text/html": [
       "<div>\n",
       "<style scoped>\n",
       "    .dataframe tbody tr th:only-of-type {\n",
       "        vertical-align: middle;\n",
       "    }\n",
       "\n",
       "    .dataframe tbody tr th {\n",
       "        vertical-align: top;\n",
       "    }\n",
       "\n",
       "    .dataframe thead th {\n",
       "        text-align: right;\n",
       "    }\n",
       "</style>\n",
       "<table border=\"1\" class=\"dataframe\">\n",
       "  <thead>\n",
       "    <tr style=\"text-align: right;\">\n",
       "      <th></th>\n",
       "      <th>state</th>\n",
       "      <th>area_code</th>\n",
       "      <th>international_plan</th>\n",
       "      <th>voice_mail_plan</th>\n",
       "      <th>account_length</th>\n",
       "      <th>phone_number</th>\n",
       "      <th>number_vmail_messages</th>\n",
       "      <th>total_day_minutes</th>\n",
       "      <th>total_day_calls</th>\n",
       "      <th>total_day_charge</th>\n",
       "      <th>total_eve_minutes</th>\n",
       "      <th>total_eve_calls</th>\n",
       "      <th>total_eve_charge</th>\n",
       "      <th>total_night_minutes</th>\n",
       "      <th>total_night_calls</th>\n",
       "      <th>total_night_charge</th>\n",
       "      <th>total_intl_minutes</th>\n",
       "      <th>total_intl_calls</th>\n",
       "      <th>total_intl_charge</th>\n",
       "      <th>number_customer_service_calls</th>\n",
       "    </tr>\n",
       "  </thead>\n",
       "  <tbody>\n",
       "    <tr>\n",
       "      <th>0</th>\n",
       "      <td>45.0</td>\n",
       "      <td>1.0</td>\n",
       "      <td>0.0</td>\n",
       "      <td>0.0</td>\n",
       "      <td>0.155191</td>\n",
       "      <td>-0.771977</td>\n",
       "      <td>-0.572270</td>\n",
       "      <td>1.004037</td>\n",
       "      <td>1.063388</td>\n",
       "      <td>1.003549</td>\n",
       "      <td>0.385768</td>\n",
       "      <td>-0.665282</td>\n",
       "      <td>0.385492</td>\n",
       "      <td>0.697737</td>\n",
       "      <td>-0.453567</td>\n",
       "      <td>0.696154</td>\n",
       "      <td>0.551096</td>\n",
       "      <td>-0.156492</td>\n",
       "      <td>0.555762</td>\n",
       "      <td>-0.412762</td>\n",
       "    </tr>\n",
       "    <tr>\n",
       "      <th>1</th>\n",
       "      <td>44.0</td>\n",
       "      <td>0.0</td>\n",
       "      <td>0.0</td>\n",
       "      <td>1.0</td>\n",
       "      <td>-1.223501</td>\n",
       "      <td>1.169905</td>\n",
       "      <td>-0.572270</td>\n",
       "      <td>0.590355</td>\n",
       "      <td>-1.019744</td>\n",
       "      <td>0.589974</td>\n",
       "      <td>0.690634</td>\n",
       "      <td>-2.182864</td>\n",
       "      <td>0.690939</td>\n",
       "      <td>-0.259450</td>\n",
       "      <td>-0.049847</td>\n",
       "      <td>-0.260377</td>\n",
       "      <td>-0.534575</td>\n",
       "      <td>-0.156492</td>\n",
       "      <td>-0.529979</td>\n",
       "      <td>0.387940</td>\n",
       "    </tr>\n",
       "    <tr>\n",
       "      <th>2</th>\n",
       "      <td>10.0</td>\n",
       "      <td>2.0</td>\n",
       "      <td>0.0</td>\n",
       "      <td>0.0</td>\n",
       "      <td>-0.897629</td>\n",
       "      <td>1.390069</td>\n",
       "      <td>-0.572270</td>\n",
       "      <td>0.664558</td>\n",
       "      <td>-1.121360</td>\n",
       "      <td>0.664177</td>\n",
       "      <td>0.196947</td>\n",
       "      <td>0.751127</td>\n",
       "      <td>0.198059</td>\n",
       "      <td>-0.412757</td>\n",
       "      <td>0.808059</td>\n",
       "      <td>-0.413248</td>\n",
       "      <td>0.406340</td>\n",
       "      <td>0.320982</td>\n",
       "      <td>0.408316</td>\n",
       "      <td>1.188643</td>\n",
       "    </tr>\n",
       "    <tr>\n",
       "      <th>3</th>\n",
       "      <td>31.0</td>\n",
       "      <td>2.0</td>\n",
       "      <td>1.0</td>\n",
       "      <td>1.0</td>\n",
       "      <td>-1.022964</td>\n",
       "      <td>-1.017837</td>\n",
       "      <td>1.712608</td>\n",
       "      <td>0.814819</td>\n",
       "      <td>-1.121360</td>\n",
       "      <td>0.814767</td>\n",
       "      <td>-0.190528</td>\n",
       "      <td>-1.069971</td>\n",
       "      <td>-0.190691</td>\n",
       "      <td>0.509051</td>\n",
       "      <td>-1.059147</td>\n",
       "      <td>0.508342</td>\n",
       "      <td>-0.426008</td>\n",
       "      <td>-0.633966</td>\n",
       "      <td>-0.422746</td>\n",
       "      <td>-0.412762</td>\n",
       "    </tr>\n",
       "    <tr>\n",
       "      <th>4</th>\n",
       "      <td>8.0</td>\n",
       "      <td>1.0</td>\n",
       "      <td>0.0</td>\n",
       "      <td>0.0</td>\n",
       "      <td>0.907204</td>\n",
       "      <td>-0.803924</td>\n",
       "      <td>-0.572270</td>\n",
       "      <td>-1.472491</td>\n",
       "      <td>0.250459</td>\n",
       "      <td>-1.472449</td>\n",
       "      <td>0.035663</td>\n",
       "      <td>-0.058250</td>\n",
       "      <td>0.036080</td>\n",
       "      <td>-1.269704</td>\n",
       "      <td>0.959454</td>\n",
       "      <td>-1.269322</td>\n",
       "      <td>-0.317441</td>\n",
       "      <td>0.798455</td>\n",
       "      <td>-0.315512</td>\n",
       "      <td>1.188643</td>\n",
       "    </tr>\n",
       "  </tbody>\n",
       "</table>\n",
       "</div>"
      ],
      "text/plain": [
       "   state  area_code  international_plan  voice_mail_plan  account_length  \\\n",
       "0   45.0        1.0                 0.0              0.0        0.155191   \n",
       "1   44.0        0.0                 0.0              1.0       -1.223501   \n",
       "2   10.0        2.0                 0.0              0.0       -0.897629   \n",
       "3   31.0        2.0                 1.0              1.0       -1.022964   \n",
       "4    8.0        1.0                 0.0              0.0        0.907204   \n",
       "\n",
       "   phone_number  number_vmail_messages  total_day_minutes  total_day_calls  \\\n",
       "0     -0.771977              -0.572270           1.004037         1.063388   \n",
       "1      1.169905              -0.572270           0.590355        -1.019744   \n",
       "2      1.390069              -0.572270           0.664558        -1.121360   \n",
       "3     -1.017837               1.712608           0.814819        -1.121360   \n",
       "4     -0.803924              -0.572270          -1.472491         0.250459   \n",
       "\n",
       "   total_day_charge  total_eve_minutes  total_eve_calls  total_eve_charge  \\\n",
       "0          1.003549           0.385768        -0.665282          0.385492   \n",
       "1          0.589974           0.690634        -2.182864          0.690939   \n",
       "2          0.664177           0.196947         0.751127          0.198059   \n",
       "3          0.814767          -0.190528        -1.069971         -0.190691   \n",
       "4         -1.472449           0.035663        -0.058250          0.036080   \n",
       "\n",
       "   total_night_minutes  total_night_calls  total_night_charge  \\\n",
       "0             0.697737          -0.453567            0.696154   \n",
       "1            -0.259450          -0.049847           -0.260377   \n",
       "2            -0.412757           0.808059           -0.413248   \n",
       "3             0.509051          -1.059147            0.508342   \n",
       "4            -1.269704           0.959454           -1.269322   \n",
       "\n",
       "   total_intl_minutes  total_intl_calls  total_intl_charge  \\\n",
       "0            0.551096         -0.156492           0.555762   \n",
       "1           -0.534575         -0.156492          -0.529979   \n",
       "2            0.406340          0.320982           0.408316   \n",
       "3           -0.426008         -0.633966          -0.422746   \n",
       "4           -0.317441          0.798455          -0.315512   \n",
       "\n",
       "   number_customer_service_calls  \n",
       "0                      -0.412762  \n",
       "1                       0.387940  \n",
       "2                       1.188643  \n",
       "3                      -0.412762  \n",
       "4                       1.188643  "
      ]
     },
     "execution_count": 36,
     "metadata": {},
     "output_type": "execute_result"
    }
   ],
   "source": [
    "# Merging the datasets\n",
    "X_train_cont_standardized.index = X_train.index\n",
    "X_train_cat_imp.index = X_train.index \n",
    "X_test_cont_standardized.index = X_test.index\n",
    "X_test_cat_imp.index = X_test.index\n",
    "X_train_processed = pd.concat([X_train_cat_imp, X_train_cont_standardized], axis=1)\n",
    "X_test_processed = pd.concat([X_test_cat_imp, X_test_cont_standardized], axis=1)\n",
    "\n",
    "# Update variable names \n",
    "new_var_names = list(X_train_cat.columns)\n",
    "new_var_names = new_var_names + list(X_train_cont.columns)\n",
    "X_train_processed.columns = new_var_names\n",
    "X_test_processed.columns = new_var_names\n",
    "X_train_processed.head()"
   ]
  },
  {
   "cell_type": "markdown",
   "metadata": {},
   "source": [
    "#### Dimensionality Reduction\n",
    "In our dataset, there are totally 20 features. However, not every feature is informative for the prediction of the class variable (churn/not churn). Thus, it is necessary to remove those features."
   ]
  },
  {
   "cell_type": "markdown",
   "metadata": {},
   "source": [
    "##### Uninformative variables\n",
    "\n",
    "The first uninfomative variable is `phone_number`, which represents **Customer ID**. This can be considered uninformative for the prediction of the class because knowing the Customer ID does not give us any information about the probability of churning. Furthermore, retaining these type of variables in the dataset will produce overfitting models in the training stage. Thus, we can safely remove the `phone_number` variable from our dataset."
   ]
  },
  {
   "cell_type": "code",
   "execution_count": 37,
   "metadata": {},
   "outputs": [
    {
     "data": {
      "text/html": [
       "<div>\n",
       "<style scoped>\n",
       "    .dataframe tbody tr th:only-of-type {\n",
       "        vertical-align: middle;\n",
       "    }\n",
       "\n",
       "    .dataframe tbody tr th {\n",
       "        vertical-align: top;\n",
       "    }\n",
       "\n",
       "    .dataframe thead th {\n",
       "        text-align: right;\n",
       "    }\n",
       "</style>\n",
       "<table border=\"1\" class=\"dataframe\">\n",
       "  <thead>\n",
       "    <tr style=\"text-align: right;\">\n",
       "      <th></th>\n",
       "      <th>state</th>\n",
       "      <th>area_code</th>\n",
       "      <th>international_plan</th>\n",
       "      <th>voice_mail_plan</th>\n",
       "      <th>account_length</th>\n",
       "      <th>number_vmail_messages</th>\n",
       "      <th>total_day_minutes</th>\n",
       "      <th>total_day_calls</th>\n",
       "      <th>total_day_charge</th>\n",
       "      <th>total_eve_minutes</th>\n",
       "      <th>total_eve_calls</th>\n",
       "      <th>total_eve_charge</th>\n",
       "      <th>total_night_minutes</th>\n",
       "      <th>total_night_calls</th>\n",
       "      <th>total_night_charge</th>\n",
       "      <th>total_intl_minutes</th>\n",
       "      <th>total_intl_calls</th>\n",
       "      <th>total_intl_charge</th>\n",
       "      <th>number_customer_service_calls</th>\n",
       "    </tr>\n",
       "  </thead>\n",
       "  <tbody>\n",
       "    <tr>\n",
       "      <th>0</th>\n",
       "      <td>45.0</td>\n",
       "      <td>1.0</td>\n",
       "      <td>0.0</td>\n",
       "      <td>0.0</td>\n",
       "      <td>0.155191</td>\n",
       "      <td>-0.572270</td>\n",
       "      <td>1.004037</td>\n",
       "      <td>1.063388</td>\n",
       "      <td>1.003549</td>\n",
       "      <td>0.385768</td>\n",
       "      <td>-0.665282</td>\n",
       "      <td>0.385492</td>\n",
       "      <td>0.697737</td>\n",
       "      <td>-0.453567</td>\n",
       "      <td>0.696154</td>\n",
       "      <td>0.551096</td>\n",
       "      <td>-0.156492</td>\n",
       "      <td>0.555762</td>\n",
       "      <td>-0.412762</td>\n",
       "    </tr>\n",
       "    <tr>\n",
       "      <th>1</th>\n",
       "      <td>44.0</td>\n",
       "      <td>0.0</td>\n",
       "      <td>0.0</td>\n",
       "      <td>1.0</td>\n",
       "      <td>-1.223501</td>\n",
       "      <td>-0.572270</td>\n",
       "      <td>0.590355</td>\n",
       "      <td>-1.019744</td>\n",
       "      <td>0.589974</td>\n",
       "      <td>0.690634</td>\n",
       "      <td>-2.182864</td>\n",
       "      <td>0.690939</td>\n",
       "      <td>-0.259450</td>\n",
       "      <td>-0.049847</td>\n",
       "      <td>-0.260377</td>\n",
       "      <td>-0.534575</td>\n",
       "      <td>-0.156492</td>\n",
       "      <td>-0.529979</td>\n",
       "      <td>0.387940</td>\n",
       "    </tr>\n",
       "    <tr>\n",
       "      <th>2</th>\n",
       "      <td>10.0</td>\n",
       "      <td>2.0</td>\n",
       "      <td>0.0</td>\n",
       "      <td>0.0</td>\n",
       "      <td>-0.897629</td>\n",
       "      <td>-0.572270</td>\n",
       "      <td>0.664558</td>\n",
       "      <td>-1.121360</td>\n",
       "      <td>0.664177</td>\n",
       "      <td>0.196947</td>\n",
       "      <td>0.751127</td>\n",
       "      <td>0.198059</td>\n",
       "      <td>-0.412757</td>\n",
       "      <td>0.808059</td>\n",
       "      <td>-0.413248</td>\n",
       "      <td>0.406340</td>\n",
       "      <td>0.320982</td>\n",
       "      <td>0.408316</td>\n",
       "      <td>1.188643</td>\n",
       "    </tr>\n",
       "    <tr>\n",
       "      <th>3</th>\n",
       "      <td>31.0</td>\n",
       "      <td>2.0</td>\n",
       "      <td>1.0</td>\n",
       "      <td>1.0</td>\n",
       "      <td>-1.022964</td>\n",
       "      <td>1.712608</td>\n",
       "      <td>0.814819</td>\n",
       "      <td>-1.121360</td>\n",
       "      <td>0.814767</td>\n",
       "      <td>-0.190528</td>\n",
       "      <td>-1.069971</td>\n",
       "      <td>-0.190691</td>\n",
       "      <td>0.509051</td>\n",
       "      <td>-1.059147</td>\n",
       "      <td>0.508342</td>\n",
       "      <td>-0.426008</td>\n",
       "      <td>-0.633966</td>\n",
       "      <td>-0.422746</td>\n",
       "      <td>-0.412762</td>\n",
       "    </tr>\n",
       "    <tr>\n",
       "      <th>4</th>\n",
       "      <td>8.0</td>\n",
       "      <td>1.0</td>\n",
       "      <td>0.0</td>\n",
       "      <td>0.0</td>\n",
       "      <td>0.907204</td>\n",
       "      <td>-0.572270</td>\n",
       "      <td>-1.472491</td>\n",
       "      <td>0.250459</td>\n",
       "      <td>-1.472449</td>\n",
       "      <td>0.035663</td>\n",
       "      <td>-0.058250</td>\n",
       "      <td>0.036080</td>\n",
       "      <td>-1.269704</td>\n",
       "      <td>0.959454</td>\n",
       "      <td>-1.269322</td>\n",
       "      <td>-0.317441</td>\n",
       "      <td>0.798455</td>\n",
       "      <td>-0.315512</td>\n",
       "      <td>1.188643</td>\n",
       "    </tr>\n",
       "  </tbody>\n",
       "</table>\n",
       "</div>"
      ],
      "text/plain": [
       "   state  area_code  international_plan  voice_mail_plan  account_length  \\\n",
       "0   45.0        1.0                 0.0              0.0        0.155191   \n",
       "1   44.0        0.0                 0.0              1.0       -1.223501   \n",
       "2   10.0        2.0                 0.0              0.0       -0.897629   \n",
       "3   31.0        2.0                 1.0              1.0       -1.022964   \n",
       "4    8.0        1.0                 0.0              0.0        0.907204   \n",
       "\n",
       "   number_vmail_messages  total_day_minutes  total_day_calls  \\\n",
       "0              -0.572270           1.004037         1.063388   \n",
       "1              -0.572270           0.590355        -1.019744   \n",
       "2              -0.572270           0.664558        -1.121360   \n",
       "3               1.712608           0.814819        -1.121360   \n",
       "4              -0.572270          -1.472491         0.250459   \n",
       "\n",
       "   total_day_charge  total_eve_minutes  total_eve_calls  total_eve_charge  \\\n",
       "0          1.003549           0.385768        -0.665282          0.385492   \n",
       "1          0.589974           0.690634        -2.182864          0.690939   \n",
       "2          0.664177           0.196947         0.751127          0.198059   \n",
       "3          0.814767          -0.190528        -1.069971         -0.190691   \n",
       "4         -1.472449           0.035663        -0.058250          0.036080   \n",
       "\n",
       "   total_night_minutes  total_night_calls  total_night_charge  \\\n",
       "0             0.697737          -0.453567            0.696154   \n",
       "1            -0.259450          -0.049847           -0.260377   \n",
       "2            -0.412757           0.808059           -0.413248   \n",
       "3             0.509051          -1.059147            0.508342   \n",
       "4            -1.269704           0.959454           -1.269322   \n",
       "\n",
       "   total_intl_minutes  total_intl_calls  total_intl_charge  \\\n",
       "0            0.551096         -0.156492           0.555762   \n",
       "1           -0.534575         -0.156492          -0.529979   \n",
       "2            0.406340          0.320982           0.408316   \n",
       "3           -0.426008         -0.633966          -0.422746   \n",
       "4           -0.317441          0.798455          -0.315512   \n",
       "\n",
       "   number_customer_service_calls  \n",
       "0                      -0.412762  \n",
       "1                       0.387940  \n",
       "2                       1.188643  \n",
       "3                      -0.412762  \n",
       "4                       1.188643  "
      ]
     },
     "execution_count": 37,
     "metadata": {},
     "output_type": "execute_result"
    }
   ],
   "source": [
    "X_train_processed.drop([\"phone_number\"], axis=1, inplace=True)\n",
    "X_test_processed.drop([\"phone_number\"], axis=1, inplace=True)\n",
    "X_train_processed.head()"
   ]
  },
  {
   "cell_type": "markdown",
   "metadata": {},
   "source": [
    "Variables with **(near) zero-variance**, on the other hand, are attributes that are almost constant, or completely constant across examples. As such, they cannot be informative for predictions, and can be safely removed."
   ]
  },
  {
   "cell_type": "code",
   "execution_count": 38,
   "metadata": {},
   "outputs": [
    {
     "data": {
      "text/plain": [
       "{'state': 221.576,\n",
       " 'area_code': 0.483,\n",
       " 'international_plan': 0.084,\n",
       " 'voice_mail_plan': 0.194,\n",
       " 'account_length': 1.0,\n",
       " 'number_vmail_messages': 1.0,\n",
       " 'total_day_minutes': 1.0,\n",
       " 'total_day_calls': 1.0,\n",
       " 'total_day_charge': 1.0,\n",
       " 'total_eve_minutes': 1.0,\n",
       " 'total_eve_calls': 1.0,\n",
       " 'total_eve_charge': 1.0,\n",
       " 'total_night_minutes': 1.0,\n",
       " 'total_night_calls': 1.0,\n",
       " 'total_night_charge': 1.0,\n",
       " 'total_intl_minutes': 1.0,\n",
       " 'total_intl_calls': 1.0,\n",
       " 'total_intl_charge': 1.0,\n",
       " 'number_customer_service_calls': 1.0}"
      ]
     },
     "execution_count": 38,
     "metadata": {},
     "output_type": "execute_result"
    }
   ],
   "source": [
    "from sklearn.feature_selection import VarianceThreshold\n",
    "\n",
    "zv_features = VarianceThreshold(threshold=0.01)\n",
    "zv_features.fit(X_train_processed)\n",
    "{X_train_processed.columns[x]:zv_features.variances_[x].round(3) \n",
    " for x in range(X_train_processed.shape[1])}"
   ]
  },
  {
   "cell_type": "markdown",
   "metadata": {},
   "source": [
    "As we see above, when we use a threshold of 0.01, there is no variable to be removed. "
   ]
  },
  {
   "cell_type": "markdown",
   "metadata": {},
   "source": [
    "##### Feature Selection\n",
    "\n",
    "As stated above, not all features are necessarily good predictors of the class/output. Thus, we will perform feature selection to reduce the number of independent variables for training."
   ]
  },
  {
   "cell_type": "markdown",
   "metadata": {},
   "source": [
    "**Select K-Best**\n",
    "The function will then detect the k best features according to some univariate tests."
   ]
  },
  {
   "cell_type": "code",
   "execution_count": 108,
   "metadata": {},
   "outputs": [
    {
     "data": {
      "text/plain": [
       "SelectKBest(k=15, score_func=<function f_classif at 0x00000228BD925378>)"
      ]
     },
     "execution_count": 108,
     "metadata": {},
     "output_type": "execute_result"
    }
   ],
   "source": [
    "from sklearn.feature_selection import SelectKBest, f_classif\n",
    "skb = SelectKBest(score_func= f_classif, k=15)\n",
    "skb.fit(X_train_processed, y_train)"
   ]
  },
  {
   "cell_type": "markdown",
   "metadata": {},
   "source": [
    "We can see the scores that the model gives to each features."
   ]
  },
  {
   "cell_type": "code",
   "execution_count": 114,
   "metadata": {},
   "outputs": [
    {
     "data": {
      "text/plain": [
       "array([1.000e-01, 7.000e-01, 2.892e+02, 5.630e+01, 3.300e+00, 4.860e+01,\n",
       "       2.190e+02, 3.200e+00, 2.190e+02, 4.020e+01, 1.000e-01, 4.020e+01,\n",
       "       9.300e+00, 0.000e+00, 9.300e+00, 2.600e+01, 1.240e+01, 2.600e+01,\n",
       "       1.520e+02])"
      ]
     },
     "execution_count": 114,
     "metadata": {},
     "output_type": "execute_result"
    }
   ],
   "source": [
    "skb.scores_.round(decimals=1)"
   ]
  },
  {
   "cell_type": "markdown",
   "metadata": {},
   "source": [
    "The highest score (289.2) is given to feature `international_plan`."
   ]
  },
  {
   "cell_type": "markdown",
   "metadata": {},
   "source": [
    "**SelectFromModel()**\n",
    "Feed the function with a scikit-learn estimator, using Logistic Regression model with Lasso penalty as a classifier for the importance weights of each feature. "
   ]
  },
  {
   "cell_type": "code",
   "execution_count": 106,
   "metadata": {},
   "outputs": [
    {
     "data": {
      "text/plain": [
       "SelectFromModel(estimator=LogisticRegression(C=1.0, class_weight=None,\n",
       "                                             dual=False, fit_intercept=True,\n",
       "                                             intercept_scaling=1, l1_ratio=None,\n",
       "                                             max_iter=100, multi_class='warn',\n",
       "                                             n_jobs=None, penalty='l2',\n",
       "                                             random_state=None, solver='lbfgs',\n",
       "                                             tol=0.0001, verbose=0,\n",
       "                                             warm_start=False),\n",
       "                max_features=None, norm_order=1, prefit=False, threshold=None)"
      ]
     },
     "execution_count": 106,
     "metadata": {},
     "output_type": "execute_result"
    }
   ],
   "source": [
    "from sklearn.feature_selection import SelectFromModel\n",
    "from sklearn.linear_model import LogisticRegression\n",
    "sel_log_reg = SelectFromModel(estimator=LogisticRegression(penalty='l2', solver='lbfgs'))\n",
    "sel_log_reg.fit(X_train_processed, y_train)"
   ]
  },
  {
   "cell_type": "markdown",
   "metadata": {},
   "source": [
    "We can see which features to be retained from the model."
   ]
  },
  {
   "cell_type": "code",
   "execution_count": 107,
   "metadata": {},
   "outputs": [
    {
     "data": {
      "text/plain": [
       "array([False, False,  True,  True, False, False,  True, False,  True,\n",
       "       False, False, False, False, False, False, False, False, False,\n",
       "        True])"
      ]
     },
     "execution_count": 107,
     "metadata": {},
     "output_type": "execute_result"
    }
   ],
   "source": [
    "sel_log_reg.get_support()"
   ]
  },
  {
   "cell_type": "markdown",
   "metadata": {},
   "source": [
    "According to this model, the retained features are `international_plan`, `voice_mail_plan`, `total_day_minutes`, `total_day_charge` and `number_customer_service_calls`."
   ]
  },
  {
   "cell_type": "markdown",
   "metadata": {},
   "source": [
    "**Random Forest**\n",
    "This is a ensembled learning model, which can take into account non-linearities and potential interactions among features and provide a measure of feature importance after the training stage."
   ]
  },
  {
   "cell_type": "code",
   "execution_count": 42,
   "metadata": {},
   "outputs": [
    {
     "data": {
      "image/png": "[encoded data removed]",
      "text/plain": [
       "<Figure size 360x360 with 1 Axes>"
      ]
     },
     "metadata": {
      "needs_background": "light"
     },
     "output_type": "display_data"
    }
   ],
   "source": [
    "from sklearn.ensemble import RandomForestClassifier\n",
    "rf = RandomForestClassifier(n_estimators=200)\n",
    "rf.fit(X_train_processed, y_train)\n",
    "importances = rf.feature_importances_\n",
    "indices = np.argsort(importances)\n",
    "plt.figure(figsize=(5,5))\n",
    "plt.barh(range(X_train_processed.shape[1]), importances[indices], color='b', align='center')\n",
    "plt.yticks(range(X_train_processed.shape[1]), [X_train_processed.columns[v] for v in indices])\n",
    "plt.ylim([-1, X_train_processed.shape[1]])\n",
    "plt.title(\"RandomForest: Feature Importance\")\n",
    "plt.show()"
   ]
  },
  {
   "cell_type": "markdown",
   "metadata": {},
   "source": [
    "We can see that the most important features according to Random Forest are `total_day_minutes` and `total_day_charge` and the least important feature is `area_code`."
   ]
  },
  {
   "cell_type": "markdown",
   "metadata": {},
   "source": [
    "Looking at the three feature selection models above, we decide not to remove any features except from the variable `phone_number` we deleted before."
   ]
  },
  {
   "cell_type": "markdown",
   "metadata": {},
   "source": [
    "#### b. Candidate models\n",
    "In this part, we will try as many models from different categories as we can. Then, we can measure and compare their performance and analyze the errors each algorithm makes. Base on the results, we will choose the most promissing models to tune them in the Result part."
   ]
  },
  {
   "cell_type": "markdown",
   "metadata": {
    "colab_type": "text",
    "id": "Bai7v_ni9fBI"
   },
   "source": [
    "**Decision Tree**\n",
    "\n",
    "First we want to make a decision tree."
   ]
  },
  {
   "cell_type": "code",
   "execution_count": 80,
   "metadata": {
    "colab": {
     "base_uri": "https://localhost:8080/",
     "height": 575
    },
    "colab_type": "code",
    "id": "eQwiIjK3iymg",
    "outputId": "30cd433e-9171-4203-878f-150ac9f54c69"
   },
   "outputs": [
    {
     "data": {
      "image/png": "[encoded data removed]",
      "text/plain": [
       "<Figure size 720x720 with 1 Axes>"
      ]
     },
     "metadata": {
      "needs_background": "light"
     },
     "output_type": "display_data"
    }
   ],
   "source": [
    "from sklearn.tree import DecisionTreeClassifier\n",
    "from sklearn.tree import plot_tree\n",
    "\n",
    "X_train = X_train_processed\n",
    "\n",
    "tree = DecisionTreeClassifier(max_depth=5, random_state=1)\n",
    "tree.fit(X_train, y_train)\n",
    "\n",
    "from sklearn.tree import plot_tree\n",
    "plt.figure(figsize=(10,10))\n",
    "plot_tree(tree, feature_names=list(X_train), filled=False, fontsize=10, rounded=True)\n",
    "plt.show()"
   ]
  },
  {
   "cell_type": "markdown",
   "metadata": {},
   "source": [
    "Now we take a look at the feature importances."
   ]
  },
  {
   "cell_type": "code",
   "execution_count": 44,
   "metadata": {
    "colab": {
     "base_uri": "https://localhost:8080/",
     "height": 84
    },
    "colab_type": "code",
    "id": "fRQGIwOijKnZ",
    "outputId": "ee512a7d-f7b0-42ee-a9f4-2147a26ba71a"
   },
   "outputs": [
    {
     "data": {
      "text/plain": [
       "array([0.        , 0.        , 0.09772621, 0.        , 0.00270401,\n",
       "       0.07745574, 0.03154386, 0.00311474, 0.29136595, 0.03514799,\n",
       "       0.00409698, 0.11804122, 0.02537141, 0.        , 0.00455958,\n",
       "       0.        , 0.08298381, 0.09293418, 0.13295432])"
      ]
     },
     "execution_count": 44,
     "metadata": {},
     "output_type": "execute_result"
    }
   ],
   "source": [
    "tree.feature_importances_"
   ]
  },
  {
   "cell_type": "markdown",
   "metadata": {
    "colab_type": "text",
    "id": "njsLmHBwkpRb"
   },
   "source": [
    "This graph below shows the feature importances when we chose a tree depth of 5."
   ]
  },
  {
   "cell_type": "code",
   "execution_count": 138,
   "metadata": {
    "colab": {
     "base_uri": "https://localhost:8080/",
     "height": 320
    },
    "colab_type": "code",
    "id": "Gxlsc3ddj28X",
    "outputId": "7e192369-007f-4755-f64a-adaebcf7c14d"
   },
   "outputs": [
    {
     "data": {
      "image/png": "[encoded data removed]",
      "text/plain": [
       "<Figure size 576x360 with 1 Axes>"
      ]
     },
     "metadata": {
      "needs_background": "light"
     },
     "output_type": "display_data"
    }
   ],
   "source": [
    "plt.figure(figsize=(8,5))\n",
    "plt.barh(range(X_train.shape[1]), np.sort(tree.feature_importances_))\n",
    "plt.xticks(np.arange(tree.feature_importances_.min(), tree.feature_importances_.max(),0.05))\n",
    "plt.yticks(range(X_train.shape[1]), X_train.columns[np.argsort(tree.feature_importances_)])\n",
    "plt.show()"
   ]
  },
  {
   "cell_type": "markdown",
   "metadata": {
    "colab_type": "text",
    "id": "nCsGKMYdHaUP"
   },
   "source": [
    "From the decision tree, we can see that there are some features that score a 0 for importance, which is not included by the model. These features are `total_inl_charge`, `number_vmail_messages`, `area_code` and `state`. This leaves us with 15 remaining features.\n",
    "\n",
    "On the other hand, `total_day_charge` is the most important feature to the tree, followed by `number_customer_service_calls` and `international_plan`"
   ]
  },
  {
   "cell_type": "markdown",
   "metadata": {},
   "source": [
    "Next, we want to plot the ROC curve of the decision tree."
   ]
  },
  {
   "cell_type": "code",
   "execution_count": 46,
   "metadata": {
    "colab": {},
    "colab_type": "code",
    "id": "ifPMg12qkAmC"
   },
   "outputs": [],
   "source": [
    "def plot_roc(fpr, tpr, label=None, col='b'):\n",
    "    plt.plot(fpr, tpr, col, linewidth=2, label=label)\n",
    "    plt.plot([0, 1], [0, 1], 'k--')\n",
    "    plt.axis([0, 1, 0, 1])\n",
    "    plt.xlabel('False Positive Rate (1-Specificity)')\n",
    "    plt.ylabel('True Positive Rate (Sensitivity)')\n",
    "    plt.xlim((-0.02,1.02))\n",
    "    plt.ylim((-0.02,1.02))\n",
    "    plt.title('ROC Curve')"
   ]
  },
  {
   "cell_type": "markdown",
   "metadata": {
    "colab_type": "text",
    "id": "mvK_ps5_kcmL"
   },
   "source": [
    "Here you can see the plot from the ROC curve on the training set."
   ]
  },
  {
   "cell_type": "code",
   "execution_count": 47,
   "metadata": {
    "colab": {
     "base_uri": "https://localhost:8080/",
     "height": 350
    },
    "colab_type": "code",
    "id": "wpmGCXRbkNXp",
    "outputId": "4b85fe15-c393-4edd-f4ca-6f08ad9e78ed"
   },
   "outputs": [
    {
     "data": {
      "image/png": "[encoded data removed]",
      "text/plain": [
       "<Figure size 360x360 with 1 Axes>"
      ]
     },
     "metadata": {
      "needs_background": "light"
     },
     "output_type": "display_data"
    }
   ],
   "source": [
    "from sklearn import metrics\n",
    "from sklearn.metrics import roc_curve\n",
    "\n",
    "pred_probs = tree.predict_proba(X_train)[:,1]\n",
    "test_fpr, test_tpr, test_thresholds = metrics.roc_curve(y_train, pred_probs)\n",
    "\n",
    "plt.figure(figsize=(5,5))\n",
    "plot_roc(test_fpr, test_tpr)\n",
    "plt.show()"
   ]
  },
  {
   "cell_type": "markdown",
   "metadata": {},
   "source": [
    "The plot shows a large area under the curve, which means that we might get high AUC score."
   ]
  },
  {
   "cell_type": "markdown",
   "metadata": {},
   "source": [
    "Below you can see the ROC curve on the test set."
   ]
  },
  {
   "cell_type": "code",
   "execution_count": 48,
   "metadata": {
    "colab": {
     "base_uri": "https://localhost:8080/",
     "height": 350
    },
    "colab_type": "code",
    "id": "_xekVhdDkRzC",
    "outputId": "0b81d4f7-1b83-4086-a9f1-03c73ce5e7fe"
   },
   "outputs": [
    {
     "data": {
      "image/png": "[encoded data removed]",
      "text/plain": [
       "<Figure size 360x360 with 1 Axes>"
      ]
     },
     "metadata": {
      "needs_background": "light"
     },
     "output_type": "display_data"
    }
   ],
   "source": [
    "X_test = X_test_processed\n",
    "\n",
    "test_pred_probs = tree.predict_proba(X_test)[:,1]\n",
    "test_fpr, test_tpr, test_thresholds = metrics.roc_curve(y_test, test_pred_probs)\n",
    "\n",
    "plt.figure(figsize=(5,5))\n",
    "plot_roc(test_fpr, test_tpr)\n",
    "plt.show()"
   ]
  },
  {
   "cell_type": "markdown",
   "metadata": {},
   "source": [
    "The area under the curve is lower than the plot for the training set. This is expected since we cannot have the AUC score as high as when we train the data."
   ]
  },
  {
   "cell_type": "markdown",
   "metadata": {},
   "source": [
    "Now we want to take a look at the AUC score."
   ]
  },
  {
   "cell_type": "code",
   "execution_count": 49,
   "metadata": {
    "colab": {
     "base_uri": "https://localhost:8080/",
     "height": 34
    },
    "colab_type": "code",
    "id": "nsRjIccmPN3K",
    "outputId": "50254343-73a6-4668-800f-e6add80a48e8"
   },
   "outputs": [
    {
     "data": {
      "text/plain": [
       "0.851691311850329"
      ]
     },
     "execution_count": 49,
     "metadata": {},
     "output_type": "execute_result"
    }
   ],
   "source": [
    "metrics.roc_auc_score(y_test, test_pred_probs)"
   ]
  },
  {
   "cell_type": "markdown",
   "metadata": {},
   "source": [
    "The decision tree with max_depth = 5 returns quite a high AUC score on the test. This could be a promissing model to tune."
   ]
  },
  {
   "cell_type": "markdown",
   "metadata": {
    "colab_type": "text",
    "id": "yZvEOSul8_jM"
   },
   "source": [
    "**K-Nearest-Neighbor**\n",
    "\n",
    "Next, we will try to fit the model with KNN."
   ]
  },
  {
   "cell_type": "code",
   "execution_count": 79,
   "metadata": {},
   "outputs": [
    {
     "data": {
      "text/plain": [
       "KNeighborsClassifier(algorithm='auto', leaf_size=30, metric='minkowski',\n",
       "                     metric_params=None, n_jobs=None, n_neighbors=5, p=2,\n",
       "                     weights='uniform')"
      ]
     },
     "execution_count": 79,
     "metadata": {},
     "output_type": "execute_result"
    }
   ],
   "source": [
    "from sklearn.neighbors import KNeighborsClassifier\n",
    "\n",
    "knn = KNeighborsClassifier()\n",
    "knn.fit(X_train, y_train)"
   ]
  },
  {
   "cell_type": "markdown",
   "metadata": {},
   "source": [
    "We can also obtain the predicted probabilities of each class for the first two test points."
   ]
  },
  {
   "cell_type": "code",
   "execution_count": 52,
   "metadata": {},
   "outputs": [
    {
     "data": {
      "text/plain": [
       "array([[1. , 0. ],\n",
       "       [0.6, 0.4]])"
      ]
     },
     "execution_count": 52,
     "metadata": {},
     "output_type": "execute_result"
    }
   ],
   "source": [
    "knn.predict_proba(X_test[:2])"
   ]
  },
  {
   "cell_type": "markdown",
   "metadata": {},
   "source": [
    "In turn, this means that the classed predicted by KNN are:"
   ]
  },
  {
   "cell_type": "code",
   "execution_count": 53,
   "metadata": {},
   "outputs": [
    {
     "data": {
      "text/plain": [
       "array([0, 0], dtype=int64)"
      ]
     },
     "execution_count": 53,
     "metadata": {},
     "output_type": "execute_result"
    }
   ],
   "source": [
    "knn.predict(X_test[:2])"
   ]
  },
  {
   "cell_type": "markdown",
   "metadata": {},
   "source": [
    "Now we want to plot the ROC curve for the test data."
   ]
  },
  {
   "cell_type": "code",
   "execution_count": 54,
   "metadata": {},
   "outputs": [
    {
     "data": {
      "image/png": "[encoded data removed]",
      "text/plain": [
       "<Figure size 360x360 with 1 Axes>"
      ]
     },
     "metadata": {
      "needs_background": "light"
     },
     "output_type": "display_data"
    }
   ],
   "source": [
    "knn_probs = knn.predict_proba(X_test)[:,1]\n",
    "fpr, tpr, thresholds = roc_curve(y_test, knn_probs)\n",
    "plt.figure(figsize=(5,5))\n",
    "plot_roc(fpr, tpr)"
   ]
  },
  {
   "cell_type": "markdown",
   "metadata": {},
   "source": [
    "It is clear that the area under the curve is much smaller compared to decision tree. We will see its exact AUC score below."
   ]
  },
  {
   "cell_type": "code",
   "execution_count": 55,
   "metadata": {},
   "outputs": [
    {
     "data": {
      "text/plain": [
       "0.7203122548898191"
      ]
     },
     "execution_count": 55,
     "metadata": {},
     "output_type": "execute_result"
    }
   ],
   "source": [
    "from sklearn.metrics import roc_auc_score\n",
    "roc_auc_score(y_test, knn_probs)"
   ]
  },
  {
   "cell_type": "markdown",
   "metadata": {},
   "source": [
    "Thus, the AUC score for KNN with k=5 by default is much lower than the AUC score for Decision Tree (0.85)."
   ]
  },
  {
   "cell_type": "markdown",
   "metadata": {},
   "source": [
    "**Logistic Regression**\n",
    "\n",
    "First, we will try to fit logistics regression without regularization."
   ]
  },
  {
   "cell_type": "code",
   "execution_count": 66,
   "metadata": {},
   "outputs": [
    {
     "data": {
      "text/plain": [
       "LogisticRegression(C=1.0, class_weight=None, dual=False, fit_intercept=True,\n",
       "                   intercept_scaling=1, l1_ratio=None, max_iter=10000,\n",
       "                   multi_class='warn', n_jobs=None, penalty='none',\n",
       "                   random_state=1, solver='saga', tol=0.0001, verbose=0,\n",
       "                   warm_start=False)"
      ]
     },
     "execution_count": 66,
     "metadata": {},
     "output_type": "execute_result"
    }
   ],
   "source": [
    "from sklearn.linear_model import LogisticRegression\n",
    "lr_model = LogisticRegression(penalty='none', solver='saga', max_iter=10000, random_state=1)\n",
    "lr_model.fit(X_train,y_train)"
   ]
  },
  {
   "cell_type": "markdown",
   "metadata": {},
   "source": [
    "We can obtain the predicted probabilities for the first five units in the training set."
   ]
  },
  {
   "cell_type": "code",
   "execution_count": 67,
   "metadata": {},
   "outputs": [
    {
     "data": {
      "text/plain": [
       "array([[0.75078141, 0.24921859],\n",
       "       [0.96203885, 0.03796115],\n",
       "       [0.74932641, 0.25067359],\n",
       "       [0.74091838, 0.25908162],\n",
       "       [0.9608356 , 0.0391644 ]])"
      ]
     },
     "execution_count": 67,
     "metadata": {},
     "output_type": "execute_result"
    }
   ],
   "source": [
    "lr_model.predict_proba(X_train[:5])"
   ]
  },
  {
   "cell_type": "markdown",
   "metadata": {},
   "source": [
    "In the first position we have the probability for \"Class 0\" and in the second position the probability for \"Class 1\". "
   ]
  },
  {
   "cell_type": "code",
   "execution_count": 68,
   "metadata": {},
   "outputs": [
    {
     "data": {
      "text/plain": [
       "array([0, 1], dtype=int64)"
      ]
     },
     "execution_count": 68,
     "metadata": {},
     "output_type": "execute_result"
    }
   ],
   "source": [
    "lr_model.classes_"
   ]
  },
  {
   "cell_type": "markdown",
   "metadata": {},
   "source": [
    "We want to evaluate its AUC score."
   ]
  },
  {
   "cell_type": "code",
   "execution_count": 69,
   "metadata": {},
   "outputs": [
    {
     "data": {
      "text/plain": [
       "0.7734294371651022"
      ]
     },
     "execution_count": 69,
     "metadata": {},
     "output_type": "execute_result"
    }
   ],
   "source": [
    "lr_prob = lr_model.predict_proba(X_test)[:,1]\n",
    "roc_auc_score(y_test, lr_prob)"
   ]
  },
  {
   "cell_type": "markdown",
   "metadata": {},
   "source": [
    "We can see that the AUC score for logistic regression with no regulalization gives a higher score than KNN but lower score than decision tree."
   ]
  },
  {
   "cell_type": "markdown",
   "metadata": {},
   "source": [
    "Since regularization helps to tune the complexity of the model by adding a penalty term to the objective function to optimize, we will try to perform logistic regression with **ridge penalty**."
   ]
  },
  {
   "cell_type": "code",
   "execution_count": 74,
   "metadata": {},
   "outputs": [
    {
     "data": {
      "text/plain": [
       "LogisticRegression(C=1.0, class_weight=None, dual=False, fit_intercept=True,\n",
       "                   intercept_scaling=1, l1_ratio=None, max_iter=1000,\n",
       "                   multi_class='warn', n_jobs=None, penalty='l2',\n",
       "                   random_state=1, solver='lbfgs', tol=0.0001, verbose=0,\n",
       "                   warm_start=False)"
      ]
     },
     "execution_count": 74,
     "metadata": {},
     "output_type": "execute_result"
    }
   ],
   "source": [
    "lr_rid = LogisticRegression(penalty=\"l2\", solver='lbfgs', max_iter=1000, random_state=1)\n",
    "lr_rid.fit(X_train, y_train)"
   ]
  },
  {
   "cell_type": "markdown",
   "metadata": {},
   "source": [
    "Then we eveluate the AUC score on the test set."
   ]
  },
  {
   "cell_type": "code",
   "execution_count": 75,
   "metadata": {},
   "outputs": [
    {
     "data": {
      "text/plain": [
       "0.7709195089127221"
      ]
     },
     "execution_count": 75,
     "metadata": {},
     "output_type": "execute_result"
    }
   ],
   "source": [
    "lr_rid_prob = lr_rid.predict_proba(X_test)[:,1]\n",
    "roc_auc_score(y_test, lr_rid_prob)"
   ]
  },
  {
   "cell_type": "markdown",
   "metadata": {},
   "source": [
    "The AUC score for ridge regression does not realy improve as the model without regularization."
   ]
  },
  {
   "cell_type": "markdown",
   "metadata": {},
   "source": [
    "We now perform logistic regression model with **lasso penalty**."
   ]
  },
  {
   "cell_type": "code",
   "execution_count": 77,
   "metadata": {},
   "outputs": [
    {
     "data": {
      "text/plain": [
       "LogisticRegression(C=1.0, class_weight=None, dual=False, fit_intercept=True,\n",
       "                   intercept_scaling=1, l1_ratio=None, max_iter=1000,\n",
       "                   multi_class='warn', n_jobs=None, penalty='l1',\n",
       "                   random_state=1, solver='saga', tol=0.0001, verbose=0,\n",
       "                   warm_start=False)"
      ]
     },
     "execution_count": 77,
     "metadata": {},
     "output_type": "execute_result"
    }
   ],
   "source": [
    "lr_las = LogisticRegression(penalty=\"l1\", solver='saga', max_iter=1000, random_state=1)\n",
    "lr_las.fit(X_train, y_train)"
   ]
  },
  {
   "cell_type": "markdown",
   "metadata": {},
   "source": [
    "And then evaluate its AUC score."
   ]
  },
  {
   "cell_type": "code",
   "execution_count": 78,
   "metadata": {},
   "outputs": [
    {
     "data": {
      "text/plain": [
       "0.7708121764545612"
      ]
     },
     "execution_count": 78,
     "metadata": {},
     "output_type": "execute_result"
    }
   ],
   "source": [
    "lr_las_prob = lr_las.predict_proba(X_test)[:,1]\n",
    "roc_auc_score(y_test, lr_las_prob)"
   ]
  },
  {
   "cell_type": "markdown",
   "metadata": {},
   "source": [
    "As seen above, logistic regression does not give a really high AUC score with or without regularization. The score (0.77) is higher than the score for KNN (0.72) but smaller than the score for decision tree (0.85)."
   ]
  },
  {
   "cell_type": "markdown",
   "metadata": {},
   "source": [
    "**Neutral Networks**\n",
    "\n",
    "Now, we want to perform classification by training a neutral network. We will use the default values from `MLPClassifier`."
   ]
  },
  {
   "cell_type": "code",
   "execution_count": 92,
   "metadata": {},
   "outputs": [
    {
     "name": "stderr",
     "output_type": "stream",
     "text": [
      "C:\\Users\\Admin\\Anaconda3\\lib\\site-packages\\sklearn\\neural_network\\multilayer_perceptron.py:566: ConvergenceWarning: Stochastic Optimizer: Maximum iterations (200) reached and the optimization hasn't converged yet.\n",
      "  % self.max_iter, ConvergenceWarning)\n"
     ]
    },
    {
     "data": {
      "text/plain": [
       "MLPClassifier(activation='relu', alpha=0.0001, batch_size='auto', beta_1=0.9,\n",
       "              beta_2=0.999, early_stopping=False, epsilon=1e-08,\n",
       "              hidden_layer_sizes=(100,), learning_rate='constant',\n",
       "              learning_rate_init=0.001, max_iter=200, momentum=0.9,\n",
       "              n_iter_no_change=10, nesterovs_momentum=True, power_t=0.5,\n",
       "              random_state=1, shuffle=True, solver='adam', tol=0.0001,\n",
       "              validation_fraction=0.1, verbose=False, warm_start=False)"
      ]
     },
     "execution_count": 92,
     "metadata": {},
     "output_type": "execute_result"
    }
   ],
   "source": [
    "from sklearn.neural_network import MLPClassifier\n",
    "\n",
    "model = MLPClassifier(random_state=1)\n",
    "\n",
    "model.fit(X_train, y_train)"
   ]
  },
  {
   "cell_type": "markdown",
   "metadata": {},
   "source": [
    "We can see the predicted probabilities of the first five test units."
   ]
  },
  {
   "cell_type": "code",
   "execution_count": 89,
   "metadata": {},
   "outputs": [
    {
     "data": {
      "text/plain": [
       "array([[9.94781262e-01, 5.21873797e-03],\n",
       "       [4.44089210e-16, 1.00000000e+00],\n",
       "       [9.98786777e-01, 1.21322288e-03],\n",
       "       [4.71222915e-06, 9.99995288e-01],\n",
       "       [9.95144621e-01, 4.85537907e-03]])"
      ]
     },
     "execution_count": 89,
     "metadata": {},
     "output_type": "execute_result"
    }
   ],
   "source": [
    "model.predict_proba(X_test[:5])"
   ]
  },
  {
   "cell_type": "markdown",
   "metadata": {},
   "source": [
    "And their predicted classes."
   ]
  },
  {
   "cell_type": "code",
   "execution_count": 90,
   "metadata": {},
   "outputs": [
    {
     "data": {
      "text/plain": [
       "array([0, 1, 0, 1, 0], dtype=int64)"
      ]
     },
     "execution_count": 90,
     "metadata": {},
     "output_type": "execute_result"
    }
   ],
   "source": [
    "model.predict(X_test[:5])"
   ]
  },
  {
   "cell_type": "markdown",
   "metadata": {},
   "source": [
    "Finally we calculate the AUC score."
   ]
  },
  {
   "cell_type": "code",
   "execution_count": 93,
   "metadata": {},
   "outputs": [
    {
     "data": {
      "text/plain": [
       "0.8823636258555635"
      ]
     },
     "execution_count": 93,
     "metadata": {},
     "output_type": "execute_result"
    }
   ],
   "source": [
    "model_prob = model.predict_proba(X_test)[:,1]\n",
    "roc_auc_score(y_test, model_prob)"
   ]
  },
  {
   "cell_type": "markdown",
   "metadata": {},
   "source": [
    "The AUC score of Neural Networks with all the default values is the highest from the one we have seen so far. Thus, it can be one of the promissing models we want to tune."
   ]
  },
  {
   "cell_type": "markdown",
   "metadata": {},
   "source": [
    "**Random Forest**\n",
    "\n",
    "We are going to classify our dataset using Random Forest."
   ]
  },
  {
   "cell_type": "code",
   "execution_count": 94,
   "metadata": {},
   "outputs": [
    {
     "name": "stderr",
     "output_type": "stream",
     "text": [
      "C:\\Users\\Admin\\Anaconda3\\lib\\site-packages\\sklearn\\ensemble\\forest.py:245: FutureWarning: The default value of n_estimators will change from 10 in version 0.20 to 100 in 0.22.\n",
      "  \"10 in version 0.20 to 100 in 0.22.\", FutureWarning)\n"
     ]
    },
    {
     "data": {
      "text/plain": [
       "RandomForestClassifier(bootstrap=True, class_weight=None, criterion='gini',\n",
       "                       max_depth=None, max_features='auto', max_leaf_nodes=None,\n",
       "                       min_impurity_decrease=0.0, min_impurity_split=None,\n",
       "                       min_samples_leaf=1, min_samples_split=2,\n",
       "                       min_weight_fraction_leaf=0.0, n_estimators=10,\n",
       "                       n_jobs=None, oob_score=False, random_state=1, verbose=0,\n",
       "                       warm_start=False)"
      ]
     },
     "execution_count": 94,
     "metadata": {},
     "output_type": "execute_result"
    }
   ],
   "source": [
    "from sklearn.ensemble import RandomForestClassifier \n",
    "rfc = RandomForestClassifier(random_state=1)\n",
    "rfc.fit(X_train, y_train)"
   ]
  },
  {
   "cell_type": "markdown",
   "metadata": {},
   "source": [
    "Then, we can retrieve the feature importance."
   ]
  },
  {
   "cell_type": "code",
   "execution_count": 95,
   "metadata": {},
   "outputs": [
    {
     "data": {
      "text/plain": [
       "array([0.02624457, 0.00846238, 0.08878262, 0.02330441, 0.03931711,\n",
       "       0.03647434, 0.13304158, 0.02740029, 0.13322774, 0.06345206,\n",
       "       0.02500351, 0.06584594, 0.04270552, 0.02879401, 0.03488934,\n",
       "       0.04237715, 0.04170198, 0.03306418, 0.10591127])"
      ]
     },
     "execution_count": 95,
     "metadata": {},
     "output_type": "execute_result"
    }
   ],
   "source": [
    "rfc.feature_importances_"
   ]
  },
  {
   "cell_type": "code",
   "execution_count": 101,
   "metadata": {},
   "outputs": [
    {
     "data": {
      "text/plain": [
       "Index(['state', 'area_code', 'international_plan', 'voice_mail_plan',\n",
       "       'account_length', 'number_vmail_messages', 'total_day_minutes',\n",
       "       'total_day_calls', 'total_day_charge', 'total_eve_minutes',\n",
       "       'total_eve_calls', 'total_eve_charge', 'total_night_minutes',\n",
       "       'total_night_calls', 'total_night_charge', 'total_intl_minutes',\n",
       "       'total_intl_calls', 'total_intl_charge',\n",
       "       'number_customer_service_calls'],\n",
       "      dtype='object')"
      ]
     },
     "execution_count": 101,
     "metadata": {},
     "output_type": "execute_result"
    }
   ],
   "source": [
    "X_train.columns"
   ]
  },
  {
   "cell_type": "markdown",
   "metadata": {},
   "source": [
    "This is telling us that the most important features of the model are `total_day_minutes` and `total_day_charge`. On the other hand, the least important feature is `area_code`."
   ]
  },
  {
   "cell_type": "markdown",
   "metadata": {},
   "source": [
    "Now we are eveluating its AUC score."
   ]
  },
  {
   "cell_type": "code",
   "execution_count": 102,
   "metadata": {},
   "outputs": [
    {
     "data": {
      "text/plain": [
       "0.8709574880902253"
      ]
     },
     "execution_count": 102,
     "metadata": {},
     "output_type": "execute_result"
    }
   ],
   "source": [
    "rfc_prob = rfc.predict_proba(X_test)[:,1]\n",
    "roc_auc_score(y_test, rfc_prob)"
   ]
  },
  {
   "cell_type": "markdown",
   "metadata": {},
   "source": [
    "The AUC score for Random Forest is 0.87, which is comparatively as high as the score we have for Neutral Networks. This is considered as a promissing model."
   ]
  },
  {
   "cell_type": "markdown",
   "metadata": {},
   "source": [
    "**AdaBoost**\n",
    "\n",
    "We will try to predict the classes using AdaBoost with the default values."
   ]
  },
  {
   "cell_type": "code",
   "execution_count": 103,
   "metadata": {},
   "outputs": [
    {
     "data": {
      "text/plain": [
       "AdaBoostClassifier(algorithm='SAMME.R', base_estimator=None, learning_rate=1.0,\n",
       "                   n_estimators=50, random_state=1)"
      ]
     },
     "execution_count": 103,
     "metadata": {},
     "output_type": "execute_result"
    }
   ],
   "source": [
    "from sklearn.tree import DecisionTreeClassifier\n",
    "from sklearn.ensemble import AdaBoostClassifier\n",
    "ada = AdaBoostClassifier(random_state=1)\n",
    "ada.fit(X_train, y_train)"
   ]
  },
  {
   "cell_type": "markdown",
   "metadata": {},
   "source": [
    "Next, we can check the feature importance according to AdaBoost."
   ]
  },
  {
   "cell_type": "code",
   "execution_count": 104,
   "metadata": {},
   "outputs": [
    {
     "data": {
      "text/plain": [
       "array([0.02, 0.  , 0.04, 0.02, 0.06, 0.04, 0.16, 0.04, 0.06, 0.06, 0.02,\n",
       "       0.12, 0.06, 0.08, 0.02, 0.04, 0.06, 0.04, 0.06])"
      ]
     },
     "execution_count": 104,
     "metadata": {},
     "output_type": "execute_result"
    }
   ],
   "source": [
    "ada.feature_importances_"
   ]
  },
  {
   "cell_type": "markdown",
   "metadata": {},
   "source": [
    "In this case, the biggest contribution is given by feature `total_day_minutes`, followed by `total_eve_charge`."
   ]
  },
  {
   "cell_type": "markdown",
   "metadata": {},
   "source": [
    "Finally, we will evaluate its AUC score."
   ]
  },
  {
   "cell_type": "code",
   "execution_count": 105,
   "metadata": {},
   "outputs": [
    {
     "data": {
      "text/plain": [
       "0.8040811103129979"
      ]
     },
     "execution_count": 105,
     "metadata": {},
     "output_type": "execute_result"
    }
   ],
   "source": [
    "ada_prob = ada.predict_proba(X_test)[:,1]\n",
    "roc_auc_score(y_test, ada_prob)"
   ]
  },
  {
   "cell_type": "markdown",
   "metadata": {},
   "source": [
    "The AUC score for this model is quite low compared to other models we have seen."
   ]
  },
  {
   "cell_type": "markdown",
   "metadata": {},
   "source": [
    "**Conclusion**\n",
    "\n",
    "We have tried many different models: Decision Tree, K-Nearest-Neighbor, Logistic Regression, Neutral Networks, Random Forest, AdaBoost. Among all the above models, we find that Neutral Networks and Random Forest are the most promissing models. Thus, we will continue to tune the algorithms in the next step with Neural Networks and Random Forest.\n",
    "\n",
    "The hyperparameters to tune are:\n",
    "* For Neural Network: the number of neurons in the hidden layer `hidden_layer_sizes`, the learning rate `learning_rate_init`, the optimal iterations to stop `n_iter_no_change`, the type of optimizer `solver`.\n",
    "* For Random Forest: the number of iterations `n_estimators`, the number of features to perform the splits `max_features`."
   ]
  },
  {
   "cell_type": "markdown",
   "metadata": {},
   "source": [
    "#### c. Model Selection Method\n",
    "\n",
    "Model tuning is the process of finding the best machine learning model hyperparameters for a particular data set. Random Search and Grid Search are two uniformed methods for hyperparameter tuning and Scikit Learn offers these functions through `GridSearchCV` and `RandomizedSearchCV`. Both provide an automatical way to tune the hyperparameters and an easier way to work with when we have many model parameters and pipelines. They also gives the possibility to inspect the results within each models, and for each hyperparameter value. Moreover, for large datasets tuning with cross-validation is not ideal since the operation will involve a large computational cost.\n",
    "\n",
    "Given the large number of hyperparameters that need to be optimized as stated in the section above, we will use Random Search instead of Grid Search. The reason is that Grid Search takes more time and resources when it comes to dimensionality since the number of hyperparameters to evaluate grows exponentially. Moreover, if the optimal parameter is not found since we do not have it in our grid, more time is spent to find the near best solution until it reaches the last set sample. \n",
    "\n",
    "Thus, we will use **Random Search** to tune the hyperparameters in the next part. Together with the model tuning method, we will use the scoring `auc_roc` from the metrics library (as stated in the Problem Framing part)."
   ]
  },
  {
   "cell_type": "markdown",
   "metadata": {},
   "source": [
    "### 4. Results"
   ]
  },
  {
   "cell_type": "markdown",
   "metadata": {},
   "source": [
    "**Tuning the best models**\n",
    "\n",
    "In this section, we will continue with the promissing models as stated in the previous part. We will try to tune each model hyperparameters using Random Search such that it returns the best AUC score on cross validation of the training data.\n"
   ]
  },
  {
   "cell_type": "markdown",
   "metadata": {},
   "source": [
    "* **Neural Networks** \n",
    "\n",
    "We will first initialize the random grid."
   ]
  },
  {
   "cell_type": "code",
   "execution_count": 124,
   "metadata": {},
   "outputs": [],
   "source": [
    "from scipy.stats import reciprocal\n",
    "from sklearn.model_selection import RandomizedSearchCV\n",
    "\n",
    "param_distribs = {\n",
    "    \"hidden_layer_sizes\": [i for i in range(1, 20)],\n",
    "    \"learning_rate_init\": reciprocal(1e-4, 9e-1),\n",
    "    \"n_iter_no_change\": [50, 100, 500, 1000, 2000],\n",
    "    \"solver\" : [\"sgd\", \"adam\"]\n",
    "}"
   ]
  },
  {
   "cell_type": "markdown",
   "metadata": {},
   "source": [
    "Now we will run RandomizedSearchCV with AUC scoring. For the search, we are going to perform cross-validation with 4-fold CV, 10 iterations and the maximum number of epochs for the neural network is set equal to 10000."
   ]
  },
  {
   "cell_type": "code",
   "execution_count": 127,
   "metadata": {},
   "outputs": [
    {
     "name": "stdout",
     "output_type": "stream",
     "text": [
      "Fitting 4 folds for each of 10 candidates, totalling 40 fits\n"
     ]
    },
    {
     "name": "stderr",
     "output_type": "stream",
     "text": [
      "[Parallel(n_jobs=-1)]: Using backend LokyBackend with 8 concurrent workers.\n",
      "[Parallel(n_jobs=-1)]: Done  40 out of  40 | elapsed:  3.6min finished\n"
     ]
    },
    {
     "data": {
      "text/plain": [
       "RandomizedSearchCV(cv=4, error_score='raise-deprecating',\n",
       "                   estimator=MLPClassifier(activation='relu', alpha=0.0001,\n",
       "                                           batch_size='auto', beta_1=0.9,\n",
       "                                           beta_2=0.999, early_stopping=False,\n",
       "                                           epsilon=1e-08,\n",
       "                                           hidden_layer_sizes=(100,),\n",
       "                                           learning_rate='constant',\n",
       "                                           learning_rate_init=0.001,\n",
       "                                           max_iter=10000, momentum=0.9,\n",
       "                                           n_iter_no_change=10,\n",
       "                                           nesterovs_momentum=True, power_t=0.5,\n",
       "                                           ra...\n",
       "                   param_distributions={'hidden_layer_sizes': [1, 2, 3, 4, 5, 6,\n",
       "                                                               7, 8, 9, 10, 11,\n",
       "                                                               12, 13, 14, 15,\n",
       "                                                               16, 17, 18, 19],\n",
       "                                        'learning_rate_init': <scipy.stats._distn_infrastructure.rv_frozen object at 0x00000228BF07D208>,\n",
       "                                        'n_iter_no_change': [50, 100, 500, 1000,\n",
       "                                                             2000],\n",
       "                                        'solver': ['sgd', 'adam']},\n",
       "                   pre_dispatch='2*n_jobs', random_state=1, refit=True,\n",
       "                   return_train_score=False, scoring='roc_auc', verbose=1)"
      ]
     },
     "execution_count": 127,
     "metadata": {},
     "output_type": "execute_result"
    }
   ],
   "source": [
    "nn_search = RandomizedSearchCV(MLPClassifier(max_iter=10000, random_state=1), \n",
    "                               param_distribs, scoring='roc_auc', n_iter=10, cv=4, \n",
    "                               n_jobs=-1, iid=False, random_state=1, verbose=1)\n",
    "nn_search.fit(X_train, y_train)"
   ]
  },
  {
   "cell_type": "markdown",
   "metadata": {},
   "source": [
    "The best set of hyperparameters is:"
   ]
  },
  {
   "cell_type": "code",
   "execution_count": 128,
   "metadata": {},
   "outputs": [
    {
     "data": {
      "text/plain": [
       "{'hidden_layer_sizes': 8,\n",
       " 'learning_rate_init': 0.0017352226533547332,\n",
       " 'n_iter_no_change': 100,\n",
       " 'solver': 'adam'}"
      ]
     },
     "execution_count": 128,
     "metadata": {},
     "output_type": "execute_result"
    }
   ],
   "source": [
    "nn_search.best_params_"
   ]
  },
  {
   "cell_type": "markdown",
   "metadata": {},
   "source": [
    "This produces the CV accuracy:"
   ]
  },
  {
   "cell_type": "code",
   "execution_count": 129,
   "metadata": {},
   "outputs": [
    {
     "data": {
      "text/plain": [
       "0.8865246550418588"
      ]
     },
     "execution_count": 129,
     "metadata": {},
     "output_type": "execute_result"
    }
   ],
   "source": [
    "nn_search.best_score_"
   ]
  },
  {
   "cell_type": "markdown",
   "metadata": {},
   "source": [
    "* **Random Forest** \n",
    "\n",
    "We will perform Random Search with AUC scoring, 10-fold cross-validation and 50 iterations."
   ]
  },
  {
   "cell_type": "code",
   "execution_count": 131,
   "metadata": {},
   "outputs": [
    {
     "name": "stderr",
     "output_type": "stream",
     "text": [
      "C:\\Users\\Admin\\Anaconda3\\lib\\site-packages\\sklearn\\model_selection\\_search.py:266: UserWarning: The total space of parameters 12 is smaller than n_iter=50. Running 12 iterations. For exhaustive searches, use GridSearchCV.\n",
      "  % (grid_size, self.n_iter, grid_size), UserWarning)\n",
      "[Parallel(n_jobs=-1)]: Using backend LokyBackend with 8 concurrent workers.\n"
     ]
    },
    {
     "name": "stdout",
     "output_type": "stream",
     "text": [
      "Fitting 10 folds for each of 12 candidates, totalling 120 fits\n"
     ]
    },
    {
     "name": "stderr",
     "output_type": "stream",
     "text": [
      "[Parallel(n_jobs=-1)]: Done  34 tasks      | elapsed:   18.4s\n",
      "[Parallel(n_jobs=-1)]: Done 120 out of 120 | elapsed:  1.3min finished\n"
     ]
    },
    {
     "data": {
      "text/plain": [
       "RandomizedSearchCV(cv=10, error_score='raise-deprecating',\n",
       "                   estimator=RandomForestClassifier(bootstrap=True,\n",
       "                                                    class_weight=None,\n",
       "                                                    criterion='gini',\n",
       "                                                    max_depth=None,\n",
       "                                                    max_features='auto',\n",
       "                                                    max_leaf_nodes=None,\n",
       "                                                    min_impurity_decrease=0.0,\n",
       "                                                    min_impurity_split=None,\n",
       "                                                    min_samples_leaf=1,\n",
       "                                                    min_samples_split=2,\n",
       "                                                    min_weight_fraction_leaf=0.0,\n",
       "                                                    n_estimators='warn',\n",
       "                                                    n_jobs=None,\n",
       "                                                    oob_score=False,\n",
       "                                                    random_state=1, verbose=0,\n",
       "                                                    warm_start=False),\n",
       "                   iid=False, n_iter=50, n_jobs=-1,\n",
       "                   param_distributions={'max_features': [2, 3, 'sqrt'],\n",
       "                                        'n_estimators': [50, 100, 500, 1000]},\n",
       "                   pre_dispatch='2*n_jobs', random_state=1, refit=True,\n",
       "                   return_train_score=False, scoring='roc_auc', verbose=1)"
      ]
     },
     "execution_count": 131,
     "metadata": {},
     "output_type": "execute_result"
    }
   ],
   "source": [
    "search_grid = {\n",
    "    'n_estimators': [50, 100, 500, 1000],\n",
    "    'max_features': [2, 3, \"sqrt\"]\n",
    "}\n",
    "\n",
    "rf_search = RandomizedSearchCV(RandomForestClassifier(random_state=1), search_grid, scoring='roc_auc',\n",
    "                                   n_iter=50, cv=10, n_jobs=-1, iid=False, random_state=1, verbose=1)\n",
    "rf_search.fit(X_train, y_train)"
   ]
  },
  {
   "cell_type": "markdown",
   "metadata": {},
   "source": [
    "The best set of hyperparameters is:"
   ]
  },
  {
   "cell_type": "code",
   "execution_count": 132,
   "metadata": {},
   "outputs": [
    {
     "data": {
      "text/plain": [
       "{'n_estimators': 100, 'max_features': 3}"
      ]
     },
     "execution_count": 132,
     "metadata": {},
     "output_type": "execute_result"
    }
   ],
   "source": [
    "rf_search.best_params_"
   ]
  },
  {
   "cell_type": "markdown",
   "metadata": {},
   "source": [
    "The best model randomly selects 3 features at each split and this forest is composed of 100 trees."
   ]
  },
  {
   "cell_type": "markdown",
   "metadata": {},
   "source": [
    "This produces the CV accuracy:"
   ]
  },
  {
   "cell_type": "code",
   "execution_count": 133,
   "metadata": {},
   "outputs": [
    {
     "data": {
      "text/plain": [
       "0.9092113387832589"
      ]
     },
     "execution_count": 133,
     "metadata": {},
     "output_type": "execute_result"
    }
   ],
   "source": [
    "rf_search.best_score_"
   ]
  },
  {
   "cell_type": "markdown",
   "metadata": {},
   "source": [
    "We can check the feature importance of the best Random Forest model."
   ]
  },
  {
   "cell_type": "code",
   "execution_count": 137,
   "metadata": {},
   "outputs": [
    {
     "data": {
      "image/png": "[encoded data removed]",
      "text/plain": [
       "<Figure size 576x360 with 1 Axes>"
      ]
     },
     "metadata": {
      "needs_background": "light"
     },
     "output_type": "display_data"
    }
   ],
   "source": [
    "importances = rf_search.best_estimator_.feature_importances_\n",
    "ind_sort = np.argsort(importances)\n",
    "\n",
    "plt.figure(figsize=(8,5))\n",
    "plt.barh(np.arange(1, X_train.shape[1]+1, 1), importances[ind_sort])\n",
    "plt.yticks(np.arange(1, X_train.shape[1]+1, 1), labels=X_train.columns[list(ind_sort)])\n",
    "plt.title('Feature Importance of the best Random Forest model')\n",
    "plt.show()"
   ]
  },
  {
   "cell_type": "markdown",
   "metadata": {},
   "source": [
    "We can see that the most important features are `total_day_minutes` and `total_day_charge`, followed by `number_customer_service_calls`. On the other hand, the least important feature is `area_code`."
   ]
  },
  {
   "cell_type": "markdown",
   "metadata": {},
   "source": [
    "**Plotting the results on the traning data**\n",
    "\n",
    "We will plot the ROC curve for the best two models on the training data."
   ]
  },
  {
   "cell_type": "code",
   "execution_count": 146,
   "metadata": {},
   "outputs": [
    {
     "data": {
      "image/png": "[encoded data removed]",
      "text/plain": [
       "<Figure size 360x360 with 1 Axes>"
      ]
     },
     "metadata": {
      "needs_background": "light"
     },
     "output_type": "display_data"
    }
   ],
   "source": [
    "nn_pr = nn_search.best_estimator_.predict_proba(X_train)[:,1]\n",
    "rf_pr = rf_search.best_estimator_.predict_proba(X_train)[:,1]\n",
    "\n",
    "fpr_nn, tpr_nn, thresholds = roc_curve(y_train, nn_pr)\n",
    "fpr_rf, tpr_rf, thresholds = roc_curve(y_train, rf_pr)\n",
    "\n",
    "plt.figure(figsize=(5,5))\n",
    "plt.plot(fpr_nn, tpr_nn, linewidth=2, label='Best Neural Networks Model')\n",
    "plot_roc(fpr_rf, tpr_rf, label='Best Random Forest Model')\n",
    "plt.legend()\n",
    "plt.show()"
   ]
  },
  {
   "cell_type": "markdown",
   "metadata": {},
   "source": [
    "As seen above, the curve for the Random Forest reaches the maximum AUC score equal to 1 for the training dataset. This might be because the tree has grown until maximum possible depth when all leaves are pure. Thus, this perfectly fits the training set but it can perform worse on the testing dataset due to the ability to generalize."
   ]
  },
  {
   "cell_type": "markdown",
   "metadata": {},
   "source": [
    "### 5. Application to the test dataset\n",
    "\n",
    "We will evaluate the results of the best models on the test data."
   ]
  },
  {
   "cell_type": "markdown",
   "metadata": {},
   "source": [
    "First, we will assess the AUC accuracy on the test set of the best Neural Networks model found by RandomizedSearch."
   ]
  },
  {
   "cell_type": "code",
   "execution_count": 140,
   "metadata": {},
   "outputs": [
    {
     "data": {
      "text/plain": [
       "0.8671059041108332"
      ]
     },
     "execution_count": 140,
     "metadata": {},
     "output_type": "execute_result"
    }
   ],
   "source": [
    "nn_prob = nn_search.best_estimator_.predict_proba(X_test)[:,1]\n",
    "roc_auc_score(y_test, nn_prob)"
   ]
  },
  {
   "cell_type": "markdown",
   "metadata": {},
   "source": [
    "This AUC score is approximately 0.87 on the test data, which is quite high.\n",
    "\n",
    "Then, we will calculate the AUC score for the best Random Forest model."
   ]
  },
  {
   "cell_type": "code",
   "execution_count": 141,
   "metadata": {},
   "outputs": [
    {
     "data": {
      "text/plain": [
       "0.8760433953384686"
      ]
     },
     "execution_count": 141,
     "metadata": {},
     "output_type": "execute_result"
    }
   ],
   "source": [
    "rf_prob = rf_search.best_estimator_.predict_proba(X_test)[:,1]\n",
    "roc_auc_score(y_test, rf_prob)"
   ]
  },
  {
   "cell_type": "markdown",
   "metadata": {},
   "source": [
    "The AUC score of the best Random Forest model is approximately 0.88, which is a little higher than the score of the best Neural Networks model.\n",
    "\n",
    "Besides, we can improve the result by increasing the number of Randomized Search iterations and expanding the hyperparameter grid to find a better ensembled model."
   ]
  },
  {
   "cell_type": "markdown",
   "metadata": {},
   "source": [
    "Finally, we will plot the ROC curve for the best two models on the test data."
   ]
  },
  {
   "cell_type": "code",
   "execution_count": 144,
   "metadata": {},
   "outputs": [
    {
     "data": {
      "image/png": "[encoded data removed]",
      "text/plain": [
       "<Figure size 360x360 with 1 Axes>"
      ]
     },
     "metadata": {
      "needs_background": "light"
     },
     "output_type": "display_data"
    }
   ],
   "source": [
    "fpr1, tpr1, thresholds = roc_curve(y_test, nn_prob)\n",
    "fpr2, tpr2, thresholds = roc_curve(y_test, rf_prob)\n",
    "\n",
    "plt.figure(figsize=(5,5))\n",
    "plt.plot(fpr1, tpr1, linewidth=2, label='Best Neural Networks Model')\n",
    "plot_roc(fpr2, tpr2, label='Best Random Forest Model')\n",
    "plt.legend()\n",
    "plt.show()"
   ]
  },
  {
   "cell_type": "markdown",
   "metadata": {},
   "source": [
    "We can see that the two models nearly present the same curve, with Random Forest having a little larger area. Compared the ROC Curve for the training and testing data, we can see that Random Forest tends to overfit the training data while Neural Network performs a more stable outcome accuracy. Thus, we cannot conclude that any model performs better than the other. However, for this dataset, Random Forest performs a little better than Neutral Networks."
   ]
  }
 ],
 "metadata": {
  "colab": {
   "collapsed_sections": [],
   "name": "Final_assignment.ipynb",
   "provenance": []
  },
  "kernelspec": {
   "display_name": "Python 3",
   "language": "python",
   "name": "python3"
  },
  "language_info": {
   "codemirror_mode": {
    "name": "ipython",
    "version": 3
   },
   "file_extension": ".py",
   "mimetype": "text/x-python",
   "name": "python",
   "nbconvert_exporter": "python",
   "pygments_lexer": "ipython3",
   "version": "3.8.5"
  }
 },
 "nbformat": 4,
 "nbformat_minor": 1
}
